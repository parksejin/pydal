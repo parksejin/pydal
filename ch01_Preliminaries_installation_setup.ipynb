{
 "cells": [
  {
   "cell_type": "markdown",
   "metadata": {},
   "source": [
    "# <div style=\"color: blue; font-size:30pt\">Installation and Setup</div>"
   ]
  },
  {
   "cell_type": "markdown",
   "metadata": {},
   "source": [
    "## 1. Python Essential Libraries"
   ]
  },
  {
   "cell_type": "markdown",
   "metadata": {},
   "source": [
    "* Python을 이용해 데이터를 분석하기에 앞서 필요한 라이브러리를 설치하여야한다.\n",
    " 1. NumPy\n",
    " 2. pandas\n",
    " 3. matplotlib\n",
    " 4. IPython\n",
    " 5. SciPy\n",
    "* 위 라이브러리는 distribution(배포판)을 이용해서 설치하거나 개별적으로 설치할 수 있다."
   ]
  },
  {
   "cell_type": "markdown",
   "metadata": {},
   "source": [
    "## 2. Distribution 이용"
   ]
  },
  {
   "cell_type": "markdown",
   "metadata": {},
   "source": [
    "### 2.1 Enthought Canopy"
   ]
  },
  {
   "cell_type": "markdown",
   "metadata": {},
   "source": [
    "* 'Python For Data Analysis' 책에서는 Enthought Python Distribution Free (EPD Free)가 나와있지만 현재는 Enthought Canopy라는 이름으로 바뀌었다.\n",
    "* Canopy Site에서 .sh 파일을 다운로드 받아 bash 파일명.sh로 설치해야한다."
   ]
  },
  {
   "cell_type": "markdown",
   "metadata": {},
   "source": [
    "### 2.2 Anaconda"
   ]
  },
  {
   "cell_type": "markdown",
   "metadata": {},
   "source": [
    "* Scientific Python Distribution인 anaconda가 있다.\n",
    "* https://store.continuum.io/cshop/anaconda/\n",
    "* 이 역시 .sh 파일을 다운로드 하여 bash 파일명.sh로 설치해야한다."
   ]
  },
  {
   "cell_type": "markdown",
   "metadata": {},
   "source": [
    "## 3. Python Package로 설치하기"
   ]
  },
  {
   "cell_type": "markdown",
   "metadata": {},
   "source": [
    "* 가상환경에서 개별적으로 설치할 수 있다. 그러나 시간이 오래걸린다."
   ]
  },
  {
   "cell_type": "markdown",
   "metadata": {},
   "source": [
    "### 3.1 Prerequisite"
   ]
  },
  {
   "cell_type": "markdown",
   "metadata": {},
   "source": [
    "sudo apt-get install python-pip python-dev build-essential"
   ]
  },
  {
   "cell_type": "markdown",
   "metadata": {},
   "source": [
    "### 3.2 Actual Packages"
   ]
  },
  {
   "cell_type": "markdown",
   "metadata": {},
   "source": [
    "#### NumPy, SciPy installation"
   ]
  },
  {
   "cell_type": "markdown",
   "metadata": {},
   "source": [
    " pip install numpy<br>\n",
    " sudo apt-get install libatlas-base-dev gfortran<br>\n",
    " pip install scipy<br>"
   ]
  },
  {
   "cell_type": "markdown",
   "metadata": {},
   "source": [
    "#### matplotlib installation"
   ]
  },
  {
   "cell_type": "markdown",
   "metadata": {},
   "source": [
    "ref: http://matplotlib.org/users/installing.html<br>\n",
    "pip install matplotlib or sudo apt-get install python-matplotlib"
   ]
  },
  {
   "cell_type": "markdown",
   "metadata": {},
   "source": [
    "#### pandas installation"
   ]
  },
  {
   "cell_type": "markdown",
   "metadata": {},
   "source": [
    "pip install pandas"
   ]
  },
  {
   "cell_type": "markdown",
   "metadata": {},
   "source": [
    "#### IPython installation"
   ]
  },
  {
   "cell_type": "markdown",
   "metadata": {},
   "source": [
    "pip install \"ipython[notebook]\"<br>\n",
    "(ipython 최신 버전인 3 버전이 설치(jupyter)된다. (2015년 3월))"
   ]
  },
  {
   "cell_type": "markdown",
   "metadata": {},
   "source": [
    "#### IPython에서 django 이용하기"
   ]
  },
  {
   "cell_type": "markdown",
   "metadata": {},
   "source": [
    "ref: https://opensourcehacker.com/2014/08/13/turbocharge-your-python-prompt-and-django-shell-with-ipython-notebook/ <br>\n",
    "pip install django_extensinos\n",
    "\n",
    "Setting:<br>\n",
    "INSTALLED_APPS에 django_extensions 추가\n",
    "\n",
    "실행하기:<br>\n",
    "python manage.py shell_plus<br>\n",
    "python manage.py shell_plus --notebook"
   ]
  },
  {
   "cell_type": "markdown",
   "metadata": {},
   "source": [
    "#### Miscellanious installation"
   ]
  },
  {
   "cell_type": "markdown",
   "metadata": {},
   "source": [
    "pip install -U scikit-learn"
   ]
  }
 ],
 "metadata": {
  "kernelspec": {
   "display_name": "Python 2",
   "language": "python",
   "name": "python2"
  },
  "language_info": {
   "codemirror_mode": {
    "name": "ipython",
    "version": 2
   },
   "file_extension": ".py",
   "mimetype": "text/x-python",
   "name": "python",
   "nbconvert_exporter": "python",
   "pygments_lexer": "ipython2",
   "version": "2.7.6"
  }
 },
 "nbformat": 4,
 "nbformat_minor": 0
}
