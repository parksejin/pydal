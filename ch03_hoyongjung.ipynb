{
 "metadata": {
  "name": "",
  "signature": "sha256:287d758e0cb1b1018509a0826a803dbc5d29b7304b9d7e4e6029bfec05f95bc1"
 },
 "nbformat": 3,
 "nbformat_minor": 0,
 "worksheets": [
  {
   "cells": [
    {
     "cell_type": "markdown",
     "metadata": {},
     "source": [
      "- \ucc38\uace0: \uc870\uadfc\uc601\ub2d8\n",
      "- http://nbviewer.ipython.org/github/re4lfl0w/ipython/blob/master/books/python_data_analysis/ch02_Introduction%20Examples.ipynb\n",
      "\n",
      "\n",
      "\n",
      "- \ud3b8\uc9d1: \uc815\ud638\uc6a9"
     ]
    },
    {
     "cell_type": "heading",
     "level": 1,
     "metadata": {},
     "source": [
      "3. IPython \uc18c\uac1c"
     ]
    },
    {
     "cell_type": "heading",
     "level": 2,
     "metadata": {},
     "source": [
      "3.1 IPython \uae30\ubcf8"
     ]
    },
    {
     "cell_type": "code",
     "collapsed": false,
     "input": [
      "a = 5"
     ],
     "language": "python",
     "metadata": {},
     "outputs": [],
     "prompt_number": 1
    },
    {
     "cell_type": "code",
     "collapsed": false,
     "input": [
      "a # \ud30c\uc774\uc36c \uc778\ud130\ud504\ub9ac\ud130\uc640 \ub9c8\ucc2c\uac00\uc9c0\ub85c \ubcc0\uc218 \uc774\ub984\uc744 \uc785\ub825\ud558\uba74 \ubb38\uc790\uc5f4 \ud45c\ud604\uc744 \ucd9c\ub825\ud55c\ub2e4."
     ],
     "language": "python",
     "metadata": {},
     "outputs": [
      {
       "metadata": {},
       "output_type": "pyout",
       "prompt_number": 2,
       "text": [
        "5"
       ]
      }
     ],
     "prompt_number": 2
    },
    {
     "cell_type": "code",
     "collapsed": false,
     "input": [
      "from numpy.random import randn"
     ],
     "language": "python",
     "metadata": {},
     "outputs": [],
     "prompt_number": 3
    },
    {
     "cell_type": "code",
     "collapsed": false,
     "input": [
      "data = {i: randn() for i in range(7)}"
     ],
     "language": "python",
     "metadata": {},
     "outputs": [],
     "prompt_number": 4
    },
    {
     "cell_type": "code",
     "collapsed": false,
     "input": [
      "data"
     ],
     "language": "python",
     "metadata": {},
     "outputs": [
      {
       "metadata": {},
       "output_type": "pyout",
       "prompt_number": 5,
       "text": [
        "{0: -1.0480705814442102,\n",
        " 1: -0.5888158350986603,\n",
        " 2: 0.5329130838111251,\n",
        " 3: -0.5657503787812523,\n",
        " 4: 1.1705998188017441,\n",
        " 5: 0.31784053646265464,\n",
        " 6: -0.3584678955261722}"
       ]
      }
     ],
     "prompt_number": 5
    },
    {
     "cell_type": "markdown",
     "metadata": {},
     "source": [
      "### Python \uc258\uc5d0\uc11c\ub3c4 IPython\ucc98\ub7fc print\uc2dc \uc77d\uae30 \ud3b8\ud55c \ud615\ud0dc\ub85c \ubcf4\uae30\n",
      "\n",
      "- \ub300\ubd80\ubd84\uc758 \ud30c\uc774\uc120 \uac1d\uccb4\ub294 print\ub97c \uc774\uc6a9\ud55c \ubcf4\ud1b5\uc758 \ucd9c\ub825 \uacb0\uacfc\uc640\ub294 \ub2ec\ub9ac \uc880 \ub354 \uc77d\uae30 \ud3b8\ud558\uac70\ub098 \ubcf4\uae30 \uc88b\uc740 \ud615\ud0dc\ub85c \ucd9c\ub825\ub41c\ub2e4.\n",
      "- \uae30\ubcf8 \ud30c\uc774\uc36c\uc5d0\uc11c\ub294 \uc544\ub798\uc640 \uac19\uc774 \uc77d\uae30 \uc5b4\ub835\uac8c \ucd9c\ub825\ub41c\ub2e4."
     ]
    },
    {
     "cell_type": "markdown",
     "metadata": {},
     "source": [
      "    >>> from numpy.random import randn\n",
      "    >>> data = {i: randn() for i in range(7)}\n",
      "    >>> data\n",
      "    {0: 0.15704031900582283, 1: 1.4572292651930963, 2: 0.670018652279804, 3: -0.28682608547409777, 4: 0.848409943727261, 5: -1.3015998921226193, 6: 0.2741861195113033}"
     ]
    },
    {
     "cell_type": "markdown",
     "metadata": {},
     "source": [
      "- \uc774\uac83\uc744 IPython \ucc98\ub7fc \uc608\uc058\uac8c \ubcf4\uae30 \uc704\ud574\uc11c\ub294 pprint\ub97c \uc0ac\uc6a9\ud558\uba74 \ub41c\ub2e4."
     ]
    },
    {
     "cell_type": "markdown",
     "metadata": {},
     "source": [
      "    >>> from pprint import pprint\n",
      "    >>> pprint(data)\n",
      "    {0: 0.15704031900582283,\n",
      "     1: 1.4572292651930963,\n",
      "     2: 0.670018652279804,\n",
      "     3: -0.28682608547409777,\n",
      "     4: 0.848409943727261,\n",
      "     5: -1.3015998921226193,\n",
      "     6: 0.2741861195113033}"
     ]
    },
    {
     "cell_type": "markdown",
     "metadata": {},
     "source": [
      "### 3.1.1 \ud0ed \uc790\ub3d9 \uc644\uc131\n",
      "\n",
      "- \uc258\uc5d0\uc11c \uc785\ub825\uc744 \ud558\ub294 \ub3d9\uc548 Tab \uc744 \ub204\ub974\uba74 \ub124\uc784\uc2a4\ud398\uc774\uc2a4\uc5d0\uc11c \uadf8 \uc2dc\uc810\uae4c\uc9c0 \uc785\ub825\ud55c \ub0b4\uc6a9\uacfc \ub9de\uc544\ub5a8\uc5b4\uc9c0\ub294 \ubcc0\uc218(\uac1d\uccb4, \ud568\uc218 \ub4f1)\ub97c \uc790\ub3d9\uc73c\ub85c \ucc3e\uc544\uc900\ub2e4."
     ]
    },
    {
     "cell_type": "code",
     "collapsed": false,
     "input": [
      "an_apple = 27\n",
      "an_example = 42"
     ],
     "language": "python",
     "metadata": {},
     "outputs": [],
     "prompt_number": 6
    },
    {
     "cell_type": "markdown",
     "metadata": {},
     "source": [
      "    an<Tab> // an\uc744 \uc785\ub825\ud558\uace0 \ud0ed\uc744 \ub204\ub974\uba74 \uc544\ub798\uc758 \uacb0\uacfc\uac00 \ucd9c\ub825\ub428.\n",
      "    an_applet   an_example  and         any    "
     ]
    },
    {
     "cell_type": "markdown",
     "metadata": {},
     "source": [
      "- \uc608\uc81c\uc5d0\uc11c \ud30c\uc774\uc36c \uc608\uc57d\uc5b4\uc778 and, \ub0b4\uc7a5 \ud568\uc218\uc778 any\uc640 \ud568\uaed8 \ub530\ub85c \uc815\uc758\ud55c \ub450 \ubcc0\uc218(an_apple, an_example)\ub3c4 \ubcf4\uc5ec\uc8fc\ub294 \uac83 \ud655\uc778\n",
      "- \uc5b4\ub5a4 \uac1d\uccb4\uc758 \uba54\uc11c\ub4dc\ub098 \uc18d\uc131 \ub4a4\uc5d0 \ub9c8\uce68\ud45c\ub97c \uc785\ub825\ud55c \ud6c4 \uc790\ub3d9 \uc644\uc131 \uae30\ub2a5\uc744 \ud65c\uc6a9"
     ]
    },
    {
     "cell_type": "code",
     "collapsed": false,
     "input": [
      "b = [1, 2, 3]"
     ],
     "language": "python",
     "metadata": {},
     "outputs": [],
     "prompt_number": 8
    },
    {
     "cell_type": "markdown",
     "metadata": {},
     "source": [
      "    b.<Tab>\n",
      "    b.append   b.extend   b.insert\n",
      "    ..."
     ]
    },
    {
     "cell_type": "markdown",
     "metadata": {},
     "source": [
      "- \ubaa8\ub4c8\ub3c4 \ub611\uac19\uc774 \uc791\ub3d9"
     ]
    },
    {
     "cell_type": "code",
     "collapsed": false,
     "input": [
      "import datetime"
     ],
     "language": "python",
     "metadata": {},
     "outputs": [],
     "prompt_number": 9
    },
    {
     "cell_type": "markdown",
     "metadata": {},
     "source": [
      "    datetime.<Tab>\n",
      "    datetime.MAXYEAR        datetime.MINYEAR\n",
      "    datetime.date           datetime.datetime\n",
      "    datetime.datetime_CAPI  datetime.time\n",
      "    datetime.timedelta      datetime.tzinfo"
     ]
    },
    {
     "cell_type": "markdown",
     "metadata": {},
     "source": [
      "- \uc774\uac83\uc758 \uac00\uc7a5 \uc88b\uc740 \uc7a5\uc810\uc740 \ubaa8\ub4c8\uc774\ub984\ub9cc \uc54c\uace0 \uc788\uc73c\uba74 \ub530\ub85c \ub808\ud37c\ub7f0\uc2a4 \ubb38\uc11c\ub97c \ucc3e\uc544\ubcf4\uc9c0 \uc54a\uc544\ub3c4 \uc5b4\ub5a4 \uae30\ub2a5\ub4e4\uc774 \uc788\ub294\uc9c0 \ubc14\ub85c \ud655\uc778\ud560 \uc218 \uc788\uc5b4 \uc2dc\uac04 \uc808\uc57d\ud558\uae30\uc5d0 \uad49\uc7a5\ud788 \uc88b\ub2e4.\n",
      "- < Tab >\uc744 \ub20c\ub800\uc744 \ub54c \ud654\uba74\uc5d0 \ucd9c\ub825 \uacb0\uacfc\uac00 \ub108\ubb34 \ub9ce\uc73c\uba74 \ucd08\ubcf4\uc790\ub294 \ud5f7\uac08\ub9b4 \uc218 \uc788\ub294\ub370, IPython\uc740 \uc544\uc608 \\_\ub85c \uc2dc\uc791\ud558\ub294 \ub0b4\ubd80 \uba54\uc11c\ub4dc\uc640 \uc18d\uc131\uc744 \uc81c\uc678\uc2dc\ud0a4\uace0 \ubcf4\uc5ec\uc900\ub2e4. \ubb3c\ub860 \uba3c\uc800 \\_\ub97c \uc785\ub825\ud558\uba74 \ud574\ub2f9 \uba54\uc11c\ub4dc\uc640 \uc18d\uc131\uc744 \uc120\ud0dd\ud560 \uc218 \uc788\ub2e4. \uae30\ubcf8\uc73c\ub85c \uc774\ub7f0 \uba54\uc11c\ub4dc\ub97c \ud0ed \uc790\ub3d9 \uc644\uc131\uc5d0 \ub123\uace0 \uc2f6\ub2e4\uba74 IPython \ud658\uacbd \uc124\uc815\uc5d0\uc11c \uc124\uc815 \uac00\ub2a5\n",
      "- \ud0ed \uc790\ub3d9 \uc644\uc131\uc740 \ub300\ud654\ud615 \ub124\uc784\uc2a4\ud398\uc774\uc2a4 \uac80\uc0c9\uacfc \uac1d\uccb4 \ubc0f \ubaa8\ub4c8 \uc18d\uc131\uc758 \uc790\ub3d9 \uc644\uc131\ubfd0\ub9cc \uc544\ub2c8\ub77c \ud30c\uc77c \uacbd\ub85c(\ud30c\uc774\uc36c \ubb38\uc790\uc5f4 \uc548\uc5d0\uc11c\ub3c4)\ub97c \uc785\ub825\ud55c \ud6c4 Tab\uc744 \ub204\ub974\uba74 \uc785\ub825\ud55c \ubb38\uc790\uc5f4\uc5d0 \ub9de\ub294 \ud30c\uc77c \uacbd\ub85c\ub97c \ucef4\ud4e8\ud130\uc758 \ud30c\uc77c \uc2dc\uc2a4\ud15c \uc548\uc5d0\uc11c \ucc3e\uc544\uc11c \ubcf4\uc5ec\uc900\ub2e4."
     ]
    },
    {
     "cell_type": "markdown",
     "metadata": {},
     "source": [
      "    path = '/tmp/<Tab>\n",
      "    /tmp/20140502022711/        /tmp/launch-cDn23Q/         /tmp/launch-sQsfKG/         /tmp/launchd-20363.VsYelO/  /tmp/launchd-64061.uaO30n/  "
     ]
    },
    {
     "cell_type": "markdown",
     "metadata": {},
     "source": [
      "- \ub098\uc911\uc5d0 \uc0b4\ud3b4\ubcfc %run \uba85\ub839\uc5b4\uc640 \ud568\uaed8 \uc870\ud569\ud574\uc11c \uc0ac\uc6a9\ud558\uba74 \ud0a4 \uc785\ub825\uc744 \ub300\ud3ed \uc904\uc784\n",
      "- \ub610\ud55c \uc790\ub3d9 \uc644\uc131 \uae30\ub2a5\uc744 \uc0ac\uc6a9\ud558\uba74 \ud568\uc218\uc5d0\uc11c \uc774\ub984\uc744 \uac00\uc9c4 \uc778\uc790\ub3c4 = \uae30\ud638\uae4c\uc9c0 \ud3ec\ud568\ud574\uc11c \ubcf4\uc5ec\uc900\ub2e4."
     ]
    },
    {
     "cell_type": "markdown",
     "metadata": {},
     "source": [
      "### 3.1.2 \uc790\uae30\uad00\ucc30\n",
      "\n",
      "- \ubcc0\uc218 \uc774\ub984 \uc55e\uc774\ub098 \ub4a4\uc5d0 ? \uae30\ud638\ub97c \ubd99\uc774\uba74 \uadf8 \uac1d\uccb4\uc5d0 \ub300\ud55c \uc77c\ubc18 \uc815\ubcf4\ub97c \ucd9c\ub825"
     ]
    },
    {
     "cell_type": "code",
     "collapsed": false,
     "input": [
      "b = [1, 2, 3]"
     ],
     "language": "python",
     "metadata": {},
     "outputs": [],
     "prompt_number": 10
    },
    {
     "cell_type": "code",
     "collapsed": false,
     "input": [
      "b?"
     ],
     "language": "python",
     "metadata": {},
     "outputs": [],
     "prompt_number": 12
    },
    {
     "cell_type": "markdown",
     "metadata": {},
     "source": [
      "    Type:        list\n",
      "    String form: [1, 2, 3]\n",
      "    Length:      3\n",
      "    Docstring:\n",
      "    list() -> new empty list\n",
      "    list(iterable) -> new list initialized from iterable's items"
     ]
    },
    {
     "cell_type": "markdown",
     "metadata": {},
     "source": [
      "- \uc774 \uae30\ub2a5\uc740 \uac1d\uccb4\uc758 \uc790\uae30\uad00\ucc30(Introspection) \uc774\ub77c\uace0 \ud558\ub294\ub370, \ub9cc\uc57d \uac1d\uccb4\uac00 \ud568\uc218\uac70\ub098 \uc778\uc2a4\ud134\uc2a4 \uba54\uc11c\ub4dc\ub77c\uba74 \uc815\uc758\ub418\uc5b4 \uc788\ub294 \ubb38\uc11c(docstring) \ub610\ud55c \ucd9c\ub825"
     ]
    },
    {
     "cell_type": "code",
     "collapsed": false,
     "input": [
      "def add_numbers(a, b):\n",
      "    \"\"\"\n",
      "    Add two numbers together\n",
      "    \n",
      "    Returns\n",
      "    -------\n",
      "    the_sum : type of arguments\n",
      "    \"\"\"\n",
      "    return a + b"
     ],
     "language": "python",
     "metadata": {},
     "outputs": [],
     "prompt_number": 13
    },
    {
     "cell_type": "code",
     "collapsed": false,
     "input": [
      "add_numbers?"
     ],
     "language": "python",
     "metadata": {},
     "outputs": [],
     "prompt_number": 14
    },
    {
     "cell_type": "markdown",
     "metadata": {},
     "source": [
      "    Type:        function\n",
      "    String form: <function add_numbers at 0x10838d6e0>\n",
      "    File:        SPSE/<ipython-input-8-5b88597b2522>\n",
      "    Definition:  add_numbers(a, b)\n",
      "    Docstring:\n",
      "    Add two numbers together\n",
      "\n",
      "    Returns\n",
      "    -------\n",
      "    the_sum : type of arguments"
     ]
    },
    {
     "cell_type": "markdown",
     "metadata": {},
     "source": [
      "- ??\ub97c \uc0ac\uc6a9\ud558\uba74 \ud568\uc218\uc758 \uc18c\uc2a4\ucf54\ub4dc\ub97c \ub610\ud55c \ubcf4\uc5ec\uc900\ub2e4."
     ]
    },
    {
     "cell_type": "code",
     "collapsed": false,
     "input": [
      "add_numbers??"
     ],
     "language": "python",
     "metadata": {},
     "outputs": [],
     "prompt_number": 16
    },
    {
     "cell_type": "markdown",
     "metadata": {},
     "source": [
      "    Type:        function\n",
      "    String form: <function add_numbers at 0x10838d6e0>\n",
      "    File:        /Users/re4lfl0w/Documents/SPSE/<ipython-input-8-5b88597b2522>\n",
      "    Definition:  add_numbers(a, b)\n",
      "    Source:\n",
      "    def add_numbers(a, b):\n",
      "        \"\"\"\n",
      "        Add two numbers together\n",
      "\n",
      "        Returns\n",
      "        -------\n",
      "        the_sum : type of arguments\n",
      "        \"\"\"\n",
      "        return a + b"
     ]
    },
    {
     "cell_type": "code",
     "collapsed": false,
     "input": [
      "import numpy as np"
     ],
     "language": "python",
     "metadata": {},
     "outputs": [],
     "prompt_number": 17
    },
    {
     "cell_type": "code",
     "collapsed": false,
     "input": [
      "np.*load*?"
     ],
     "language": "python",
     "metadata": {},
     "outputs": [],
     "prompt_number": 19
    },
    {
     "cell_type": "raw",
     "metadata": {},
     "source": [
      "np.load\n",
      "np.loads\n",
      "np.loadtxt\n",
      "np.pkgload"
     ]
    },
    {
     "cell_type": "markdown",
     "metadata": {},
     "source": [
      "- ? \uc55e\uc758 np.\\*load\\*\uc758 \uc758\ubbf8\ub294\n",
      "- np.\uc640 load \uc0ac\uc774\uc5d0 \uc544\ubb34 \uae00\uc790\uac00 \ub4e4\uc5b4\uac00\uac70\ub098 \ub4e4\uc5b4\uac00\uc9c0 \uc54a\uc544\ub3c4 \ub418\uba70,\n",
      "- load \ub4a4\uc5d0 \uc544\ubb34 \uae00\uc790\uac00 \ub4e4\uc5b4\uac00\uac70\ub098 \ub4e4\uc5b4\uac00\uc9c0 \uc54a\uc544\ub3c4 \ub41c\ub2e4\ub294 \uc758\ubbf8."
     ]
    },
    {
     "cell_type": "code",
     "collapsed": false,
     "input": [
      "np.*load?"
     ],
     "language": "python",
     "metadata": {},
     "outputs": [],
     "prompt_number": 23
    },
    {
     "cell_type": "raw",
     "metadata": {},
     "source": [
      "np.load\n",
      "np.pkgload"
     ]
    },
    {
     "cell_type": "markdown",
     "metadata": {},
     "source": [
      "### 3.1.3 %run \uba85\ub839\uc5b4"
     ]
    },
    {
     "cell_type": "markdown",
     "metadata": {},
     "source": [
      "- %run \uba85\ub839\uc5b4\ub97c \uc0ac\uc6a9\ud558\uba74 IPython \uc138\uc158 \uc548\uc5d0\uc11c \ud30c\uc774\uc36c \ud504\ub85c\uadf8\ub7a8\uc744 \ubd88\ub7ec\uc640 \uc2e4\ud589 \uac00\ub2a5\n",
      "- ipython_script_test.py\uc5d0 \uc774\ub7f0 \ucf54\ub4dc\uac00 \ub4e4\uc5b4\uac00 \uc788\ub2e4\uace0 \ud558\uc790."
     ]
    },
    {
     "cell_type": "markdown",
     "metadata": {},
     "source": [
      "    def f(x, y, z):\n",
      "        return (x + y) / z\n",
      "\n",
      "    a = 5\n",
      "    b = 6\n",
      "    c = 7.5\n",
      "\n",
      "    result = f(a, b, c)"
     ]
    },
    {
     "cell_type": "code",
     "collapsed": false,
     "input": [
      "%run ipython_script_test.py"
     ],
     "language": "python",
     "metadata": {},
     "outputs": [],
     "prompt_number": 26
    },
    {
     "cell_type": "code",
     "collapsed": false,
     "input": [
      "c"
     ],
     "language": "python",
     "metadata": {},
     "outputs": [
      {
       "metadata": {},
       "output_type": "pyout",
       "prompt_number": 27,
       "text": [
        "7.5"
       ]
      }
     ],
     "prompt_number": 27
    },
    {
     "cell_type": "code",
     "collapsed": false,
     "input": [
      "result"
     ],
     "language": "python",
     "metadata": {},
     "outputs": [
      {
       "metadata": {},
       "output_type": "pyout",
       "prompt_number": 28,
       "text": [
        "1.4666666666666666"
       ]
      }
     ],
     "prompt_number": 28
    },
    {
     "cell_type": "markdown",
     "metadata": {},
     "source": [
      "- \uc2a4\ud06c\ub9bd\ud2b8 \ud30c\uc77c\uc740 \ube48 \ub124\uc784\uc2a4\ud398\uc774\uc2a4(\ub2e4\ub978 \ubcc0\uc218\uac00 \uc120\uc5b8\ub418\uc5c8\uac70\ub098 \uc544\ubb34\uac83\ub3c4 import \ub418\uc9c0 \uc54a\uc740 \uc0c1\ud0dc)\uc5d0\uc11c \uc2e4\ud589\ub418\ubbc0\ub85c \uba85\ub839\ud589\uc5d0\uc11c python ipython_script_test.py \uba85\ub839\uc73c\ub85c \uc2e4\ud589\ud55c \uac83\uacfc \ub3d9\uc77c\ud558\uac8c \ub3d9\uc791\n",
      "- \uc2a4\ud06c\ub9bd\ud2b8 \ud30c\uc77c\uc5d0\uc11c \uc815\uc758\ub41c \ubaa8\ub4e0 \ubcc0\uc218(import, \ud568\uc218, \uc804\uc5ed\ubcc0\uc218)\ub294 \uc2e4\ud589\ub41c \ud6c4\uc5d0 IPython\uc5d0\uc11c \uc811\uadfc \uac00\ub2a5"
     ]
    },
    {
     "cell_type": "markdown",
     "metadata": {},
     "source": [
      "- test.py\uc758 \ub0b4\uc6a9\uc774 \uc544\ub798\uc640 \uac19\uc744 \ub54c\n",
      "\n",
      "    data = {i: np.random.randn() for i in range(7)}\n",
      "\n",
      "    print data"
     ]
    },
    {
     "cell_type": "code",
     "collapsed": false,
     "input": [
      "%run test.py"
     ],
     "language": "python",
     "metadata": {},
     "outputs": [
      {
       "ename": "NameError",
       "evalue": "global name 'np' is not defined",
       "output_type": "pyerr",
       "traceback": [
        "\u001b[1;31m---------------------------------------------------------------------------\u001b[0m\n\u001b[1;31mNameError\u001b[0m                                 Traceback (most recent call last)",
        "\u001b[1;32m/home/csi2100/Desktop/test.py\u001b[0m in \u001b[0;36m<module>\u001b[1;34m()\u001b[0m\n\u001b[1;32m----> 1\u001b[1;33m \u001b[0mdata\u001b[0m \u001b[1;33m=\u001b[0m \u001b[1;33m{\u001b[0m\u001b[0mi\u001b[0m\u001b[1;33m:\u001b[0m \u001b[0mnp\u001b[0m\u001b[1;33m.\u001b[0m\u001b[0mrandom\u001b[0m\u001b[1;33m.\u001b[0m\u001b[0mrandn\u001b[0m\u001b[1;33m(\u001b[0m\u001b[1;33m)\u001b[0m \u001b[1;32mfor\u001b[0m \u001b[0mi\u001b[0m \u001b[1;32min\u001b[0m \u001b[0mrange\u001b[0m\u001b[1;33m(\u001b[0m\u001b[1;36m7\u001b[0m\u001b[1;33m)\u001b[0m\u001b[1;33m}\u001b[0m\u001b[1;33m\u001b[0m\u001b[0m\n\u001b[0m\u001b[0;32m      2\u001b[0m \u001b[1;33m\u001b[0m\u001b[0m\n\u001b[0;32m      3\u001b[0m \u001b[1;32mprint\u001b[0m \u001b[0mdata\u001b[0m\u001b[1;33m\u001b[0m\u001b[0m\n",
        "\u001b[1;32m/home/csi2100/Desktop/test.py\u001b[0m in \u001b[0;36m<dictcomp>\u001b[1;34m((i,))\u001b[0m\n\u001b[1;32m----> 1\u001b[1;33m \u001b[0mdata\u001b[0m \u001b[1;33m=\u001b[0m \u001b[1;33m{\u001b[0m\u001b[0mi\u001b[0m\u001b[1;33m:\u001b[0m \u001b[0mnp\u001b[0m\u001b[1;33m.\u001b[0m\u001b[0mrandom\u001b[0m\u001b[1;33m.\u001b[0m\u001b[0mrandn\u001b[0m\u001b[1;33m(\u001b[0m\u001b[1;33m)\u001b[0m \u001b[1;32mfor\u001b[0m \u001b[0mi\u001b[0m \u001b[1;32min\u001b[0m \u001b[0mrange\u001b[0m\u001b[1;33m(\u001b[0m\u001b[1;36m7\u001b[0m\u001b[1;33m)\u001b[0m\u001b[1;33m}\u001b[0m\u001b[1;33m\u001b[0m\u001b[0m\n\u001b[0m\u001b[0;32m      2\u001b[0m \u001b[1;33m\u001b[0m\u001b[0m\n\u001b[0;32m      3\u001b[0m \u001b[1;32mprint\u001b[0m \u001b[0mdata\u001b[0m\u001b[1;33m\u001b[0m\u001b[0m\n",
        "\u001b[1;31mNameError\u001b[0m: global name 'np' is not defined"
       ]
      }
     ],
     "prompt_number": 29
    },
    {
     "cell_type": "code",
     "collapsed": false,
     "input": [
      "data = {i: np.random.randn() for i in range(7)}\n",
      "\n",
      "print data"
     ],
     "language": "python",
     "metadata": {},
     "outputs": [
      {
       "output_type": "stream",
       "stream": "stdout",
       "text": [
        "{0: 0.5895934180634448, 1: -1.5808675722488734, 2: -0.27603772687785283, 3: 0.2030542017234727, 4: -0.4791510713723932, 5: 0.7320868603603703, 6: 1.4668508030203917}\n"
       ]
      }
     ],
     "prompt_number": 30
    },
    {
     "cell_type": "markdown",
     "metadata": {},
     "source": [
      "- \uc704 \ucf54\ub4dc\ub97c IPython\uc5d0 \uc9c1\uc811 \uc785\ub825\ud558\uba74 \uc624\ub958\uac00 \ubc1c\uc0dd\ud558\uc9c0 \uc54a\ub294\ub2e4.\n",
      "\n",
      "- %run\uc740 \ube48 \ub124\uc784\uc2a4\ud398\uc774\uc2a4\uc5d0\uc11c \uc2e4\ud589\ub418\uae30 \ub54c\ubb38"
     ]
    },
    {
     "cell_type": "code",
     "collapsed": false,
     "input": [
      "%run -i test.py"
     ],
     "language": "python",
     "metadata": {},
     "outputs": [
      {
       "output_type": "stream",
       "stream": "stdout",
       "text": [
        "{0: 1.8558497807204712, 1: -0.09344751937131242, 2: 0.776228537967696, 3: -0.9583807295050953, 4: -1.0803349588875213, 5: 0.06338305708049646, 6: -0.7648913591165657}\n"
       ]
      }
     ],
     "prompt_number": 31
    },
    {
     "cell_type": "markdown",
     "metadata": {},
     "source": [
      "- %run -i\ub97c \uc0ac\uc6a9\ud558\uba74 IPython \ub124\uc784\uc2a4\ud398\uc774\uc2a4\uc5d0 \ubbf8\ub9ac \uc120\uc5b8\ub41c \ubcc0\uc218\uc5d0 \uc811\uadfc\ud560 \uc218 \uc788\ub2e4.\n",
      "- \ub9cc\uc57d\uc5d0 \ud30c\uc774\uc36c \uc2a4\ud06c\ub9bd\ud2b8\uc5d0 \uba85\ub839\ud589 \uc778\uc790(sys.argv\uc5d0 \uc800\uc7a5\ub418\ub294)\ub97c \ub118\uaca8\uc918\uc57c \ud55c\ub2e4\uba74 \uba85\ub839\ud589\uc5d0\uc11c \uc2e4\ud589\ud558\ub294 \uac83\ucc98\ub7fc \ud30c\uc77c \uacbd\ub85c \ub2e4\uc74c\uc5d0 \ud544\uc694\ud55c \uc778\uc790\ub97c \ub118\uaca8\uc8fc\uba74 \ub41c\ub2e4."
     ]
    },
    {
     "cell_type": "markdown",
     "metadata": {},
     "source": [
      "### \uc2e4\ud589 \uc911\uc778 \ucf54\ub4dc \uc911\uc9c0\ud558\uae30\n",
      "\n",
      "- Ctrl+C\ub97c \ub204\ub974\uba74 KeyboardInterrupt \uc608\uc678\ub97c \ubc1c\uc0dd\uc2dc\ucf1c \ud504\ub85c\uadf8\ub7a8\uc774 \uc911\uc9c0\ub41c\ub2e4.\n",
      "- \uac00\ub054 Ctrl+C\ub97c \ub20c\ub7ec\ub3c4 \uc548\ub420 \ub54c\uac00 \uc788\ub294\ub370 \uc774\ub54c\ub294 \ud30c\uc774\uc36c \ud504\ub85c\uc138\uc2a4\ub97c \uac15\uc81c \uc885\ub8cc\ud558\uc790."
     ]
    },
    {
     "cell_type": "markdown",
     "metadata": {},
     "source": [
      "### 3.1.4 \ud074\ub9bd\ubcf4\ub4dc\uc5d0 \uc788\ub294 \ucf54\ub4dc \uc2e4\ud589\ud558\uae30\n",
      "\n",
      "- \ud074\ub9bd\ubcf4\ub4dc\uc5d0 \uc788\ub294 \ub0b4\uc6a9\uc744 Ctrl+Shift+V\ub85c IPython \uc258\uc5d0 \ubd99\uc5ec\ub123\uae30 \ud560 \ub54c \uc8fc\uc758\ud560 \uc810\uc740, \uc904 \ubc14\uafc8\uc744 return\uc73c\ub85c \ucc98\ub9ac\ud55c\ub2e4\ub294 \uac83\uc774\ub2e4. \uc774 \ub54c\ubb38\uc5d0 \ub4e4\uc5ec\uc4f0\uae30 \ub41c \ube14\ub85d \uc548\uc758 \ube48 \uc904\uc744 IPython\uc740 \ube14\ub85d\uc774 \ub05d\ub09c \uac83\uc73c\ub85c \uc778\uc2dd\ud55c\ub2e4.\n",
      "- \uc774\uac83\uc744 \ubc29\uc9c0\ud558\uae30 \uc704\ud574\uc11c\ub294 %paste \uba85\ub839\uc744 \uc368\uc8fc\uba74 \ub41c\ub2e4.\n",
      "- %paste\ub294 \ud074\ub9bd\ubcf4\ub4dc\uc5d0 \uc788\ub294 \ub0b4\uc6a9\uc744 \ubd99\uc5ec\ub123\uae30\ud558\uace0 \ubc14\ub85c \ub05d\ub0b8\ub2e4.\n",
      "- %cpaste\ub294 \ubd99\uc5ec\ub123\uae30 \ud560 \uc218 \uc788\ub294 \uacf5\uac04\uc744 \uc5f4\uc5b4\uc900\ub2e4\uace0 \ubcf4\uba74\ub41c\ub2e4. \uc0ac\uc6a9\uc790\uac00 --\ub97c \ud574\uc8fc\uae30 \uc804\uae4c\uc9c0 \uc785\ub825\uac12\uc744 \uc885\ub8cc\ud558\uc9c0 \uc54a\ub294\ub2e4. \uc2e4\ud589\ud574 \ubcf4\uae30 \uc804\uc5d0 \ub9c8\uc74c\uaecf \ubd99\uc5ec\ub123\uae30 \ud574\ubcfc \uc218 \uc788\ub2e4\ub294 \uac83\uc744 \ub73b\ud55c\ub2e4."
     ]
    },
    {
     "cell_type": "markdown",
     "metadata": {},
     "source": [
      "<\ud074\ub9bd\ubcf4\ub4dc\uc5d0 \ub2e4\uc74c\uc758 \ucf54\ub4dc\uac00 \uc788\ub2e4.>\n",
      "\n",
      "    x = 5\n",
      "    y = 7\n",
      "    if x > 5:\n",
      "        x += 1\n",
      "\n",
      "        y = 8\n",
      "        \n",
      "- \uc774 \ucf54\ub4dc\ub97c Ctrl+Shift+V\ub85c \uc2e4\ud589\ud558\uba74 \uc0ac\uc6a9\uc790\uac00 \uc758\ub3c4\ud55c \ubc14\uc640 \ub2e4\ub974\uac8c \uc2e4\ud589\ub41c\ub2e4."
     ]
    },
    {
     "cell_type": "markdown",
     "metadata": {},
     "source": [
      "    In [25]: %paste\n",
      "    x = 5\n",
      "    y = 7\n",
      "    if x > 5:\n",
      "        x += 1\n",
      "\n",
      "        y = 8\n",
      "\n",
      "    ## -- End pasted text --"
     ]
    },
    {
     "cell_type": "markdown",
     "metadata": {},
     "source": [
      "    In [26]: %cpaste\n",
      "    Pasting code; enter '--' alone on the line to stop or use Ctrl-D.\n",
      "    :x = 5\n",
      "    :y = 7\n",
      "    :if x > 5:\n",
      "    :    x += 1\n",
      "    :    \n",
      "    :    y = 8\n",
      "    :\n",
      "    :--\n",
      "\n",
      "- %cpaste\uc640 %paste\ub97c \uc0ac\uc6a9\ud558\uba74 \uc81c\ub300\ub85c \uc791\ub3d9\ud55c\ub2e4."
     ]
    },
    {
     "cell_type": "markdown",
     "metadata": {},
     "source": [
      "### IDE, \ud3b8\uc9d1\uae30\uc640 \ud568\uaed8 IPython \uc0ac\uc6a9\ud558\uae30\n",
      "\n",
      "- \uc774\ub9e5\uc2a4\ub098 vim \uac19\uc740 \uba87\uba87 \ud3b8\uc9d1\uae30\ub294 \uc11c\ub4dc\ud30c\ud2f0 \ud655\uc7a5\uc744 \ud1b5\ud574 \uc2e4\ud589\uc911\uc778 IPython \uc73c\ub85c \ucf54\ub4dc \ube14\ub85d\uc744 \uc9c1\uc811 \ubcf4\ub0bc \uc218 \uc788\ub2e4. IPython \uc6f9\uc0ac\uc774\ud2b8\ub098 \uc778\ud130\ub137 \uac80\uc0c9\uc744 \ud1b5\ud574 \uc880 \ub354 \ub9ce\uc740 [\uc815\ubcf4](http://ipython.org/ipython-doc/rel-1.1.0/config/editors.html)\ub97c \uc5bb\uc744 \uc218 \uc788\ub2e4."
     ]
    },
    {
     "cell_type": "markdown",
     "metadata": {},
     "source": [
      "### 3.1.5 \ud0a4\ubcf4\ub4dc \ub2e8\ucd95\ud0a4\n",
      "\n",
      "- IPython\uc740 \uc774\ub9e5\uc2a4 \ud3b8\uc9d1\uae30\ub098 \uc720\ub2c9\uc2a4 Bash \uc0ac\uc6a9\uc790\uc5d0\uac8c \uce5c\uc219\ud55c \ud504\ub86c\ud504\ud2b8 \uc774\ub3d9 \ub2e8\ucd95\ud0a4 \uc81c\uacf5\n",
      "- \uc774\uc804\uc5d0 \uc785\ub825\ud55c \uc258\uc758 \uba85\ub839\uc5b4 \ud788\uc2a4\ud1a0\ub9ac \uc0ac\uc6a9 \uac00\ub2a5\n",
      "- \uac70\uc758 Bash \uc258\uacfc \ube44\uc2b7\ud558\ub2e4\uace0 \ubcf4\uba74 \ub41c\ub2e4. \uc774\uc804\uc5d0 \uc258 \uacf5\ubd80\ud558\uc2e0 \ubd84\ub4e4\uc740 \uac70\uc758 \ub611\uac19\uc73c\ub2c8 \uae08\ubc29 \uc775\ud790 \uc218 \uc788\ub2e4.\n",
      "- [GNU Readline Library 1.2.1 Readline Bare Essentials](http://cnswww.cns.cwru.edu/php/chet/readline/rluserman.html)\n",
      "- \uc790\uc8fc \uc0ac\uc6a9\ud558\ub294 \uac83\uc740 \uc704 \ud654\uc0b4\ud45c, \uc544\ub798 \ud654\uc0b4\ud45c."
     ]
    },
    {
     "cell_type": "markdown",
     "metadata": {},
     "source": [
      "### 3.1.6 \uc608\uc678\uc640 \ud2b8\ub808\uc774\uc2a4\ubc31"
     ]
    },
    {
     "cell_type": "markdown",
     "metadata": {},
     "source": [
      "- %run \uba85\ub839\uc744 \uc0ac\uc6a9\ud558\uba74 \uc2a4\ud06c\ub9bd\ud2b8\ub098 \uc77c\ubc18 \ud30c\uc774\uc36c \ucf54\ub4dc\ub97c \uc2e4\ud589\ud558\ub294 \uc911\uc5d0 \uc624\ub958\uac00 \ubc1c\uc0dd\ud588\uc744 \ub54c \uc804\uccb4 \uc2a4\ud0dd \uc815\ubcf4\ub97c \uac01 \uc704\uce58\ubcc4 \ubb38\ub9e5 \uc815\ubcf4\uc640 \ud568\uaed8 \ubcfc \uc218 \uc788\ub2e4."
     ]
    },
    {
     "cell_type": "code",
     "collapsed": false,
     "input": [
      "%run ipython_bug.py"
     ],
     "language": "python",
     "metadata": {},
     "outputs": [
      {
       "ename": "AssertionError",
       "evalue": "",
       "output_type": "pyerr",
       "traceback": [
        "\u001b[1;31m---------------------------------------------------------------------------\u001b[0m\n\u001b[1;31mAssertionError\u001b[0m                            Traceback (most recent call last)",
        "\u001b[1;32m/home/csi2100/Desktop/ipython_bug.py\u001b[0m in \u001b[0;36m<module>\u001b[1;34m()\u001b[0m\n\u001b[0;32m     13\u001b[0m     \u001b[0mthrows_an_exception\u001b[0m\u001b[1;33m(\u001b[0m\u001b[1;33m)\u001b[0m\u001b[1;33m\u001b[0m\u001b[0m\n\u001b[0;32m     14\u001b[0m \u001b[1;33m\u001b[0m\u001b[0m\n\u001b[1;32m---> 15\u001b[1;33m \u001b[0mcalling_things\u001b[0m\u001b[1;33m(\u001b[0m\u001b[1;33m)\u001b[0m\u001b[1;33m\u001b[0m\u001b[0m\n\u001b[0m",
        "\u001b[1;32m/home/csi2100/Desktop/ipython_bug.py\u001b[0m in \u001b[0;36mcalling_things\u001b[1;34m()\u001b[0m\n\u001b[0;32m     11\u001b[0m \u001b[1;32mdef\u001b[0m \u001b[0mcalling_things\u001b[0m\u001b[1;33m(\u001b[0m\u001b[1;33m)\u001b[0m\u001b[1;33m:\u001b[0m\u001b[1;33m\u001b[0m\u001b[0m\n\u001b[0;32m     12\u001b[0m     \u001b[0mworks_fine\u001b[0m\u001b[1;33m(\u001b[0m\u001b[1;33m)\u001b[0m\u001b[1;33m\u001b[0m\u001b[0m\n\u001b[1;32m---> 13\u001b[1;33m     \u001b[0mthrows_an_exception\u001b[0m\u001b[1;33m(\u001b[0m\u001b[1;33m)\u001b[0m\u001b[1;33m\u001b[0m\u001b[0m\n\u001b[0m\u001b[0;32m     14\u001b[0m \u001b[1;33m\u001b[0m\u001b[0m\n\u001b[0;32m     15\u001b[0m \u001b[0mcalling_things\u001b[0m\u001b[1;33m(\u001b[0m\u001b[1;33m)\u001b[0m\u001b[1;33m\u001b[0m\u001b[0m\n",
        "\u001b[1;32m/home/csi2100/Desktop/ipython_bug.py\u001b[0m in \u001b[0;36mthrows_an_exception\u001b[1;34m()\u001b[0m\n\u001b[0;32m      7\u001b[0m     \u001b[0ma\u001b[0m \u001b[1;33m=\u001b[0m \u001b[1;36m5\u001b[0m\u001b[1;33m\u001b[0m\u001b[0m\n\u001b[0;32m      8\u001b[0m     \u001b[0mb\u001b[0m \u001b[1;33m=\u001b[0m \u001b[1;36m6\u001b[0m\u001b[1;33m\u001b[0m\u001b[0m\n\u001b[1;32m----> 9\u001b[1;33m     \u001b[1;32massert\u001b[0m\u001b[1;33m(\u001b[0m\u001b[0ma\u001b[0m \u001b[1;33m+\u001b[0m \u001b[0mb\u001b[0m \u001b[1;33m==\u001b[0m \u001b[1;36m10\u001b[0m\u001b[1;33m)\u001b[0m\u001b[1;33m\u001b[0m\u001b[0m\n\u001b[0m\u001b[0;32m     10\u001b[0m \u001b[1;33m\u001b[0m\u001b[0m\n\u001b[0;32m     11\u001b[0m \u001b[1;32mdef\u001b[0m \u001b[0mcalling_things\u001b[0m\u001b[1;33m(\u001b[0m\u001b[1;33m)\u001b[0m\u001b[1;33m:\u001b[0m\u001b[1;33m\u001b[0m\u001b[0m\n",
        "\u001b[1;31mAssertionError\u001b[0m: "
       ]
      }
     ],
     "prompt_number": 35
    },
    {
     "cell_type": "markdown",
     "metadata": {},
     "source": [
      "- \uc77c\ubc18 \ud30c\uc774\uc36c \uc778\ud130\ud504\ub9ac\ud130\uc5d0\uc11c\ub294 \ucd94\uac00 \ubb38\ub9e5 \uc815\ubcf4\ub97c \uc81c\uacf5\ud558\uc9c0 \uc54a\uc9c0\ub9cc IPython\uc5d0\uc11c\ub294 \ucd94\uac00 \uc815\ubcf4 \uc81c\uacf5\n",
      "- %xmode \ub9e4\uc9c1 \uba85\ub839\uc5b4\ub97c \uc774\uc6a9\ud574\uc11c \ud45c\uc2dc\ub418\ub294 \ubb38\ub9e5 \uc815\ubcf4\uc758 \uc591\uc744 \uc870\uc808\ud560 \uc218 \uc788\ub294\ub370 \uc791\uac8c\ub294 \uc77c\ubc18 \ud30c\uc774\uc36c \uc778\ud130\ud504\ub9ac\ud130 \uc218\uc900\ubd80\ud130 \ub9ce\uac8c\ub294 \ud568\uc218\uc758 \uc778\uc790 \uac12\uacfc \uadf8 \uc774\uc0c1\uc758 \uc815\ubcf4\ub97c \ubcf4\uc5ec\uc8fc\ub3c4\ub85d \uc124\uc815 \uac00\ub2a5\n",
      "- \uc624\ub958\uac00 \ubc1c\uc0dd\ud55c \uc9c1\ud6c4 \ub300\ud654\ud615 \ub514\ubc84\uac70 \uc0ac\uc6a9\uc744 \uc704\ud574 %debug\ub098 %pdb \ub9e4\uc9c1 \uba85\ub839\uc5b4\ub97c \uc774\uc6a9\ud574\uc11c \uc2a4\ud0dd \uc548\uc744 \uc0b4\ud3b4\ubcfc \uc218\ub3c4 \uc788\ub2e4."
     ]
    },
    {
     "cell_type": "markdown",
     "metadata": {},
     "source": [
      "### 3.1.7 \ub9e4\uc9c1 \uba85\ub839\uc5b4\n",
      "\n",
      "- IPython\uc740 '\ub9e4\uc9c1' \uba85\ub839\uc5b4\ub77c\uace0 \ud558\ub294 \uc5ec\ub7ec \uac00\uc9c0 \ud2b9\uc218\ud55c \uba85\ub839\uc5b4\ub97c \ud3ec\ud568\ud558\uace0 \uc788\ub294\ub370, \uc774\ub294 \uc77c\ubc18\uc801\uc778 \uc791\uc5c5\uc774\ub098 IPython \uc2dc\uc2a4\ud15c \ub3d9\uc791\uc744 \uc27d\uac8c \uc81c\uc5b4\ud560 \uc218 \uc788\ub3c4\ub85d \uc124\uacc4\ub41c \ud2b9\uc218\ud55c \uba85\ub839\uc5b4\n",
      "- \ub9e4\uc9c1 \uba85\ub839\uc5b4\ub294 \uc55e\uc5d0 % \uae30\ud638\ub97c \ubd99\uc774\ub294 \ud615\uc2dd\n",
      "- \uc608\ub97c \ub4e4\uc5b4 IPython\uc5d0\uc11c \ud589\ub82c \uacf1\uc148 \uac19\uc740 \ucf54\ub4dc\uac00 \uc2e4\ud589\ub41c \uc2dc\uac04\uc744 \uce21\uc815\ud558\uace0 \uc2f6\uc744 \ub54c %timeit \ub9e4\uc9c1 \ud568\uc218\ub97c \uc774\uc6a9\ud574\uc11c \uac12\uc744 \uc5bb\uc5b4\uc62c \uc218 \uc788\ub2e4."
     ]
    },
    {
     "cell_type": "code",
     "collapsed": false,
     "input": [
      "a = np.random.randn(100, 100)"
     ],
     "language": "python",
     "metadata": {},
     "outputs": [],
     "prompt_number": 2
    },
    {
     "cell_type": "code",
     "collapsed": false,
     "input": [
      "a"
     ],
     "language": "python",
     "metadata": {},
     "outputs": [
      {
       "metadata": {},
       "output_type": "pyout",
       "prompt_number": 3,
       "text": [
        "array([[-1.59983696,  1.76193359,  0.02026796, ..., -0.13040162,\n",
        "        -1.18825641,  0.00848091],\n",
        "       [ 0.34671098,  0.12844756, -2.50810008, ..., -1.14343007,\n",
        "         0.97045137, -0.31352267],\n",
        "       [-0.00451162, -1.0752159 , -0.67536839, ..., -0.31189529,\n",
        "        -0.30591619, -0.55962039],\n",
        "       ..., \n",
        "       [-1.45399956,  0.04050718,  1.67200732, ..., -0.5781744 ,\n",
        "        -0.13305139,  0.78399904],\n",
        "       [-1.80454823,  0.20049426,  0.34937215, ...,  1.2991064 ,\n",
        "         0.11250438, -0.00562542],\n",
        "       [ 0.42135707,  0.60596449, -0.05125328, ...,  0.54445695,\n",
        "         0.59630452, -1.04567889]])"
       ]
      }
     ],
     "prompt_number": 3
    },
    {
     "cell_type": "code",
     "collapsed": false,
     "input": [
      "%timeit np.dot(a, a)"
     ],
     "language": "python",
     "metadata": {},
     "outputs": [
      {
       "output_type": "stream",
       "stream": "stdout",
       "text": [
        "1000 loops, best of 3: 433 \u00b5s per loop\n"
       ]
      }
     ],
     "prompt_number": 4
    },
    {
     "cell_type": "markdown",
     "metadata": {},
     "source": [
      "#### timeit\uc758 loops \ud69f\uc218\uc5d0 \ub300\ud55c \uc0dd\uac01\n",
      "\n",
      "- loops\ub294 \uac70\uc758 \ube44\uc2b7\ud55c \uc2dc\uac04\uc774 \uac78\ub9ac\ub3c4\ub85d loops \ud69f\uc218\ub97c IPython\uc5d0\uc11c \uc870\uc808\ud558\ub294 \uac83\uc73c\ub85c \ud310\ub2e8\ub41c\ub2e4.\n",
      "- \ucc45\uacfc \uc0c1\uc774\ud55c loops \ud69f\uc218\ub97c \ubcf4\uc774\ub294 \uacf3\uc774 \uac00\ub054 \uc788\uc73c\ub2c8 \uc774\ub7f0 \uac83\uc774 \uc788\ub2e4 \uc815\ub3c4\ub9cc \uc778\uc2dd\ud558\uace0 \ub118\uc5b4\uac00\uc790."
     ]
    },
    {
     "cell_type": "markdown",
     "metadata": {},
     "source": [
      "- \ub9e4\uc9c1 \uba85\ub839\uc5b4\ub294 IPython \uc2dc\uc2a4\ud15c \uc548\uc5d0\uc11c \uc2e4\ud589\ub418\ub294 \uba85\ub839\ud589 \ud504\ub85c\uadf8\ub7a8\n",
      "- \ub9e4\uc9c1 \uba85\ub839\uc5b4\ub4e4\uc740 \ucd94\uac00\uc801\uc778 \uc635\uc158\uc744 \ud544\uc694\ub85c \ud558\uba70 ?\ub97c \uc774\uc6a9\ud574\uc11c \uc804\uccb4 \uc635\uc158 \ubcf4\uae30 \uac00\ub2a5"
     ]
    },
    {
     "cell_type": "code",
     "collapsed": false,
     "input": [
      "%reset?"
     ],
     "language": "python",
     "metadata": {},
     "outputs": [],
     "prompt_number": 5
    },
    {
     "cell_type": "markdown",
     "metadata": {},
     "source": [
      "    Type:        Magic function\n",
      "    String form: <bound method NamespaceMagics.reset of <IPython.core.magics.namespace.NamespaceMagics object at 0x101cbcb90>>\n",
      "    Namespace:   IPython internal\n",
      "    File:        /Library/Python/2.7/site-packages/IPython/core/magics/namespace.py\n",
      "    \n",
      "    ...\n",
      "    ..."
     ]
    },
    {
     "cell_type": "markdown",
     "metadata": {},
     "source": [
      "- \ub9e4\uc9c1 \ud568\uc218\uc640 \uac19\uc740 \uc774\ub984\uc758 \ubcc0\uc218\uac00 \uc120\uc5b8\ub418\uc9c0 \uc54a\uc558\ub2e4\uba74 \uae30\ubcf8\uc801\uc73c\ub85c % \uae30\ud638 \uc5c6\uc774\ub3c4 \ub9e4\uc9c1 \ud568\uc218\ub97c \uc0ac\uc6a9\ud560 \uc218 \uc788\ub2e4. \uc774\ub97c \uc624\ud1a0\ub9e4\uc9c1(Automagic) \uc774\ub77c\uace0 \ud558\ub294\ub370, %automatic\uc744 \uc774\uc6a9\ud574\uc11c \uc774 \uae30\ub2a5\uc744 \ucf1c\uac70\ub098 \ub04c \uc218 \uc788\ub2e4.\n",
      "- %quickref\ub098 %magic \uba85\ub839\uc744 \ud1b5\ud574\uc11c \uc0ac\uc6a9 \uac00\ub2a5\ud55c \ubaa8\ub4e0 \ud2b9\uc218 \uba85\ub839\uc5b4\ub97c \uc0b4\ud3b4\ubd10\ub450\ub294 \uac83\uc774 \uc88b\ub2e4."
     ]
    },
    {
     "cell_type": "markdown",
     "metadata": {},
     "source": [
      "### \uc790\uc8fc \uc0ac\uc6a9\ud558\ub294 IPython \ub9e4\uc9c1 \uba85\ub839\uc5b4"
     ]
    },
    {
     "cell_type": "raw",
     "metadata": {},
     "source": [
      " \tCommand \tComment\n",
      "0 \t%quickref \tIPython\uc758 \ube60\ub978 \ub3c4\uc6c0\ub9d0 \ud45c\uc2dc\n",
      "1 \t%magic \t\ubaa8\ub4e0 \ub9e4\uc9c1 \ud568\uc218\uc5d0 \ub300\ud55c \uc0c1\uc138 \ub3c4\uc6c0\ub9d0 \ucd9c\ub825\n",
      "2 \t%debug \t\ucd5c\uadfc \uc608\uc678 \ud2b8\ub808\uc774\uc2a4\ubc31\uc758 \ud558\ub2e8\uc5d0\uc11c \ub300\ud654\ud615 \ub514\ubc84\uac70\ub85c \uc9c4\uc785\n",
      "3 \t%hist \t\uba85\ub839\uc5b4 \uc785\ub825(\uadf8\ub9ac\uace0 \uc120\ud0dd\uc801\uc73c\ub85c \ucd9c\ub825) \ud788\uc2a4\ud1a0\ub9ac \ucd9c\ub825\n",
      "4 \t%pdb \t\uc608\uc678\uac00 \ubc1c\uc0dd\ud558\uba74 \uc790\ub3d9\uc801\uc73c\ub85c \ub514\ubc84\uac70\ub85c \uc9c4\uc785\n",
      "5 \t%paste \t\ud074\ub9bd\ubcf4\ub4dc\uc5d0\uc11c \ub4e4\uc5ec\uc4f0\uae30\uac00 \ub41c \ucc44\ub85c \ud30c\uc774\uc36c \ucf54\ub4dc \uac00\uc838\uc624\uae30\n",
      "6 \t%cpaste \t\uc2e4\ud589 \ud30c\uc774\uc36c \ucf54\ub4dc\ub97c \uc218\ub3d9\uc73c\ub85c \ubd99\uc5ec\ub123\uc744 \uc218 \uc788\ub294 \ud504\ub86c\ud504\ud2b8 \ud45c\uc2dc\n",
      "7 \t%reset \t\ub300\ud654\ud615 \ub124\uc784\uc2a4\ud398\uc774\uc2a4\uc5d0\uc11c \uc815\uc758\ub41c \ubaa8\ub4e0 \ubcc0\uc218\uc640 \uc774\ub984\uc744 \uc0ad\uc81c\n",
      "8 \t%page \tOBJECT \uac1d\uccb4\ub97c pager\ub97c \ud1b5\ud574 \ubcf4\uae30 \uc88b\uac8c \ucd9c\ub825\n",
      "9 \t%run script.py \tIPython \ub0b4\uc5d0\uc11c \ud30c\uc774\uc36c \uc2a4\ud06c\ub9bd\ud2b8 \uc2e4\ud589\n",
      "10 \t%prun statement \tcProfile\uc744 \ud1b5\ud574 statement\ub97c \uc2e4\ud589\ud558\uace0 \ud504\ub85c\ud30c\uc77c\ub9c1 \uacb0\uacfc\ub97c \ucd9c\ub825\n",
      "11 \t%time statement \t\ub2e8\uc77c statement \uc2e4\ud589 \uc2dc\uac04\uc744 \ucd9c\ub825\n",
      "12 \t%timeit statement \tstatement\ub97c \uc5ec\ub7ec \ucc28\ub840 \uc2e4\ud589\ud55c \ud6c4 \ud3c9\uade0 \uc2e4\ud589 \uc2dc\uac04\uc744 \ucd9c\ub825.\n",
      "13 \t\t\ub9e4\uc6b0 \uc9e7\uc740 \uc2dc\uac04 \uc548\uc5d0 \ub05d\ub098\ub294 \ucf54\ub4dc\uc758 \uc2dc\uac04\uc744 \uce21\uc815\ud560 \ub54c \uc720\uc6a9\n",
      "14 \t%who, %who_ls, %whos \t\ub300\ud654\ud615 \ub124\uc784\uc2a4\ud398\uc774\uc2a4 \ub0b4\uc5d0\uc11c \uc815\uc758\ub41c \ubcc0\uc218\ub97c \ub2e4\uc591\ud55c \ubc29\ubc95\uc73c\ub85c \ud45c\uc2dc\n",
      "15 \t%xdel variable \tvariable\uc744 \uc0ad\uc81c\ud558\uace0 IPython \ub0b4\ubd80\uc801\uc73c\ub85c \ud574\ub2f9 \uac1d\uccb4\uc5d0 \ub300\ud55c \ubaa8\ub4e0 \ucc38\uc870\ub97c \uc81c\uac70"
     ]
    },
    {
     "cell_type": "markdown",
     "metadata": {},
     "source": [
      "### 3.1.8 Qt \uae30\ubc18\uc758 GUI \ucf58\uc194\n",
      "\n",
      "- \ud130\ub2c8\ub110 \uc804\uc6a9 \uc560\ud50c\ub9ac\ucf00\uc774\uc158\uc5d0 \uadf8\ub9bc\uc744 \uc0bd\uc785\ud558\uac70\ub098 \uc5ec\ub7ec \uc904\uc744 \ud3b8\uc9d1\ud558\uac70\ub098 \ubb38\ubc95\uc744 \ub3cb\ubcf4\uc774\uac8c \ud558\ub294 \ub4f1\uc758 \ub9ac\uce58 \ud14d\uc2a4\ud2b8 \uc704\uc82f \uae30\ub2a5\uc744 \ucd94\uac00\ud558\uae30 \uc704\ud574 Qt \ud504\ub808\uc784\uc6cc\ud06c \uae30\ubc18\uc758 GUI \ucf58\uc194 \uac1c\ubc1c\n",
      "\n",
      "#### IPython\uc5d0\uc11c \uadf8\ub798\ud504 \uae30\ub2a5 \ub0b4\uc7a5\ud558\uc5ec \uc2e4\ud589 \ubc29\ubc95\n",
      "\n",
      "- \uc804\uc81c \uc870\uac74: PyQt\ub098 PySide\uac00 \uc124\uce58\ub418\uc5b4 \uc788\uc5b4\uc57c \ud55c\ub2e4.\n",
      "> $ ipython qtconsole --pyalb=inline\n",
      "\n",
      "- Qt \ucf58\uc194\uc5d0\uc11c\ub294 \uc5ec\ub7ec \uac1c\uc758 IPython \ud504\ub85c\uc138\uc2a4\ub97c \ud0ed\uc73c\ub85c \uad6c\ubd84\ud574\uc11c \uc2e4\ud589\n",
      "- IPython HTML \ub178\ud2b8\ubd81 \uc560\ud50c\ub9ac\ucf00\uc774\uc158\uacfc\ub3c4 \ud568\uaed8 \uc0ac\uc6a9(\ud604\uc7ac \uc774 \ubb38\uc11c\ub97c \uc791\uc131\ud55c \uac83)"
     ]
    },
    {
     "cell_type": "code",
     "collapsed": false,
     "input": [
      "%hist"
     ],
     "language": "python",
     "metadata": {},
     "outputs": [
      {
       "output_type": "stream",
       "stream": "stdout",
       "text": [
        "a = np.random.randn(100, 100)\n",
        "a = np.random.randn(100, 100)\n",
        "a\n",
        "%timeit np.dot(a, a)\n",
        "%reset?\n",
        "%hist\n",
        "%hist\n"
       ]
      }
     ],
     "prompt_number": 7
    },
    {
     "cell_type": "code",
     "collapsed": false,
     "input": [
      "%reset"
     ],
     "language": "python",
     "metadata": {},
     "outputs": []
    },
    {
     "cell_type": "code",
     "collapsed": false,
     "input": [
      "%xdel result"
     ],
     "language": "python",
     "metadata": {},
     "outputs": []
    },
    {
     "cell_type": "code",
     "collapsed": false,
     "input": [
      "result"
     ],
     "language": "python",
     "metadata": {},
     "outputs": []
    },
    {
     "cell_type": "code",
     "collapsed": false,
     "input": [
      "# Error Occur!"
     ],
     "language": "python",
     "metadata": {},
     "outputs": [],
     "prompt_number": 8
    },
    {
     "cell_type": "markdown",
     "metadata": {},
     "source": [
      "- \ub9e4\uc6b0 \ud070 \ub370\uc774\ud130\ub97c \uc774\uc6a9\ud558\ub294 \uc791\uc5c5\uc744 \ud560 \ub54c\ub294 del \uc608\uc57d\uc5b4\ub97c \uc0ac\uc6a9\ud574\uc11c \uc778\ud130\ub799\ud2f0\ube0c \ub124\uc784\uc2a4\ud398\uc774\uc2a4\uc5d0\uc11c \uc5b4\ub5a4 \ubcc0\uc218\ub97c \uc9c0\uc6e0\ub2e4\uace0 \ud574\ub3c4 IPython\uc758 \uc785\u2219\ucd9c\ub825 \ud788\uc2a4\ud1a0\ub9ac\uac00 \uac00\ube44\uc9c0 \ucf5c\ub809\ud2b8(\uba54\ubaa8\ub9ac \uc815\ub9ac)\ub97c \ubc29\ud574\ud560 \uc218 \uc788\ub2e4\ub294 \uc810\uc744 \uae30\uc5b5\n",
      "- \uadf8\ub7f0 \uacbd\uc6b0\uc5d0\ub294 %xdel\uacfc %reset\uc744 \uc2e0\uc911\ud558\uac8c \uc0ac\uc6a9\ud574\uc11c \uba54\ubaa8\ub9ac \ubb38\uc81c \ud68c\ud53c"
     ]
    },
    {
     "cell_type": "markdown",
     "metadata": {},
     "source": [
      "### 3.2.3 \uc785\u2219\ucd9c\ub825 \uae30\ub85d\ud558\uae30\n",
      "\n",
      "- \uc785\u2219\ucd9c\ub825\uc744 \ud3ec\ud568\ud55c \uc804\uccb4 \ucf58\uc194 \uc138\uc158\uc758 \ub85c\uadf8\ub97c %logstart\ub97c \uc0ac\uc6a9\ud574\uc11c \uae30\ub85d\ud560 \uc218 \uc788\ub2e4.\n",
      "- \ub85c\uae45\uc740 \uc544\ubb34 \ub54c\ub098 \ud65c\uc131\ud654 \uc2dc\ud0ac \uc218 \uc788\uc73c\uba70 \uacfc\uac70 \uba85\ub839\uc744 \ud3ec\ud568\ud55c \uc804\uccb4 \uc138\uc158\uc744 \uae30\ub85d\n",
      "- \ub530\ub77c\uc11c \ubb54\uac00 \uc791\uc5c5\uc744 \ud558\uace0 \uc788\ub2e4\uac00 \uadf8\ub54c\uae4c\uc9c0 \uc791\uc5c5\ud55c \ubaa8\ub4e0 \ub0b4\uc6a9\uc744 \uc800\uc7a5\ud558\uace0 \uc2f6\ub2e4\uba74 \ub85c\uae45\uc744 \ud65c\uc131\ud654 \ud558\uba74 \ub41c\ub2e4.\n",
      "- %logoff\n",
      "- %logon\n",
      "- %logstate\n",
      "- %logstop"
     ]
    },
    {
     "cell_type": "code",
     "collapsed": false,
     "input": [
      "%logstart"
     ],
     "language": "python",
     "metadata": {},
     "outputs": [
      {
       "output_type": "stream",
       "stream": "stdout",
       "text": [
        "Activating auto-logging. Current session state plus future input saved.\n",
        "Filename       : ipython_log.py\n",
        "Mode           : rotate\n",
        "Output logging : False\n",
        "Raw input log  : False\n",
        "Timestamping   : False\n",
        "State          : active\n"
       ]
      }
     ],
     "prompt_number": 9
    },
    {
     "cell_type": "code",
     "collapsed": false,
     "input": [
      "%logstop"
     ],
     "language": "python",
     "metadata": {},
     "outputs": [],
     "prompt_number": 10
    },
    {
     "cell_type": "markdown",
     "metadata": {},
     "source": [
      "## 3.3 \uc6b4\uc601\uccb4\uc81c\uc640 \ud568\uaed8 \uc0ac\uc6a9\ud558\uae30\n",
      "\n",
      "- \ub610 \ub2e4\ub978 \uc911\uc694\ud55c \uae30\ub2a5: \uc6b4\uc601\uccb4\uc81c \uc258\uacfc \uac15\ub825\ud558\uac8c \ud1b5\ud569\n",
      "- IPython\uc744 \uc885\ub8cc\ud558\uc9c0 \uc54a\uace0 \uc708\ub3c4\uc6b0\ub098 \uc720\ub2c9\uc2a4 \uc258\uc774 \uc77c\ubc18\uc801\uc778 \uba85\ub839\ud589\uc5d0\uc11c \ud560 \uc218 \uc788\ub294 \uc791\uc5c5\uc774 \uac00\ub2a5\ud558\ub2e4\ub294 \ub73b(vi\uc640 \ube44\uc2b7)\n",
      "- \uc258 \uba85\ub839\uc5b4\ub97c \uc2e4\ud589\ud558\uac70\ub098 \ub514\ub809\ud1a0\ub9ac\ub97c \uc62e\uae30\uac70\ub098 \uba85\ub839\uc5b4\uc758 \uacb0\uacfc\ub97c \ud30c\uc774\uc36c \uac1d\uccb4(\ub9ac\uc2a4\ud2b8\ub098 \ubb38\uc790\uc5f4)\uc5d0 \uc800\uc7a5\ud558\ub294 \uae30\ub2a5\uc774 \ud3ec\ud568\n",
      "- \ub610\ud55c \uac04\ub2e8\ud55c \uc258 \uba85\ub839\uc5b4 \uc568\ub9ac\uc5b4\uc2f1\uacfc \ub514\ub809\ud1a0\ub9ac \ubd81\ub9c8\ud06c \uae30\ub2a5\uc774 \uc81c\uacf5\n",
      "\n",
      "#### [IPython reference Command-line usage](http://ipython.org/ipython-doc/dev/interactive/reference.html#system-shell-access)"
     ]
    },
    {
     "cell_type": "markdown",
     "metadata": {},
     "source": [
      "### 3.3.1 \uc258 \uba85\ub839\uc5b4\uc640 \ubcc4\uce6d\n",
      "\n",
      "- !\ub85c \uc2dc\uc791\ud558\ub294 \uc904\uc740 \ub290\ub08c\ud45c \ub2e4\uc74c\uc5d0 \uc788\ub294 \ub0b4\uc6a9\uc744 \uc2dc\uc2a4\ud15c \uc258\uc5d0\uc11c \uc2e4\ud589\ud558\ub77c\ub294 \uc758\ubbf8\n",
      "- rm\uc774\ub098 del \uba85\ub839\uc5b4\ub97c \uc0ac\uc6a9\ud574\uc11c \ud30c\uc77c\uc744 \uc9c0\uc6b0\uac70\ub098 \ub514\ub809\ud1a0\ub9ac\ub97c \uc62e\uae30\uac70\ub098 \ub2e4\ub978 \ud504\ub85c\uc138\uc2a4\ub97c \uc2e4\ud589\ud560 \uc218 \uc788\ub2e4\ub294 \ub9d0\n",
      "- \uc2ec\uc9c0\uc5b4 \ub2e4\ub978 \ud30c\uc774\uc36c \uc778\ud130\ud504\ub9ac\ud130\uc640 \uac19\uc740 IPython\uc758 \uc81c\uc5b4\uad8c\uc744 \ube7c\uc557\uc544\uac00\ub294 \ud504\ub85c\uc138\uc2a4\ub3c4 \uc2e4\ud589 \uac00\ub2a5"
     ]
    },
    {
     "cell_type": "code",
     "collapsed": false,
     "input": [
      "# \uc0ac\uc6a9\uc790\ub9c8\ub2e4 \ud658\uacbd\uc774 \ub2e4\ub97c \uc218 \uc788\uc73c\ub2c8 \uc774 \uba85\ub839\uc5b4\uac00 \uc81c\ub300\ub85c \ub3d9\uc791\ud558\uc9c0 \uc54a\uc744 \uc218 \uc788\uc74c\n",
      "ip_info = !ifconfig en0 | grep 'inet'"
     ],
     "language": "python",
     "metadata": {},
     "outputs": [],
     "prompt_number": 11
    },
    {
     "cell_type": "code",
     "collapsed": false,
     "input": [
      "ip_info[1].strip()"
     ],
     "language": "python",
     "metadata": {},
     "outputs": []
    },
    {
     "cell_type": "markdown",
     "metadata": {},
     "source": [
      "ubuntu\uc758 \uacbd\uc6b0: \n",
      "\n",
      "    Out[40]: 'inet 192.168.10.31 netmask 0xffffff00 broadcast 192.168.10.255'"
     ]
    },
    {
     "cell_type": "markdown",
     "metadata": {},
     "source": [
      "- !\ub97c \uc0ac\uc6a9\ud574\uc11c \ud604\uc7ac \ud658\uacbd\uc5d0 \uc815\uc758\ub418\uc5b4 \uc788\ub294 \ud30c\uc774\uc36c \uac12\uc744 \ub300\uccb4\ud558\uae30\ub3c4 \ud55c\ub2e4.\n",
      "- \ubcc0\uc218 \uc774\ub984 \uc55e\uc5d0 \ub2ec\ub7ec \uae30\ud638 $\ub97c \ubd99\uc774\uba74 \ub41c\ub2e4.\n",
      "- \uc880 \uc5b4\ub835\uac8c \uc124\uba85\ub418\uc5b4 \uc788\ub294\ub370 \uc27d\uac8c \uc608\ub97c \ub4e4\uc5b4\uc11c foo\ub77c\ub294 \ubcc0\uc218\ub97c IPython\uc5d0\uc11c \uc815\uc758\ud558\uace0 !\ub97c \uc0ac\uc6a9\ud574 \uc258 \uba85\ub839\uc5b4\ub97c \uc0ac\uc6a9\ud560 \ub54c \ud30c\ub77c\ubbf8\ud130 \uac12\uc73c\ub85c \uc0ac\uc6a9\ud560 \uc218 \uc788\ub2e4\ub294 \ub9d0\uc774\ub2e4."
     ]
    },
    {
     "cell_type": "code",
     "collapsed": false,
     "input": [
      "foo = 'test*'"
     ],
     "language": "python",
     "metadata": {},
     "outputs": [],
     "prompt_number": 13
    },
    {
     "cell_type": "code",
     "collapsed": false,
     "input": [
      "!ls $foo"
     ],
     "language": "python",
     "metadata": {},
     "outputs": [
      {
       "output_type": "stream",
       "stream": "stdout",
       "text": [
        "test.py\r\n"
       ]
      }
     ],
     "prompt_number": 14
    },
    {
     "cell_type": "code",
     "collapsed": false,
     "input": [
      "# \uc704\uc758 \uba85\ub839\uc5b4\uc640 \ub611\uac19\uc740\ub370 foo\ub77c\ub294 \ubcc0\uc218\ub97c \uc0ac\uc6a9\ud588\ub290\ub0d0? \uc544\ub2c8\ub0d0? \uc758 \ucc28\uc774\ub2e4.\n",
      "# \ubcc0\uc218\ub97c \uc0ac\uc6a9\ud558\uba74 \ub098\uc911\uc5d0 \ub611\uac19\uc740 \uc791\uc5c5\uc744 \ud558\uc9c0 \uc54a\uc744 \uc218 \uc788\uc73c\ub2c8 \uc7ac\ud65c\uc6a9\uc131 \uce21\uba74\uc5d0\uc11c \ub9e4\uc6b0 \uc88b\ub2e4.\n",
      "# \ud558\ub4dc \ucf54\ub529\uc740 \ub098\uc911\uc5d0 \uc218\uc815\ud558\uae30\uac00 \ub9e4\uc6b0 \uc5b4\ub824\uc6b0\ub2c8 \ubcc0\uc218 \uc4f0\ub294 \uc2b5\uad00\uc744 \ub4e4\uc774\uc790.\n",
      "!ls test*"
     ],
     "language": "python",
     "metadata": {},
     "outputs": [
      {
       "output_type": "stream",
       "stream": "stdout",
       "text": [
        "test.py\r\n"
       ]
      }
     ],
     "prompt_number": 15
    },
    {
     "cell_type": "markdown",
     "metadata": {},
     "source": [
      "- %alias: \uc258 \uba85\ub839\uc5b4\uc5d0 \ub300\ud55c \uc0ac\uc6a9\uc790 \ub2e8\ucd95\ud0a4(\ubcc4\uce6d)\uc744 \uc815\uc758"
     ]
    },
    {
     "cell_type": "code",
     "collapsed": false,
     "input": [
      "# ll: ls -l\ub85c \uc815\uc758\ud558\uaca0\ub2e4.\n",
      "# ls\uac00 \ubb34\uc5c7\uc778\uac00? \ud574\ub2f9 \ub514\ub809\ud1a0\ub9ac\uc5d0 \uc5b4\ub5a4 \ud30c\uc77c\ub4e4\uacfc \ub514\ub809\ud1a0\ub9ac\ub4e4\uc774 \uc788\ub294\uc9c0 \ud655\uc778\ud558\ub294 \uc258 \uba85\ub839\uc5b4\n",
      "# \uc774\ub807\uac8c \ub2e8\ucd95\ud0a4\ub97c \uc0ac\uc6a9\ud558\uba74 ls -l \uc785\ub825\ud560 \uac83\uc744 ll\ub9cc \uc785\ub825\ud558\uba74 \ub418\uae30 \ub54c\ubb38\uc5d0 \uc2dc\uac04 \uc808\uc57d\n",
      "%alias ll ls -l"
     ],
     "language": "python",
     "metadata": {},
     "outputs": [],
     "prompt_number": 16
    },
    {
     "cell_type": "code",
     "collapsed": false,
     "input": [
      "ll /usr"
     ],
     "language": "python",
     "metadata": {},
     "outputs": [
      {
       "output_type": "stream",
       "stream": "stdout",
       "text": [
        "total 112\r\n",
        "drwxr-xr-x   2 root root 40960  3\uc6d4 27 17:28 bin\r\n",
        "drwxr-xr-x   2 root root  4096  2\uc6d4 19 04:51 games\r\n",
        "drwxr-xr-x  38 root root 16384  2\uc6d4 28 10:27 include\r\n",
        "drwxr-xr-x 154 root root 20480  3\uc6d4  4 14:53 lib\r\n",
        "drwxr-xr-x  10 root root  4096  2\uc6d4 19 04:39 local\r\n",
        "drwxr-xr-x   2 root root 12288  3\uc6d4  4 14:53 sbin\r\n",
        "drwxr-xr-x 285 root root 12288  3\uc6d4 27 17:28 share\r\n",
        "drwxr-xr-x   6 root root  4096  3\uc6d4  4 14:53 src\r\n"
       ]
      }
     ],
     "prompt_number": 17
    },
    {
     "cell_type": "markdown",
     "metadata": {},
     "source": [
      "- \uc258\uacfc \ub611\uac19\uc774 \uc0ac\uc6a9\ud560 \uc218 \uc788\uc73c\ub2c8 ;\uc73c\ub85c \uad6c\ubd84\ud558\uc5ec \ud55c \ubc88\uc5d0 \uc2e4\ud589\ud560 \uc218\ub3c4 \uc788\ub2e4."
     ]
    },
    {
     "cell_type": "code",
     "collapsed": false,
     "input": [
      "%alias test_alias (cd /tmp; ls;)"
     ],
     "language": "python",
     "metadata": {},
     "outputs": [],
     "prompt_number": 18
    },
    {
     "cell_type": "code",
     "collapsed": false,
     "input": [
      "test_alias"
     ],
     "language": "python",
     "metadata": {},
     "outputs": [
      {
       "output_type": "stream",
       "stream": "stdout",
       "text": [
        "config-err-mAF22z  unity_support_test.1\r\n"
       ]
      }
     ],
     "prompt_number": 19
    },
    {
     "cell_type": "markdown",
     "metadata": {},
     "source": [
      "- \uc138\uc158\uc774 \uc885\ub8cc\ub428\uacfc \ub3d9\uc2dc\uc5d0 \uc815\uc758\ud574\ub193\uc740 \ubcc4\uce6d\uc774 \uc5c6\uc5b4\uc9d0. \ud718\ubc1c\uc131\n",
      "- \uace0\uc815 \ubcc4\uce6d\uc744 \ub9cc\ub4e4\uace0 \uc2f6\ub2e4\uba74 \uc124\uc815 \uc2dc\uc2a4\ud15c \uc0ac\uc6a9"
     ]
    },
    {
     "cell_type": "markdown",
     "metadata": {},
     "source": [
      "### 3.3.2 \ub514\ub809\ud1a0\ub9ac \ubd81\ub9c8\ud06c \uc2dc\uc2a4\ud15c\n",
      "\n",
      "- \ube0c\ub77c\uc6b0\uc800\uc758 \uc990\uaca8\ucc3e\uae30\uc640 \ub611\uac19\ub2e4\uace0 \uc0dd\uac01\ud558\uba74 \ub41c\ub2e4."
     ]
    },
    {
     "cell_type": "code",
     "collapsed": false,
     "input": [
      "# %bookmark db /Users/re4lfl0w/Dropbox/"
     ],
     "language": "python",
     "metadata": {},
     "outputs": [],
     "prompt_number": 20
    },
    {
     "cell_type": "markdown",
     "metadata": {},
     "source": [
      "- \ubd81\ub9c8\ud06c\ub97c \ud574\ub450\uace0 \ub098\uba74 %cd \ub9e4\uc9c1\uc744 \uc774\uc6a9\ud560 \ub54c \uc0ac\uc6a9\ud560 \uc218 \uc788\ub2e4.\n",
      "\n",
      "- \uc55e\uc758 %\uac00 \uc0dd\ub7b5\ub418\uc5b4\ub3c4 \uc624\ud1a0\ub9e4\uc9c1\uc73c\ub85c \uc778\ud558\uc5ec \uc258 \uba85\ub839\uc5b4\uac00 \uc2e4\ud589\ub420 \uc218 \uc788\ub2e4\uace0 \uc55e\uc5d0 \uc5b8\uae09\ud558\uc600\ub2e4."
     ]
    },
    {
     "cell_type": "code",
     "collapsed": false,
     "input": [
      "%pwd"
     ],
     "language": "python",
     "metadata": {},
     "outputs": [
      {
       "metadata": {},
       "output_type": "pyout",
       "prompt_number": 22,
       "text": [
        "u'/home/csi2100/Desktop'"
       ]
      }
     ],
     "prompt_number": 22
    },
    {
     "cell_type": "code",
     "collapsed": false,
     "input": [
      "# cd db"
     ],
     "language": "python",
     "metadata": {},
     "outputs": [],
     "prompt_number": 23
    },
    {
     "cell_type": "code",
     "collapsed": false,
     "input": [
      "%pwd"
     ],
     "language": "python",
     "metadata": {},
     "outputs": []
    },
    {
     "cell_type": "markdown",
     "metadata": {},
     "source": [
      "u'/Users/re4lfl0w/Dropbox/'"
     ]
    },
    {
     "cell_type": "code",
     "collapsed": false,
     "input": [
      "%bookmark -l"
     ],
     "language": "python",
     "metadata": {},
     "outputs": [
      {
       "output_type": "stream",
       "stream": "stdout",
       "text": [
        "Current bookmarks:\n"
       ]
      }
     ],
     "prompt_number": 24
    },
    {
     "cell_type": "markdown",
     "metadata": {},
     "source": [
      "cp -> ~/downloads/_tmp/ppt\n",
      "db -> /Users/re4lfl0w/Dropbox/"
     ]
    },
    {
     "cell_type": "markdown",
     "metadata": {},
     "source": [
      "- \ubcc4\uce6d\uacfc \ub2ec\ub9ac \ubd81\ub9c8\ud06c\ub294 IPython\uc774 \uc885\ub8cc\ub418\ub354\ub77c\ub3c4 \uc720\uc9c0\ub41c\ub2e4."
     ]
    }
   ],
   "metadata": {}
  }
 ]
}