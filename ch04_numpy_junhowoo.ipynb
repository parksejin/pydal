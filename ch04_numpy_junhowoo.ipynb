{
 "metadata": {
  "name": "",
  "signature": "sha256:2baeffd4b637ca4c3c0d35c0802e73fc8738b9eae2c8df49ee95b9aa180fb858"
 },
 "nbformat": 3,
 "nbformat_minor": 0,
 "worksheets": [
  {
   "cells": [
    {
     "cell_type": "markdown",
     "metadata": {},
     "source": [
      "#NumPy\n",
      "\uace0\uc131\ub2a5\uc758 \uacfc\ud559\uacc4\uc0b0 \ucef4\ud4e8\ud305\uacfc \ud14c\uc774\ud130 \ubd84\uc11d\uc5d0 \ud544\uc694\ud55c \uae30\ubcf8 \ud328\ud0a4\uc9c0\n",
      "##\uae30\ub2a5\n",
      "- \ub2e4\ucc28\uc6d0 \ubc30\uc5f4 ndarray \n",
      "- \ud45c\uc900 \uc218\ud559 \ud568\uc218\n",
      "- \ubc30\uc5f4\ub370\uc774\ud130 \uc77d\uace0 \uc4f0\uae30, \uba54\ubaa8\ub9ac\uc5d0 \uc62c\ub824\uc9c4 \ud30c\uc77c\uc744 \uc0ac\uc6a9\ud558\ub294 \ub3c4\uad6c\n",
      "- \uc120\ud615\ub300\uc218, \ub09c\uc218 \ubc1c\uc0dd\uae30, \ud478\ub9ac\uc5d0 \ubcc0\ud658\uac00\ub2a5\n",
      "- C, C++, \ud3ec\ud2b8\ub780\uc73c\ub85c \uc4f0\uc5ec\uc9c4 \ucf54\ub4dc\ub97c \ud1b5\ud569\ud558\ub294 \ub3c4\uad6c\n",
      "\n",
      "> \ube0c\ub85c\ub4dc\uce90\uc2a4\ud305\uae30\ub2a5, \uc120\ud615\ub300\uc218 \ud478\ub9ac"
     ]
    },
    {
     "cell_type": "code",
     "collapsed": false,
     "input": [
      "import numpy as np\n",
      "data = random.randn(2, 3)"
     ],
     "language": "python",
     "metadata": {},
     "outputs": [],
     "prompt_number": 14
    },
    {
     "cell_type": "markdown",
     "metadata": {},
     "source": [
      "3\uc7a5\uc5d0\uc11c data \uc120\uc5b8 \ubc29\uc2dd\n",
      "    data = {i:randn() for i in range(7)}\n",
      "\n",
      "\ud558\uc9c0\ub9cc \uc774\ubc29\uc2dd\uc73c\ub860 ndarray\ubc29\uc2dd \uc0ac\uc6a9\uc548\ub428 -> \uc704\uc758 \ubc29\uc2dd\uc73c\ub85c data \ub97c \uc0dd\uc131\ud558\uba74 `dictionary` type\uc73c\ub85c \ub428. \ucc45\uc5d0\ub294 data\ub97c \uc0dd\uc131\ud574\uc8fc\ub294 \ucf54\ub4dc\uac00 \uc5c6\uc74c.;;\n",
      "\n",
      "> ***random.randn(x, y)***\n",
      ">\n",
      "> numpy \ub97c \uc0c1\uc18d\ubc1b\uc740 \uac1d\uccb4 \n",
      ">\n",
      "> @param x \n",
      "\n",
      "> @param y\n",
      "\n",
      "> @return ndarray \n",
      "\n",
      "> x , y \ub97c \ub123\uc9c0 \uc54a\uc73c\uba74 \ub09c\uc218 return\n"
     ]
    },
    {
     "cell_type": "code",
     "collapsed": false,
     "input": [
      "data"
     ],
     "language": "python",
     "metadata": {},
     "outputs": [
      {
       "metadata": {},
       "output_type": "pyout",
       "prompt_number": 19,
       "text": [
        "array([[ 0.98249138, -0.0150554 , -0.01582937],\n",
        "       [ 1.16572835,  1.41547993, -0.71033306]])"
       ]
      }
     ],
     "prompt_number": 19
    },
    {
     "cell_type": "code",
     "collapsed": false,
     "input": [
      "data + data"
     ],
     "language": "python",
     "metadata": {},
     "outputs": [
      {
       "metadata": {},
       "output_type": "pyout",
       "prompt_number": 20,
       "text": [
        "array([[ 1.96498275, -0.0301108 , -0.03165874],\n",
        "       [ 2.33145669,  2.83095986, -1.42066612]])"
       ]
      }
     ],
     "prompt_number": 20
    },
    {
     "cell_type": "code",
     "collapsed": false,
     "input": [
      "data * 10"
     ],
     "language": "python",
     "metadata": {},
     "outputs": [
      {
       "metadata": {},
       "output_type": "pyout",
       "prompt_number": 21,
       "text": [
        "array([[  9.82491376,  -0.15055401,  -0.15829369],\n",
        "       [ 11.65728345,  14.15479929,  -7.1033306 ]])"
       ]
      }
     ],
     "prompt_number": 21
    },
    {
     "cell_type": "markdown",
     "metadata": {},
     "source": [
      "shape : \ubc30\uc5f4\uc758 \ud06c\uae30\ub97c \ubc18\ud658\n",
      "\n",
      "data.dtype : \uc6d0\uc18c\uc758 \uc790\ub8cc\ud615\n",
      "\n",
      "> #####NOTE\n",
      "\n",
      "> \uac01 \uc6d0\uc18c\uc758 \uc790\ub8cc\ud615\uc740 \ubaa8\ub450 \ub3d9\uc77c\ud574\uc57c\ud55c\ub2e4."
     ]
    },
    {
     "cell_type": "code",
     "collapsed": false,
     "input": [
      "data.shape"
     ],
     "language": "python",
     "metadata": {},
     "outputs": [
      {
       "metadata": {},
       "output_type": "pyout",
       "prompt_number": 23,
       "text": [
        "(2, 3)"
       ]
      }
     ],
     "prompt_number": 23
    },
    {
     "cell_type": "code",
     "collapsed": false,
     "input": [
      "data.dtype"
     ],
     "language": "python",
     "metadata": {},
     "outputs": [
      {
       "metadata": {},
       "output_type": "pyout",
       "prompt_number": 24,
       "text": [
        "dtype('float64')"
       ]
      }
     ],
     "prompt_number": 24
    },
    {
     "cell_type": "markdown",
     "metadata": {},
     "source": [
      "##ndarray \n",
      "[\uba54\ub274\uc5bc \ub9c1\ud06c](http://docs.scipy.org/doc/numpy/reference/generated/numpy.ndarray.html)"
     ]
    },
    {
     "cell_type": "code",
     "collapsed": false,
     "input": [
      "data_list = [6, 7.5, 8, 0, 1]"
     ],
     "language": "python",
     "metadata": {},
     "outputs": [],
     "prompt_number": 35
    },
    {
     "cell_type": "code",
     "collapsed": false,
     "input": [
      "arr_list  = np.array(data_list, int)"
     ],
     "language": "python",
     "metadata": {},
     "outputs": [],
     "prompt_number": 42
    },
    {
     "cell_type": "markdown",
     "metadata": {},
     "source": [
      "\ub450\ubc88\uc9f8 \ud30c\ub77c\ubbf8\ud130\ub294 \uc6d0\uc18c\ub4e4\uc758 type \uc9c0\uc815\ud560 \uc218 \uc788\ub2e4. \uc0dd\ub7b5\uc2dc \uc790\ub3d9\uc73c\ub85c \uc54c\ub9de\uc740 \ud0c0\uc785\uc73c\ub85c \uc9c0\uc815\ub418\uace0 `dtype` \uc18d\uc131\uc73c\ub85c \uc54c\uc544\ubcfc \uc218 \uc788\ub2e4."
     ]
    },
    {
     "cell_type": "code",
     "collapsed": false,
     "input": [
      "arr_list"
     ],
     "language": "python",
     "metadata": {},
     "outputs": [
      {
       "metadata": {},
       "output_type": "pyout",
       "prompt_number": 43,
       "text": [
        "array([6, 7, 8, 0, 1])"
       ]
      }
     ],
     "prompt_number": 43
    },
    {
     "cell_type": "code",
     "collapsed": false,
     "input": [
      "arr_list * 10\n",
      "arr_list.dtype"
     ],
     "language": "python",
     "metadata": {},
     "outputs": [
      {
       "metadata": {},
       "output_type": "pyout",
       "prompt_number": 39,
       "text": [
        "dtype('float64')"
       ]
      }
     ],
     "prompt_number": 39
    },
    {
     "cell_type": "code",
     "collapsed": false,
     "input": [
      "data_tuple = (1,2,4,5)\n",
      "np.array(data_tuple)"
     ],
     "language": "python",
     "metadata": {},
     "outputs": [
      {
       "metadata": {},
       "output_type": "pyout",
       "prompt_number": 45,
       "text": [
        "array([1, 2, 4, 5])"
       ]
      }
     ],
     "prompt_number": 45
    },
    {
     "cell_type": "code",
     "collapsed": false,
     "input": [
      "data_dic = {1: 2, 2: 3}\n",
      "np.array(data_dic) * 10"
     ],
     "language": "python",
     "metadata": {},
     "outputs": [
      {
       "ename": "TypeError",
       "evalue": "unsupported operand type(s) for *: 'dict' and 'int'",
       "output_type": "pyerr",
       "traceback": [
        "\u001b[0;31m---------------------------------------------------------------------------\u001b[0m\n\u001b[0;31mTypeError\u001b[0m                                 Traceback (most recent call last)",
        "\u001b[0;32m<ipython-input-47-6f734a476a84>\u001b[0m in \u001b[0;36m<module>\u001b[0;34m()\u001b[0m\n\u001b[1;32m      1\u001b[0m \u001b[0mdata_dic\u001b[0m \u001b[0;34m=\u001b[0m \u001b[0;34m{\u001b[0m\u001b[0;36m1\u001b[0m\u001b[0;34m:\u001b[0m \u001b[0;36m2\u001b[0m\u001b[0;34m,\u001b[0m \u001b[0;36m2\u001b[0m\u001b[0;34m:\u001b[0m \u001b[0;36m3\u001b[0m\u001b[0;34m}\u001b[0m\u001b[0;34m\u001b[0m\u001b[0m\n\u001b[0;32m----> 2\u001b[0;31m \u001b[0mnp\u001b[0m\u001b[0;34m.\u001b[0m\u001b[0marray\u001b[0m\u001b[0;34m(\u001b[0m\u001b[0mdata_dic\u001b[0m\u001b[0;34m)\u001b[0m \u001b[0;34m*\u001b[0m \u001b[0;36m10\u001b[0m\u001b[0;34m\u001b[0m\u001b[0m\n\u001b[0m",
        "\u001b[0;31mTypeError\u001b[0m: unsupported operand type(s) for *: 'dict' and 'int'"
       ]
      }
     ],
     "prompt_number": 47
    },
    {
     "cell_type": "markdown",
     "metadata": {},
     "source": [
      "**dictionary** \ud0c0\uc785\uc73c\ub85c \uc0dd\uc131\uc2dc object \uc6d0\uc18c\uac00 \ub4e4\uc5b4\uac00\uace0 **\uc5f0\uc0b0\uc744 \ud560\uc218 \uc5c6\uac8c\ub41c\ub2e4**"
     ]
    },
    {
     "cell_type": "code",
     "collapsed": false,
     "input": [
      "np.zeros(10)"
     ],
     "language": "python",
     "metadata": {},
     "outputs": [
      {
       "metadata": {},
       "output_type": "pyout",
       "prompt_number": 48,
       "text": [
        "array([ 0.,  0.,  0.,  0.,  0.,  0.,  0.,  0.,  0.,  0.])"
       ]
      }
     ],
     "prompt_number": 48
    },
    {
     "cell_type": "code",
     "collapsed": false,
     "input": [
      "np.ones(10)"
     ],
     "language": "python",
     "metadata": {},
     "outputs": [
      {
       "metadata": {},
       "output_type": "pyout",
       "prompt_number": 49,
       "text": [
        "array([ 1.,  1.,  1.,  1.,  1.,  1.,  1.,  1.,  1.,  1.])"
       ]
      }
     ],
     "prompt_number": 49
    },
    {
     "cell_type": "code",
     "collapsed": false,
     "input": [
      "np.empty((1,1,1))"
     ],
     "language": "python",
     "metadata": {},
     "outputs": [
      {
       "metadata": {},
       "output_type": "pyout",
       "prompt_number": 57,
       "text": [
        "array([[[ 0.]]])"
       ]
      }
     ],
     "prompt_number": 57
    },
    {
     "cell_type": "markdown",
     "metadata": {},
     "source": [
      "empty \ub294 \ucd08\uae30\ud654 \ub418\uc9c0 \uc54a\uc740 \uac12\uc73c\ub85c \ucc44\uc6cc\uc9c4 \ubc30\uc5f4\uc744 \ubc18\ud658\ud55c\ub530\uace0 \ud558\ub294\ub370 \ubb34\uc2a8\ub9d0\uc77c\uae4c.."
     ]
    },
    {
     "cell_type": "markdown",
     "metadata": {},
     "source": [
      "### ndarray \ud615\ubcc0\ud658"
     ]
    },
    {
     "cell_type": "code",
     "collapsed": false,
     "input": [
      "data_convert = random.rand(2,3)\n",
      "data_convert"
     ],
     "language": "python",
     "metadata": {},
     "outputs": [
      {
       "metadata": {},
       "output_type": "pyout",
       "prompt_number": 62,
       "text": [
        "array([[ 0.5083739 ,  0.21856969,  0.40650744],\n",
        "       [ 0.84586523,  0.30676454,  0.66227967]])"
       ]
      }
     ],
     "prompt_number": 62
    },
    {
     "cell_type": "code",
     "collapsed": false,
     "input": [
      "data_convert.dtype"
     ],
     "language": "python",
     "metadata": {},
     "outputs": [
      {
       "metadata": {},
       "output_type": "pyout",
       "prompt_number": 59,
       "text": [
        "dtype('float64')"
       ]
      }
     ],
     "prompt_number": 59
    },
    {
     "cell_type": "code",
     "collapsed": false,
     "input": [
      "float_arr = data_convert.astype(np.int)"
     ],
     "language": "python",
     "metadata": {},
     "outputs": [],
     "prompt_number": 60
    },
    {
     "cell_type": "code",
     "collapsed": false,
     "input": [
      "float_arr"
     ],
     "language": "python",
     "metadata": {},
     "outputs": [
      {
       "metadata": {},
       "output_type": "pyout",
       "prompt_number": 61,
       "text": [
        "array([[0, 0, 0],\n",
        "       [0, 0, 0]])"
       ]
      }
     ],
     "prompt_number": 61
    },
    {
     "cell_type": "markdown",
     "metadata": {},
     "source": [
      "### \ubc30\uc5f4\uacfc \uc2a4\uce7c\ub77c\uac04\uc758 \uc5f0\uc0b0\n",
      "- for\ubb38\uc744 \ub3cc\ub9ac\uc9c0 \uc54a\uace0\ub3c4 \uc77c\uad04 \uc5f0\uc0b0\uc774 \uac00\ub2a5\ud558\uace0 \uc774\ub97c \ubca1\ud130\ud654 \ub77c\uace0 \ud55c\ub2e4"
     ]
    },
    {
     "cell_type": "code",
     "collapsed": false,
     "input": [
      "arr = np.array([[1., 2. ,3. ], [4., 5., 6. ]])"
     ],
     "language": "python",
     "metadata": {},
     "outputs": [],
     "prompt_number": 64
    },
    {
     "cell_type": "code",
     "collapsed": false,
     "input": [
      "1/ arr"
     ],
     "language": "python",
     "metadata": {},
     "outputs": [
      {
       "metadata": {},
       "output_type": "pyout",
       "prompt_number": 65,
       "text": [
        "array([[ 1.        ,  0.5       ,  0.33333333],\n",
        "       [ 0.25      ,  0.2       ,  0.16666667]])"
       ]
      }
     ],
     "prompt_number": 65
    },
    {
     "cell_type": "code",
     "collapsed": false,
     "input": [
      "arr_err = np.array([[1., 2. ,3. ], [4., 5.]])"
     ],
     "language": "python",
     "metadata": {},
     "outputs": [],
     "prompt_number": 71
    },
    {
     "cell_type": "code",
     "collapsed": false,
     "input": [
      "arr_err"
     ],
     "language": "python",
     "metadata": {},
     "outputs": [
      {
       "metadata": {},
       "output_type": "pyout",
       "prompt_number": 73,
       "text": [
        "array([[1.0, 2.0, 3.0], [4.0, 5.0]], dtype=object)"
       ]
      }
     ],
     "prompt_number": 73
    },
    {
     "cell_type": "markdown",
     "metadata": {},
     "source": [
      "- \uc0dd\uc131\uc2dc \ubc30\uc5f4\uc758 \ud06c\uae30\uac00 \ub2e4\ub974\uba74 \uc5ed\uc2dc object type\uc73c\ub85c \uc0dd\uc131\uc774 \ub418\uace0 \uc5f0\uc0b0\uc774 \uc548\ub41c\ub2e4"
     ]
    },
    {
     "cell_type": "code",
     "collapsed": false,
     "input": [
      "1 / arr_err"
     ],
     "language": "python",
     "metadata": {},
     "outputs": [
      {
       "ename": "TypeError",
       "evalue": "unsupported operand type(s) for /: 'int' and 'list'",
       "output_type": "pyerr",
       "traceback": [
        "\u001b[0;31m---------------------------------------------------------------------------\u001b[0m\n\u001b[0;31mTypeError\u001b[0m                                 Traceback (most recent call last)",
        "\u001b[0;32m<ipython-input-74-e15b03b2bfd7>\u001b[0m in \u001b[0;36m<module>\u001b[0;34m()\u001b[0m\n\u001b[0;32m----> 1\u001b[0;31m \u001b[0;36m1\u001b[0m \u001b[0;34m/\u001b[0m \u001b[0marr_err\u001b[0m\u001b[0;34m\u001b[0m\u001b[0m\n\u001b[0m",
        "\u001b[0;31mTypeError\u001b[0m: unsupported operand type(s) for /: 'int' and 'list'"
       ]
      }
     ],
     "prompt_number": 74
    },
    {
     "cell_type": "code",
     "collapsed": false,
     "input": [
      "arr + np.array([1, 2, 3])"
     ],
     "language": "python",
     "metadata": {},
     "outputs": [
      {
       "metadata": {},
       "output_type": "pyout",
       "prompt_number": 79,
       "text": [
        "array([[ 2.,  4.,  6.],\n",
        "       [ 5.,  7.,  9.]])"
       ]
      }
     ],
     "prompt_number": 79
    },
    {
     "cell_type": "code",
     "collapsed": false,
     "input": [
      "arr + np.array([1, 2])"
     ],
     "language": "python",
     "metadata": {},
     "outputs": [
      {
       "ename": "ValueError",
       "evalue": "operands could not be broadcast together with shapes (2,3) (2,) ",
       "output_type": "pyerr",
       "traceback": [
        "\u001b[0;31m---------------------------------------------------------------------------\u001b[0m\n\u001b[0;31mValueError\u001b[0m                                Traceback (most recent call last)",
        "\u001b[0;32m<ipython-input-80-3005163e6b61>\u001b[0m in \u001b[0;36m<module>\u001b[0;34m()\u001b[0m\n\u001b[0;32m----> 1\u001b[0;31m \u001b[0marr\u001b[0m \u001b[0;34m+\u001b[0m \u001b[0mnp\u001b[0m\u001b[0;34m.\u001b[0m\u001b[0marray\u001b[0m\u001b[0;34m(\u001b[0m\u001b[0;34m[\u001b[0m\u001b[0;36m1\u001b[0m\u001b[0;34m,\u001b[0m \u001b[0;36m2\u001b[0m\u001b[0;34m]\u001b[0m\u001b[0;34m)\u001b[0m\u001b[0;34m\u001b[0m\u001b[0m\n\u001b[0m",
        "\u001b[0;31mValueError\u001b[0m: operands could not be broadcast together with shapes (2,3) (2,) "
       ]
      }
     ],
     "prompt_number": 80
    },
    {
     "cell_type": "markdown",
     "metadata": {},
     "source": [
      "- \uc5f0\uc0b0\ud560 ndarray \uac00 \ub2ec\ub77c\ub3c4 \uc624\ub958\uac00 \ubc1c\uc0dd\ud55c\ub2e4"
     ]
    },
    {
     "cell_type": "markdown",
     "metadata": {},
     "source": [
      "###\uc2ac\ub77c\uc774\uc2a4 \uc0c9\uc778"
     ]
    },
    {
     "cell_type": "code",
     "collapsed": false,
     "input": [
      "arr = np.arange(10)\n",
      "arr"
     ],
     "language": "python",
     "metadata": {},
     "outputs": [
      {
       "metadata": {},
       "output_type": "pyout",
       "prompt_number": 97,
       "text": [
        "array([0, 1, 2, 3, 4, 5, 6, 7, 8, 9])"
       ]
      }
     ],
     "prompt_number": 97
    },
    {
     "cell_type": "code",
     "collapsed": false,
     "input": [
      "arr[5]"
     ],
     "language": "python",
     "metadata": {},
     "outputs": [
      {
       "metadata": {},
       "output_type": "pyout",
       "prompt_number": 98,
       "text": [
        "5"
       ]
      }
     ],
     "prompt_number": 98
    },
    {
     "cell_type": "code",
     "collapsed": false,
     "input": [
      "arr[5:8]"
     ],
     "language": "python",
     "metadata": {},
     "outputs": [
      {
       "metadata": {},
       "output_type": "pyout",
       "prompt_number": 99,
       "text": [
        "array([5, 6, 7])"
       ]
      }
     ],
     "prompt_number": 99
    },
    {
     "cell_type": "markdown",
     "metadata": {},
     "source": [
      "value : [  0  ,  1  ,  2  ,  3  ,  4  ,  5  ,  6  ,  7  ,  8  ,  9  ]\n",
      "\n",
      "index : 0----1-----2-----3-----4-----5-----6-----7-----8-----9-----10\n"
     ]
    },
    {
     "cell_type": "code",
     "collapsed": false,
     "input": [
      "arr_slice = arr[5:8]\n",
      "arr_slice"
     ],
     "language": "python",
     "metadata": {},
     "outputs": [
      {
       "metadata": {},
       "output_type": "pyout",
       "prompt_number": 100,
       "text": [
        "array([5, 6, 7])"
       ]
      }
     ],
     "prompt_number": 100
    },
    {
     "cell_type": "code",
     "collapsed": false,
     "input": [
      "arr_slice[1] = 19283"
     ],
     "language": "python",
     "metadata": {},
     "outputs": [],
     "prompt_number": 101
    },
    {
     "cell_type": "code",
     "collapsed": false,
     "input": [
      "arr_slice"
     ],
     "language": "python",
     "metadata": {},
     "outputs": [
      {
       "metadata": {},
       "output_type": "pyout",
       "prompt_number": 102,
       "text": [
        "array([    5, 19283,     7])"
       ]
      }
     ],
     "prompt_number": 102
    },
    {
     "cell_type": "code",
     "collapsed": false,
     "input": [
      "arr"
     ],
     "language": "python",
     "metadata": {},
     "outputs": [
      {
       "metadata": {},
       "output_type": "pyout",
       "prompt_number": 103,
       "text": [
        "array([    0,     1,     2,     3,     4,     5, 19283,     7,     8,     9])"
       ]
      }
     ],
     "prompt_number": 103
    },
    {
     "cell_type": "markdown",
     "metadata": {},
     "source": [
      "`[start:end]` \ub85c \uc0c9\uc778 \ud560 \uacbd\uc6b0 \ub370\uc774\ud130 \ubcf5\uc0ac\uac00 \uc544\ub2cc **\uc6d0\ubcf8\uc744 \ucc38\uc870**\ud558\uac8c \ub41c\ub2e4. \uadf8\ub798\uc11c `[start:end]` \ub85c return \ubc1b\uc740 \ubcc0\uc218\uc758 \uac12\uc744 \ubcc0\uacbd\ud558\uba74 **\uc6d0\ubcf8\uc758 \uac12\ub3c4 \ubc14\ub010\ub2e4**.\n",
      "`arr[5:8].copy()`\ub97c \ud558\uba74 \ubcf5\uc0ac \uac00\ub2a5\ud558\ub2e4. \ud558\uc9c0\ub9cc \ub300\uc6a9\ub7c9 \ub370\uc774\ud130\ub97c \uae30\ubc18\uc73c\ub85c \uc124\uacc4\ub418\uc5b4 \uaf2d \ud544\uc694\ud560\ub54c\ub9cc \uc0ac\uc6a9\ud574\uc57c \ud55c\ub2e4."
     ]
    },
    {
     "cell_type": "code",
     "collapsed": false,
     "input": [
      "arr_slice_2 = arr[5:8].copy()\n",
      "arr_slice_2"
     ],
     "language": "python",
     "metadata": {},
     "outputs": [
      {
       "metadata": {},
       "output_type": "pyout",
       "prompt_number": 104,
       "text": [
        "array([    5, 19283,     7])"
       ]
      }
     ],
     "prompt_number": 104
    },
    {
     "cell_type": "code",
     "collapsed": false,
     "input": [
      "arr_slice_2[1] = 6\n",
      "arr_slice_2"
     ],
     "language": "python",
     "metadata": {},
     "outputs": [
      {
       "metadata": {},
       "output_type": "pyout",
       "prompt_number": 105,
       "text": [
        "array([5, 6, 7])"
       ]
      }
     ],
     "prompt_number": 105
    },
    {
     "cell_type": "code",
     "collapsed": false,
     "input": [
      "arr"
     ],
     "language": "python",
     "metadata": {},
     "outputs": [
      {
       "metadata": {},
       "output_type": "pyout",
       "prompt_number": 106,
       "text": [
        "array([    0,     1,     2,     3,     4,     5, 19283,     7,     8,     9])"
       ]
      }
     ],
     "prompt_number": 106
    },
    {
     "cell_type": "code",
     "collapsed": false,
     "input": [
      "arr_test = np.array([[[1, 2], [3, 4]], [[5, 6],[7, 8]]])\n",
      "arr_test"
     ],
     "language": "python",
     "metadata": {},
     "outputs": [
      {
       "metadata": {},
       "output_type": "pyout",
       "prompt_number": 117,
       "text": [
        "array([[[1, 2],\n",
        "        [3, 4]],\n",
        "\n",
        "       [[5, 6],\n",
        "        [7, 8]]])"
       ]
      }
     ],
     "prompt_number": 117
    },
    {
     "cell_type": "code",
     "collapsed": false,
     "input": [
      "arr_test[0][0][0]"
     ],
     "language": "python",
     "metadata": {},
     "outputs": [
      {
       "metadata": {},
       "output_type": "pyout",
       "prompt_number": 118,
       "text": [
        "1"
       ]
      }
     ],
     "prompt_number": 118
    },
    {
     "cell_type": "code",
     "collapsed": false,
     "input": [
      "arr_test[0, 0]"
     ],
     "language": "python",
     "metadata": {},
     "outputs": [
      {
       "metadata": {},
       "output_type": "pyout",
       "prompt_number": 120,
       "text": [
        "array([1, 2])"
       ]
      }
     ],
     "prompt_number": 120
    },
    {
     "cell_type": "code",
     "collapsed": false,
     "input": [
      "arr_test[0:1][:2]"
     ],
     "language": "python",
     "metadata": {},
     "outputs": [
      {
       "metadata": {},
       "output_type": "pyout",
       "prompt_number": 121,
       "text": [
        "array([[[1, 2],\n",
        "        [3, 4]]])"
       ]
      }
     ],
     "prompt_number": 121
    },
    {
     "cell_type": "code",
     "collapsed": false,
     "input": [
      "arr2d = [[1,2,3],[4,5,6],[7,8,9]]\n",
      "arr2d = np.array(arr2d);\n",
      "arr2d"
     ],
     "language": "python",
     "metadata": {},
     "outputs": [
      {
       "metadata": {},
       "output_type": "pyout",
       "prompt_number": 136,
       "text": [
        "array([[1, 2, 3],\n",
        "       [4, 5, 6],\n",
        "       [7, 8, 9]])"
       ]
      }
     ],
     "prompt_number": 136
    },
    {
     "cell_type": "code",
     "collapsed": false,
     "input": [
      "arr2d[:2]"
     ],
     "language": "python",
     "metadata": {},
     "outputs": [
      {
       "metadata": {},
       "output_type": "pyout",
       "prompt_number": 138,
       "text": [
        "array([[1, 2, 3],\n",
        "       [4, 5, 6]])"
       ]
      }
     ],
     "prompt_number": 138
    },
    {
     "cell_type": "code",
     "collapsed": false,
     "input": [
      "arr2d[:2, 0:1]"
     ],
     "language": "python",
     "metadata": {},
     "outputs": [
      {
       "metadata": {},
       "output_type": "pyout",
       "prompt_number": 142,
       "text": [
        "array([[1],\n",
        "       [4]])"
       ]
      }
     ],
     "prompt_number": 142
    },
    {
     "cell_type": "code",
     "collapsed": false,
     "input": [
      "arr2d[:2, 0]"
     ],
     "language": "python",
     "metadata": {},
     "outputs": [
      {
       "metadata": {},
       "output_type": "pyout",
       "prompt_number": 146,
       "text": [
        "array([1, 4])"
       ]
      }
     ],
     "prompt_number": 146
    },
    {
     "cell_type": "code",
     "collapsed": false,
     "input": [
      "arr2d[:2][0]"
     ],
     "language": "python",
     "metadata": {},
     "outputs": [
      {
       "metadata": {},
       "output_type": "pyout",
       "prompt_number": 147,
       "text": [
        "array([1, 2, 3])"
       ]
      }
     ],
     "prompt_number": 147
    },
    {
     "cell_type": "code",
     "collapsed": false,
     "input": [
      "arr2d[:2][0:1]"
     ],
     "language": "python",
     "metadata": {},
     "outputs": [
      {
       "metadata": {},
       "output_type": "pyout",
       "prompt_number": 145,
       "text": [
        "array([[1, 2, 3]])"
       ]
      }
     ],
     "prompt_number": 145
    },
    {
     "cell_type": "markdown",
     "metadata": {},
     "source": [
      "- [][]\ud615\uc2dd\uc73c\ub85c \uac00\uc838\uc624\uba74 []\uc758 \uacb0\uacfc\uc911\uc5d0 [] \uacb0\uacfc\ub97c \ubc18\ud658\n",
      "- [,] \ud615\uc2dd\uc73c\ub85c \uac00\uc838\uc62c\ub54c \uc2ac\ub77c\uc774\uc2f1\uc744 \ud558\uba74 \uc2a4\uce7c\ub77c \uc5f0\uc0b0\uc744 \ud1b5\ud574 \uac19\uc740 \ud06c\uae30\uc758 \ubc30\uc5f4\uc774 \ubc18\ud658\ub418\uace0 , \uc778\ub371\uc2f1\uc744 \ud55c\ub2e4\uba74 \uacb0\uacfc\uac12\uc744 \ud558\ub098\uc758 \ubc30\uc5f4\ud615\ud0dc\ub85c \ubc18\ud658\ud55c\ub2e4"
     ]
    },
    {
     "cell_type": "markdown",
     "metadata": {},
     "source": [
      "###\ubd88\ub9ac\uc5b8 \uc0c9\uc778"
     ]
    },
    {
     "cell_type": "code",
     "collapsed": false,
     "input": [
      "name = np.array(['aa', 'bb', 'cc', 'aa', 'cc', 'bb', 'cc'])\n",
      "name"
     ],
     "language": "python",
     "metadata": {},
     "outputs": [
      {
       "metadata": {},
       "output_type": "pyout",
       "prompt_number": 175,
       "text": [
        "array(['aa', 'bb', 'cc', 'aa', 'cc', 'bb', 'cc'], \n",
        "      dtype='|S2')"
       ]
      }
     ],
     "prompt_number": 175
    },
    {
     "cell_type": "code",
     "collapsed": false,
     "input": [
      "data = np.random.rand(7, 4)\n",
      "data"
     ],
     "language": "python",
     "metadata": {},
     "outputs": [
      {
       "metadata": {},
       "output_type": "pyout",
       "prompt_number": 160,
       "text": [
        "array([[ 0.42423326,  0.27763951,  0.49285316,  0.1736446 ],\n",
        "       [ 0.26265969,  0.07050675,  0.1666028 ,  0.70966129],\n",
        "       [ 0.76461266,  0.67934727,  0.04266125,  0.04019383],\n",
        "       [ 0.72346451,  0.73431205,  0.6770734 ,  0.05792041],\n",
        "       [ 0.81314649,  0.25596219,  0.82203093,  0.59456714],\n",
        "       [ 0.34472165,  0.10883332,  0.92369399,  0.34441675],\n",
        "       [ 0.38018838,  0.78435025,  0.50829005,  0.56153953]])"
       ]
      }
     ],
     "prompt_number": 160
    },
    {
     "cell_type": "code",
     "collapsed": false,
     "input": [
      "name == 'aa'"
     ],
     "language": "python",
     "metadata": {},
     "outputs": [
      {
       "metadata": {},
       "output_type": "pyout",
       "prompt_number": 177,
       "text": [
        "array([ True, False, False,  True, False, False, False], dtype=bool)"
       ]
      }
     ],
     "prompt_number": 177
    },
    {
     "cell_type": "code",
     "collapsed": false,
     "input": [
      "data[name =='aa']"
     ],
     "language": "python",
     "metadata": {},
     "outputs": [
      {
       "metadata": {},
       "output_type": "pyout",
       "prompt_number": 162,
       "text": [
        "array([[ 0.42423326,  0.27763951,  0.49285316,  0.1736446 ],\n",
        "       [ 0.72346451,  0.73431205,  0.6770734 ,  0.05792041],\n",
        "       [ 0.34472165,  0.10883332,  0.92369399,  0.34441675]])"
       ]
      }
     ],
     "prompt_number": 162
    },
    {
     "cell_type": "code",
     "collapsed": false,
     "input": [
      "data = np.random.rand(3,4)\n",
      "data[name == 'aa']"
     ],
     "language": "python",
     "metadata": {},
     "outputs": [
      {
       "ename": "IndexError",
       "evalue": "index 3 is out of bounds for axis 0 with size 3",
       "output_type": "pyerr",
       "traceback": [
        "\u001b[0;31m---------------------------------------------------------------------------\u001b[0m\n\u001b[0;31mIndexError\u001b[0m                                Traceback (most recent call last)",
        "\u001b[0;32m<ipython-input-181-02bbfed3f6c4>\u001b[0m in \u001b[0;36m<module>\u001b[0;34m()\u001b[0m\n\u001b[1;32m      1\u001b[0m \u001b[0mdata\u001b[0m \u001b[0;34m=\u001b[0m \u001b[0mnp\u001b[0m\u001b[0;34m.\u001b[0m\u001b[0mrandom\u001b[0m\u001b[0;34m.\u001b[0m\u001b[0mrand\u001b[0m\u001b[0;34m(\u001b[0m\u001b[0;36m3\u001b[0m\u001b[0;34m,\u001b[0m\u001b[0;36m4\u001b[0m\u001b[0;34m)\u001b[0m\u001b[0;34m\u001b[0m\u001b[0m\n\u001b[0;32m----> 2\u001b[0;31m \u001b[0mdata\u001b[0m\u001b[0;34m[\u001b[0m\u001b[0mname\u001b[0m \u001b[0;34m==\u001b[0m \u001b[0;34m'aa'\u001b[0m\u001b[0;34m]\u001b[0m\u001b[0;34m\u001b[0m\u001b[0m\n\u001b[0m",
        "\u001b[0;31mIndexError\u001b[0m: index 3 is out of bounds for axis 0 with size 3"
       ]
      }
     ],
     "prompt_number": 181
    },
    {
     "cell_type": "markdown",
     "metadata": {},
     "source": [
      "True \uc77c\ub54c \ubc30\uc5f4\uc774 \ube44\uc5b4\uc788\uc73c\uba74 \uc5d0\ub7ec\uac00 \ubc1c\uc0dd\ud55c\ub2e4."
     ]
    },
    {
     "cell_type": "code",
     "collapsed": false,
     "input": [
      "data = np.random.rand(7,4)\n",
      "data[name == 'aa'] = 7\n",
      "data "
     ],
     "language": "python",
     "metadata": {},
     "outputs": [
      {
       "metadata": {},
       "output_type": "pyout",
       "prompt_number": 185,
       "text": [
        "array([[ 7.        ,  7.        ,  7.        ,  7.        ],\n",
        "       [ 0.39364704,  0.87292391,  0.76925065,  0.42678632],\n",
        "       [ 0.80633526,  0.87144744,  0.36760411,  0.66352417],\n",
        "       [ 7.        ,  7.        ,  7.        ,  7.        ],\n",
        "       [ 0.48209914,  0.65542549,  0.27123913,  0.31208138],\n",
        "       [ 0.82528268,  0.07288768,  0.28792245,  0.61255473],\n",
        "       [ 0.56439944,  0.72937259,  0.38934205,  0.58702363]])"
       ]
      }
     ],
     "prompt_number": 185
    },
    {
     "cell_type": "markdown",
     "metadata": {},
     "source": [
      "###\ud32c\uc2dc \uc0c9\uc778"
     ]
    },
    {
     "cell_type": "code",
     "collapsed": false,
     "input": [
      "arr = np.empty((8, 4))\n",
      "arr"
     ],
     "language": "python",
     "metadata": {},
     "outputs": [
      {
       "metadata": {},
       "output_type": "pyout",
       "prompt_number": 188,
       "text": [
        "array([[ 0.23910863,  0.26518301,  0.26831138,  0.78698408],\n",
        "       [ 0.19643992,  0.96198833,  0.67462582,  0.9550939 ],\n",
        "       [ 0.61973045,  0.41192078,  0.00991318,  0.63908325],\n",
        "       [ 0.56642234,  0.2644983 ,  0.22214805,  0.50628873],\n",
        "       [ 0.77005105,  0.69038582,  0.82066187,  0.30643482],\n",
        "       [ 0.2345862 ,  0.57513676,  0.66346132,  0.80667436],\n",
        "       [ 0.67935549,  0.04779409,  0.37967777,  0.30536926],\n",
        "       [ 0.37862777,  0.43644552,  0.97060113,  0.0797693 ]])"
       ]
      }
     ],
     "prompt_number": 188
    },
    {
     "cell_type": "code",
     "collapsed": false,
     "input": [
      "for i in range(8) :\n",
      "    arr[i] = i\n",
      "    \n",
      "arr"
     ],
     "language": "python",
     "metadata": {},
     "outputs": [
      {
       "metadata": {},
       "output_type": "pyout",
       "prompt_number": 192,
       "text": [
        "array([[ 0.,  0.,  0.,  0.],\n",
        "       [ 1.,  1.,  1.,  1.],\n",
        "       [ 2.,  2.,  2.,  2.],\n",
        "       [ 3.,  3.,  3.,  3.],\n",
        "       [ 4.,  4.,  4.,  4.],\n",
        "       [ 5.,  5.,  5.,  5.],\n",
        "       [ 6.,  6.,  6.,  6.],\n",
        "       [ 7.,  7.,  7.,  7.]])"
       ]
      }
     ],
     "prompt_number": 192
    },
    {
     "cell_type": "code",
     "collapsed": false,
     "input": [
      "arr[[4, 5, 0, 6]]"
     ],
     "language": "python",
     "metadata": {},
     "outputs": [
      {
       "metadata": {},
       "output_type": "pyout",
       "prompt_number": 196,
       "text": [
        "array([[ 4.,  4.,  4.,  4.],\n",
        "       [ 5.,  5.,  5.,  5.],\n",
        "       [ 0.,  0.,  0.,  0.],\n",
        "       [ 6.,  6.,  6.,  6.]])"
       ]
      }
     ],
     "prompt_number": 196
    },
    {
     "cell_type": "code",
     "collapsed": false,
     "input": [
      "arr[[-1, -3]]"
     ],
     "language": "python",
     "metadata": {},
     "outputs": [
      {
       "metadata": {},
       "output_type": "pyout",
       "prompt_number": 197,
       "text": [
        "array([[ 7.,  7.,  7.,  7.],\n",
        "       [ 5.,  5.,  5.,  5.]])"
       ]
      }
     ],
     "prompt_number": 197
    },
    {
     "cell_type": "code",
     "collapsed": false,
     "input": [
      "arr = np.arange(32).reshape((8, 4))"
     ],
     "language": "python",
     "metadata": {},
     "outputs": [],
     "prompt_number": 205
    },
    {
     "cell_type": "code",
     "collapsed": false,
     "input": [
      "arr"
     ],
     "language": "python",
     "metadata": {},
     "outputs": [
      {
       "metadata": {},
       "output_type": "pyout",
       "prompt_number": 206,
       "text": [
        "array([[ 0,  1,  2,  3],\n",
        "       [ 4,  5,  6,  7],\n",
        "       [ 8,  9, 10, 11],\n",
        "       [12, 13, 14, 15],\n",
        "       [16, 17, 18, 19],\n",
        "       [20, 21, 22, 23],\n",
        "       [24, 25, 26, 27],\n",
        "       [28, 29, 30, 31]])"
       ]
      }
     ],
     "prompt_number": 206
    },
    {
     "cell_type": "markdown",
     "metadata": {},
     "source": [
      "- reshape(x, y, z) ndarray \ub97c x * y * z \ud615\ud0dc\uc758 \ubc30\uc5f4\ub85c \ubc18\ud658"
     ]
    },
    {
     "cell_type": "code",
     "collapsed": false,
     "input": [
      "arr[[1, 5, 7, 2]]"
     ],
     "language": "python",
     "metadata": {},
     "outputs": [
      {
       "metadata": {},
       "output_type": "pyout",
       "prompt_number": 208,
       "text": [
        "array([[ 4,  5,  6,  7],\n",
        "       [20, 21, 22, 23],\n",
        "       [28, 29, 30, 31],\n",
        "       [ 8,  9, 10, 11]])"
       ]
      }
     ],
     "prompt_number": 208
    },
    {
     "cell_type": "code",
     "collapsed": false,
     "input": [
      "arr[[1, 5, 7, 2], [0, 3, 1, 2]]"
     ],
     "language": "python",
     "metadata": {},
     "outputs": [
      {
       "metadata": {},
       "output_type": "pyout",
       "prompt_number": 207,
       "text": [
        "array([ 4, 23, 29, 10])"
       ]
      }
     ],
     "prompt_number": 207
    },
    {
     "cell_type": "markdown",
     "metadata": {},
     "source": [
      "- \uc774\ucc28\uc6d0 \ubc30\uc5f4\uc5d0\uc11c\ub294 \uccab\ubc88\uc9f8 \uc778\uc790\ub294 \ud32c\uc2dc \uc0c9\uc778\uc774 \uc77c\uc5b4\ub098\uace0 \ub450\ubc88\uc9f8 \uc778\uc790\ub294 \uc778\ub371\uc2a4 \uc0c9\uc778\uc774 \ub41c\ub2e4"
     ]
    },
    {
     "cell_type": "markdown",
     "metadata": {},
     "source": [
      "2\ucc28\uc6d0 \ubc30\uc5f4\uc758 2\ucc28 \ubc30\uc5f4\ub3c4 \ud39c\uc2dc \uc0c9\uc778\uc744 \ud558\ub824\uba74 \uc544\ub798\ucc98\ub7fc \ud55c\ub2e4"
     ]
    },
    {
     "cell_type": "code",
     "collapsed": false,
     "input": [
      "arr[[1, 5, 7, 2]][:, [0, 3, 1]]"
     ],
     "language": "python",
     "metadata": {},
     "outputs": [
      {
       "metadata": {},
       "output_type": "pyout",
       "prompt_number": 212,
       "text": [
        "array([[ 4,  7,  5],\n",
        "       [20, 23, 21],\n",
        "       [28, 31, 29],\n",
        "       [ 8, 11,  9]])"
       ]
      }
     ],
     "prompt_number": 212
    },
    {
     "cell_type": "markdown",
     "metadata": {},
     "source": [
      "\uac19\uc740 \ubc29\ubc95\uc73c\ub85c \uc544\ub798\ucc98\ub7fc np.ix_ \ud568\uc218\ub97c \uc0ac\uc6a9\ud560 \uc218 \uc788\ub2e4"
     ]
    },
    {
     "cell_type": "code",
     "collapsed": false,
     "input": [
      "arr[np.ix_([1, 5, 7, 2], [0, 3, 1])]"
     ],
     "language": "python",
     "metadata": {},
     "outputs": [
      {
       "metadata": {},
       "output_type": "pyout",
       "prompt_number": 214,
       "text": [
        "array([[ 4,  7,  5],\n",
        "       [20, 23, 21],\n",
        "       [28, 31, 29],\n",
        "       [ 8, 11,  9]])"
       ]
      }
     ],
     "prompt_number": 214
    },
    {
     "cell_type": "markdown",
     "metadata": {},
     "source": [
      "###\uc804\uce58\uc640 \ucd95 \ubc14\uafb8\uae30"
     ]
    },
    {
     "cell_type": "code",
     "collapsed": false,
     "input": [
      "arr = np.arange(15).reshape((3, 5))\n",
      "arr"
     ],
     "language": "python",
     "metadata": {},
     "outputs": [
      {
       "metadata": {},
       "output_type": "pyout",
       "prompt_number": 217,
       "text": [
        "array([[ 0,  1,  2,  3,  4],\n",
        "       [ 5,  6,  7,  8,  9],\n",
        "       [10, 11, 12, 13, 14]])"
       ]
      }
     ],
     "prompt_number": 217
    },
    {
     "cell_type": "code",
     "collapsed": false,
     "input": [
      "arr.T"
     ],
     "language": "python",
     "metadata": {},
     "outputs": [
      {
       "metadata": {},
       "output_type": "pyout",
       "prompt_number": 218,
       "text": [
        "array([[ 0,  5, 10],\n",
        "       [ 1,  6, 11],\n",
        "       [ 2,  7, 12],\n",
        "       [ 3,  8, 13],\n",
        "       [ 4,  9, 14]])"
       ]
      }
     ],
     "prompt_number": 218
    },
    {
     "cell_type": "code",
     "collapsed": false,
     "input": [
      "arr = np.arange(18).reshape((6, 3))\n",
      "arr"
     ],
     "language": "python",
     "metadata": {},
     "outputs": [
      {
       "metadata": {},
       "output_type": "pyout",
       "prompt_number": 222,
       "text": [
        "array([[ 0,  1,  2],\n",
        "       [ 3,  4,  5],\n",
        "       [ 6,  7,  8],\n",
        "       [ 9, 10, 11],\n",
        "       [12, 13, 14],\n",
        "       [15, 16, 17]])"
       ]
      }
     ],
     "prompt_number": 222
    },
    {
     "cell_type": "code",
     "collapsed": false,
     "input": [
      "arr.T"
     ],
     "language": "python",
     "metadata": {},
     "outputs": [
      {
       "metadata": {},
       "output_type": "pyout",
       "prompt_number": 223,
       "text": [
        "array([[ 0,  3,  6,  9, 12, 15],\n",
        "       [ 1,  4,  7, 10, 13, 16],\n",
        "       [ 2,  5,  8, 11, 14, 17]])"
       ]
      }
     ],
     "prompt_number": 223
    },
    {
     "cell_type": "code",
     "collapsed": false,
     "input": [
      "np.dot(arr.T, arr)"
     ],
     "language": "python",
     "metadata": {},
     "outputs": [
      {
       "metadata": {},
       "output_type": "pyout",
       "prompt_number": 224,
       "text": [
        "array([[495, 540, 585],\n",
        "       [540, 591, 642],\n",
        "       [585, 642, 699]])"
       ]
      }
     ],
     "prompt_number": 224
    },
    {
     "cell_type": "markdown",
     "metadata": {},
     "source": [
      "\ud589\ub82c\uc758 \ub0b4\uc801 XtX \uacc4\uc0b0??"
     ]
    },
    {
     "cell_type": "code",
     "collapsed": false,
     "input": [
      "arr = np.arange(16).reshape((2, 2, 4))\n",
      "arr"
     ],
     "language": "python",
     "metadata": {},
     "outputs": [
      {
       "metadata": {},
       "output_type": "pyout",
       "prompt_number": 226,
       "text": [
        "array([[[ 0,  1,  2,  3],\n",
        "        [ 4,  5,  6,  7]],\n",
        "\n",
        "       [[ 8,  9, 10, 11],\n",
        "        [12, 13, 14, 15]]])"
       ]
      }
     ],
     "prompt_number": 226
    },
    {
     "cell_type": "code",
     "collapsed": false,
     "input": [
      "arr.transpose((1, 0, 2))"
     ],
     "language": "python",
     "metadata": {},
     "outputs": [
      {
       "metadata": {},
       "output_type": "pyout",
       "prompt_number": 227,
       "text": [
        "array([[[ 0,  1,  2,  3],\n",
        "        [ 8,  9, 10, 11]],\n",
        "\n",
        "       [[ 4,  5,  6,  7],\n",
        "        [12, 13, 14, 15]]])"
       ]
      }
     ],
     "prompt_number": 227
    },
    {
     "cell_type": "markdown",
     "metadata": {},
     "source": [
      "trnaspose : \ud29c\ud50c\ub85c \ucd95\ubc88\ud638\ub97c \ubc1b\uc544\uc11c \uce58\ud658\ud55c\ub2e4. \ub77c\uace0 \ud558\ub294\ub370 \ubb34\uc2a8\ub9d0??"
     ]
    },
    {
     "cell_type": "code",
     "collapsed": false,
     "input": [
      "arr.swapaxes(1, 2)"
     ],
     "language": "python",
     "metadata": {},
     "outputs": [
      {
       "metadata": {},
       "output_type": "pyout",
       "prompt_number": 236,
       "text": [
        "array([[[ 0,  4],\n",
        "        [ 1,  5],\n",
        "        [ 2,  6],\n",
        "        [ 3,  7]],\n",
        "\n",
        "       [[ 8, 12],\n",
        "        [ 9, 13],\n",
        "        [10, 14],\n",
        "        [11, 15]]])"
       ]
      }
     ],
     "prompt_number": 236
    },
    {
     "cell_type": "markdown",
     "metadata": {},
     "source": [
      "swapaxes : \ucd95\ubc88\ud638\ub97c \ud29c\ud50c\ub85c \ubc1b\uc544 \ubc30\uc5f4\uc744 \ub4a4\ubc14\uafbc\ub2e4. \ud558\uace0 \ud558\ub294\ub370 \uc774\uac83\ub3c4 \ubb34\uc2a8\ub9d0?"
     ]
    },
    {
     "cell_type": "markdown",
     "metadata": {},
     "source": [
      "> NOTE\n",
      "\n",
      "> \uc0c9\uc778\uc5d0\ub294 view \ubc18\ud658 \ud558\ub294 \ud568\uc218\uc640 ndarray \ub97c \ubc18\ud658\ud558\ub294 \uc0c9\uc778\uc774 \uc788\ub2e4. view \ub294 \uc6d0\ubcf8\uc744 \ucc38\uc870\ud558\uace0 \uc788\uc5b4 \ud574\ub2f9\uac12\uc744 \ubc14\uafb8\uba74 \uc6d0\ubcf8\uac12\ub3c4 \ubc14\ub010\ub2e4"
     ]
    },
    {
     "cell_type": "markdown",
     "metadata": {},
     "source": [
      "##\uc720\ub2c8\ubc84\uc124 \ud568\uc218"
     ]
    },
    {
     "cell_type": "code",
     "collapsed": false,
     "input": [
      "arr = np.arange(10)\n",
      "arr"
     ],
     "language": "python",
     "metadata": {},
     "outputs": [
      {
       "metadata": {},
       "output_type": "pyout",
       "prompt_number": 237,
       "text": [
        "array([0, 1, 2, 3, 4, 5, 6, 7, 8, 9])"
       ]
      }
     ],
     "prompt_number": 237
    },
    {
     "cell_type": "code",
     "collapsed": false,
     "input": [
      "np.sqrt(arr)"
     ],
     "language": "python",
     "metadata": {},
     "outputs": [
      {
       "metadata": {},
       "output_type": "pyout",
       "prompt_number": 238,
       "text": [
        "array([ 0.        ,  1.        ,  1.41421356,  1.73205081,  2.        ,\n",
        "        2.23606798,  2.44948974,  2.64575131,  2.82842712,  3.        ])"
       ]
      }
     ],
     "prompt_number": 238
    },
    {
     "cell_type": "code",
     "collapsed": false,
     "input": [
      "np.exp(arr)"
     ],
     "language": "python",
     "metadata": {},
     "outputs": [
      {
       "metadata": {},
       "output_type": "pyout",
       "prompt_number": 239,
       "text": [
        "array([  1.00000000e+00,   2.71828183e+00,   7.38905610e+00,\n",
        "         2.00855369e+01,   5.45981500e+01,   1.48413159e+02,\n",
        "         4.03428793e+02,   1.09663316e+03,   2.98095799e+03,\n",
        "         8.10308393e+03])"
       ]
      }
     ],
     "prompt_number": 239
    },
    {
     "cell_type": "code",
     "collapsed": false,
     "input": [
      "x = random.randn(8)\n",
      "x"
     ],
     "language": "python",
     "metadata": {},
     "outputs": [
      {
       "metadata": {},
       "output_type": "pyout",
       "prompt_number": 247,
       "text": [
        "array([-0.29905444,  1.5179866 , -1.90068814,  1.0450164 , -1.92509622,\n",
        "       -1.89634188,  0.70210999,  0.78269845])"
       ]
      }
     ],
     "prompt_number": 247
    },
    {
     "cell_type": "code",
     "collapsed": false,
     "input": [
      "y = random.randn(8)\n",
      "y"
     ],
     "language": "python",
     "metadata": {},
     "outputs": [
      {
       "metadata": {},
       "output_type": "pyout",
       "prompt_number": 242,
       "text": [
        "array([ 1.57894454,  1.39651915,  1.37447519, -0.88795586, -0.66227743,\n",
        "       -0.03901546,  1.37319824,  1.11271666])"
       ]
      }
     ],
     "prompt_number": 242
    },
    {
     "cell_type": "code",
     "collapsed": false,
     "input": [
      "np.maximum(x, y)"
     ],
     "language": "python",
     "metadata": {},
     "outputs": [
      {
       "metadata": {},
       "output_type": "pyout",
       "prompt_number": 248,
       "text": [
        "array([ 1.57894454,  1.5179866 ,  1.37447519,  1.0450164 , -0.66227743,\n",
        "       -0.03901546,  1.37319824,  1.11271666])"
       ]
      }
     ],
     "prompt_number": 248
    },
    {
     "cell_type": "markdown",
     "metadata": {},
     "source": [
      "- maximum (x, y) : x, y \uc758 \ud06c\uae30\uac00 \ub2e4\ub974\uba74 \uc5d0\ub7ec\ubc1c\uc0dd"
     ]
    },
    {
     "cell_type": "code",
     "collapsed": false,
     "input": [
      "arr = random.randn(7) * 5\n",
      "arr"
     ],
     "language": "python",
     "metadata": {},
     "outputs": [
      {
       "metadata": {},
       "output_type": "pyout",
       "prompt_number": 249,
       "text": [
        "array([-3.97341775,  2.65697021,  0.05041466,  2.6865573 ,  8.15938291,\n",
        "        4.49175678, -4.55227785])"
       ]
      }
     ],
     "prompt_number": 249
    },
    {
     "cell_type": "markdown",
     "metadata": {},
     "source": [
      "np.modf(arr)"
     ]
    },
    {
     "cell_type": "markdown",
     "metadata": {},
     "source": [
      "[\uadf8 \ubc16\uc758 \uba54\uc18c\ub4dc \uba54\ub274\uc5bc \ucc38\uc870\ub9c1\ud06c](http://docs.scipy.org/doc/numpy/reference/ufuncs.html)"
     ]
    },
    {
     "cell_type": "markdown",
     "metadata": {},
     "source": [
      "##---------------------\uc5ec\uae30\uae4c\uc9c0\uac00 \ub098\uc758 \ub2f4\ub2f9-------------------------"
     ]
    },
    {
     "cell_type": "code",
     "collapsed": false,
     "input": [
      "points = np.arange(-5, 5, 0.01)\n",
      "points"
     ],
     "language": "python",
     "metadata": {},
     "outputs": [
      {
       "metadata": {},
       "output_type": "pyout",
       "prompt_number": 252,
       "text": [
        "array([ -5.00000000e+00,  -4.99000000e+00,  -4.98000000e+00,\n",
        "        -4.97000000e+00,  -4.96000000e+00,  -4.95000000e+00,\n",
        "        -4.94000000e+00,  -4.93000000e+00,  -4.92000000e+00,\n",
        "        -4.91000000e+00,  -4.90000000e+00,  -4.89000000e+00,\n",
        "        -4.88000000e+00,  -4.87000000e+00,  -4.86000000e+00,\n",
        "        -4.85000000e+00,  -4.84000000e+00,  -4.83000000e+00,\n",
        "        -4.82000000e+00,  -4.81000000e+00,  -4.80000000e+00,\n",
        "        -4.79000000e+00,  -4.78000000e+00,  -4.77000000e+00,\n",
        "        -4.76000000e+00,  -4.75000000e+00,  -4.74000000e+00,\n",
        "        -4.73000000e+00,  -4.72000000e+00,  -4.71000000e+00,\n",
        "        -4.70000000e+00,  -4.69000000e+00,  -4.68000000e+00,\n",
        "        -4.67000000e+00,  -4.66000000e+00,  -4.65000000e+00,\n",
        "        -4.64000000e+00,  -4.63000000e+00,  -4.62000000e+00,\n",
        "        -4.61000000e+00,  -4.60000000e+00,  -4.59000000e+00,\n",
        "        -4.58000000e+00,  -4.57000000e+00,  -4.56000000e+00,\n",
        "        -4.55000000e+00,  -4.54000000e+00,  -4.53000000e+00,\n",
        "        -4.52000000e+00,  -4.51000000e+00,  -4.50000000e+00,\n",
        "        -4.49000000e+00,  -4.48000000e+00,  -4.47000000e+00,\n",
        "        -4.46000000e+00,  -4.45000000e+00,  -4.44000000e+00,\n",
        "        -4.43000000e+00,  -4.42000000e+00,  -4.41000000e+00,\n",
        "        -4.40000000e+00,  -4.39000000e+00,  -4.38000000e+00,\n",
        "        -4.37000000e+00,  -4.36000000e+00,  -4.35000000e+00,\n",
        "        -4.34000000e+00,  -4.33000000e+00,  -4.32000000e+00,\n",
        "        -4.31000000e+00,  -4.30000000e+00,  -4.29000000e+00,\n",
        "        -4.28000000e+00,  -4.27000000e+00,  -4.26000000e+00,\n",
        "        -4.25000000e+00,  -4.24000000e+00,  -4.23000000e+00,\n",
        "        -4.22000000e+00,  -4.21000000e+00,  -4.20000000e+00,\n",
        "        -4.19000000e+00,  -4.18000000e+00,  -4.17000000e+00,\n",
        "        -4.16000000e+00,  -4.15000000e+00,  -4.14000000e+00,\n",
        "        -4.13000000e+00,  -4.12000000e+00,  -4.11000000e+00,\n",
        "        -4.10000000e+00,  -4.09000000e+00,  -4.08000000e+00,\n",
        "        -4.07000000e+00,  -4.06000000e+00,  -4.05000000e+00,\n",
        "        -4.04000000e+00,  -4.03000000e+00,  -4.02000000e+00,\n",
        "        -4.01000000e+00,  -4.00000000e+00,  -3.99000000e+00,\n",
        "        -3.98000000e+00,  -3.97000000e+00,  -3.96000000e+00,\n",
        "        -3.95000000e+00,  -3.94000000e+00,  -3.93000000e+00,\n",
        "        -3.92000000e+00,  -3.91000000e+00,  -3.90000000e+00,\n",
        "        -3.89000000e+00,  -3.88000000e+00,  -3.87000000e+00,\n",
        "        -3.86000000e+00,  -3.85000000e+00,  -3.84000000e+00,\n",
        "        -3.83000000e+00,  -3.82000000e+00,  -3.81000000e+00,\n",
        "        -3.80000000e+00,  -3.79000000e+00,  -3.78000000e+00,\n",
        "        -3.77000000e+00,  -3.76000000e+00,  -3.75000000e+00,\n",
        "        -3.74000000e+00,  -3.73000000e+00,  -3.72000000e+00,\n",
        "        -3.71000000e+00,  -3.70000000e+00,  -3.69000000e+00,\n",
        "        -3.68000000e+00,  -3.67000000e+00,  -3.66000000e+00,\n",
        "        -3.65000000e+00,  -3.64000000e+00,  -3.63000000e+00,\n",
        "        -3.62000000e+00,  -3.61000000e+00,  -3.60000000e+00,\n",
        "        -3.59000000e+00,  -3.58000000e+00,  -3.57000000e+00,\n",
        "        -3.56000000e+00,  -3.55000000e+00,  -3.54000000e+00,\n",
        "        -3.53000000e+00,  -3.52000000e+00,  -3.51000000e+00,\n",
        "        -3.50000000e+00,  -3.49000000e+00,  -3.48000000e+00,\n",
        "        -3.47000000e+00,  -3.46000000e+00,  -3.45000000e+00,\n",
        "        -3.44000000e+00,  -3.43000000e+00,  -3.42000000e+00,\n",
        "        -3.41000000e+00,  -3.40000000e+00,  -3.39000000e+00,\n",
        "        -3.38000000e+00,  -3.37000000e+00,  -3.36000000e+00,\n",
        "        -3.35000000e+00,  -3.34000000e+00,  -3.33000000e+00,\n",
        "        -3.32000000e+00,  -3.31000000e+00,  -3.30000000e+00,\n",
        "        -3.29000000e+00,  -3.28000000e+00,  -3.27000000e+00,\n",
        "        -3.26000000e+00,  -3.25000000e+00,  -3.24000000e+00,\n",
        "        -3.23000000e+00,  -3.22000000e+00,  -3.21000000e+00,\n",
        "        -3.20000000e+00,  -3.19000000e+00,  -3.18000000e+00,\n",
        "        -3.17000000e+00,  -3.16000000e+00,  -3.15000000e+00,\n",
        "        -3.14000000e+00,  -3.13000000e+00,  -3.12000000e+00,\n",
        "        -3.11000000e+00,  -3.10000000e+00,  -3.09000000e+00,\n",
        "        -3.08000000e+00,  -3.07000000e+00,  -3.06000000e+00,\n",
        "        -3.05000000e+00,  -3.04000000e+00,  -3.03000000e+00,\n",
        "        -3.02000000e+00,  -3.01000000e+00,  -3.00000000e+00,\n",
        "        -2.99000000e+00,  -2.98000000e+00,  -2.97000000e+00,\n",
        "        -2.96000000e+00,  -2.95000000e+00,  -2.94000000e+00,\n",
        "        -2.93000000e+00,  -2.92000000e+00,  -2.91000000e+00,\n",
        "        -2.90000000e+00,  -2.89000000e+00,  -2.88000000e+00,\n",
        "        -2.87000000e+00,  -2.86000000e+00,  -2.85000000e+00,\n",
        "        -2.84000000e+00,  -2.83000000e+00,  -2.82000000e+00,\n",
        "        -2.81000000e+00,  -2.80000000e+00,  -2.79000000e+00,\n",
        "        -2.78000000e+00,  -2.77000000e+00,  -2.76000000e+00,\n",
        "        -2.75000000e+00,  -2.74000000e+00,  -2.73000000e+00,\n",
        "        -2.72000000e+00,  -2.71000000e+00,  -2.70000000e+00,\n",
        "        -2.69000000e+00,  -2.68000000e+00,  -2.67000000e+00,\n",
        "        -2.66000000e+00,  -2.65000000e+00,  -2.64000000e+00,\n",
        "        -2.63000000e+00,  -2.62000000e+00,  -2.61000000e+00,\n",
        "        -2.60000000e+00,  -2.59000000e+00,  -2.58000000e+00,\n",
        "        -2.57000000e+00,  -2.56000000e+00,  -2.55000000e+00,\n",
        "        -2.54000000e+00,  -2.53000000e+00,  -2.52000000e+00,\n",
        "        -2.51000000e+00,  -2.50000000e+00,  -2.49000000e+00,\n",
        "        -2.48000000e+00,  -2.47000000e+00,  -2.46000000e+00,\n",
        "        -2.45000000e+00,  -2.44000000e+00,  -2.43000000e+00,\n",
        "        -2.42000000e+00,  -2.41000000e+00,  -2.40000000e+00,\n",
        "        -2.39000000e+00,  -2.38000000e+00,  -2.37000000e+00,\n",
        "        -2.36000000e+00,  -2.35000000e+00,  -2.34000000e+00,\n",
        "        -2.33000000e+00,  -2.32000000e+00,  -2.31000000e+00,\n",
        "        -2.30000000e+00,  -2.29000000e+00,  -2.28000000e+00,\n",
        "        -2.27000000e+00,  -2.26000000e+00,  -2.25000000e+00,\n",
        "        -2.24000000e+00,  -2.23000000e+00,  -2.22000000e+00,\n",
        "        -2.21000000e+00,  -2.20000000e+00,  -2.19000000e+00,\n",
        "        -2.18000000e+00,  -2.17000000e+00,  -2.16000000e+00,\n",
        "        -2.15000000e+00,  -2.14000000e+00,  -2.13000000e+00,\n",
        "        -2.12000000e+00,  -2.11000000e+00,  -2.10000000e+00,\n",
        "        -2.09000000e+00,  -2.08000000e+00,  -2.07000000e+00,\n",
        "        -2.06000000e+00,  -2.05000000e+00,  -2.04000000e+00,\n",
        "        -2.03000000e+00,  -2.02000000e+00,  -2.01000000e+00,\n",
        "        -2.00000000e+00,  -1.99000000e+00,  -1.98000000e+00,\n",
        "        -1.97000000e+00,  -1.96000000e+00,  -1.95000000e+00,\n",
        "        -1.94000000e+00,  -1.93000000e+00,  -1.92000000e+00,\n",
        "        -1.91000000e+00,  -1.90000000e+00,  -1.89000000e+00,\n",
        "        -1.88000000e+00,  -1.87000000e+00,  -1.86000000e+00,\n",
        "        -1.85000000e+00,  -1.84000000e+00,  -1.83000000e+00,\n",
        "        -1.82000000e+00,  -1.81000000e+00,  -1.80000000e+00,\n",
        "        -1.79000000e+00,  -1.78000000e+00,  -1.77000000e+00,\n",
        "        -1.76000000e+00,  -1.75000000e+00,  -1.74000000e+00,\n",
        "        -1.73000000e+00,  -1.72000000e+00,  -1.71000000e+00,\n",
        "        -1.70000000e+00,  -1.69000000e+00,  -1.68000000e+00,\n",
        "        -1.67000000e+00,  -1.66000000e+00,  -1.65000000e+00,\n",
        "        -1.64000000e+00,  -1.63000000e+00,  -1.62000000e+00,\n",
        "        -1.61000000e+00,  -1.60000000e+00,  -1.59000000e+00,\n",
        "        -1.58000000e+00,  -1.57000000e+00,  -1.56000000e+00,\n",
        "        -1.55000000e+00,  -1.54000000e+00,  -1.53000000e+00,\n",
        "        -1.52000000e+00,  -1.51000000e+00,  -1.50000000e+00,\n",
        "        -1.49000000e+00,  -1.48000000e+00,  -1.47000000e+00,\n",
        "        -1.46000000e+00,  -1.45000000e+00,  -1.44000000e+00,\n",
        "        -1.43000000e+00,  -1.42000000e+00,  -1.41000000e+00,\n",
        "        -1.40000000e+00,  -1.39000000e+00,  -1.38000000e+00,\n",
        "        -1.37000000e+00,  -1.36000000e+00,  -1.35000000e+00,\n",
        "        -1.34000000e+00,  -1.33000000e+00,  -1.32000000e+00,\n",
        "        -1.31000000e+00,  -1.30000000e+00,  -1.29000000e+00,\n",
        "        -1.28000000e+00,  -1.27000000e+00,  -1.26000000e+00,\n",
        "        -1.25000000e+00,  -1.24000000e+00,  -1.23000000e+00,\n",
        "        -1.22000000e+00,  -1.21000000e+00,  -1.20000000e+00,\n",
        "        -1.19000000e+00,  -1.18000000e+00,  -1.17000000e+00,\n",
        "        -1.16000000e+00,  -1.15000000e+00,  -1.14000000e+00,\n",
        "        -1.13000000e+00,  -1.12000000e+00,  -1.11000000e+00,\n",
        "        -1.10000000e+00,  -1.09000000e+00,  -1.08000000e+00,\n",
        "        -1.07000000e+00,  -1.06000000e+00,  -1.05000000e+00,\n",
        "        -1.04000000e+00,  -1.03000000e+00,  -1.02000000e+00,\n",
        "        -1.01000000e+00,  -1.00000000e+00,  -9.90000000e-01,\n",
        "        -9.80000000e-01,  -9.70000000e-01,  -9.60000000e-01,\n",
        "        -9.50000000e-01,  -9.40000000e-01,  -9.30000000e-01,\n",
        "        -9.20000000e-01,  -9.10000000e-01,  -9.00000000e-01,\n",
        "        -8.90000000e-01,  -8.80000000e-01,  -8.70000000e-01,\n",
        "        -8.60000000e-01,  -8.50000000e-01,  -8.40000000e-01,\n",
        "        -8.30000000e-01,  -8.20000000e-01,  -8.10000000e-01,\n",
        "        -8.00000000e-01,  -7.90000000e-01,  -7.80000000e-01,\n",
        "        -7.70000000e-01,  -7.60000000e-01,  -7.50000000e-01,\n",
        "        -7.40000000e-01,  -7.30000000e-01,  -7.20000000e-01,\n",
        "        -7.10000000e-01,  -7.00000000e-01,  -6.90000000e-01,\n",
        "        -6.80000000e-01,  -6.70000000e-01,  -6.60000000e-01,\n",
        "        -6.50000000e-01,  -6.40000000e-01,  -6.30000000e-01,\n",
        "        -6.20000000e-01,  -6.10000000e-01,  -6.00000000e-01,\n",
        "        -5.90000000e-01,  -5.80000000e-01,  -5.70000000e-01,\n",
        "        -5.60000000e-01,  -5.50000000e-01,  -5.40000000e-01,\n",
        "        -5.30000000e-01,  -5.20000000e-01,  -5.10000000e-01,\n",
        "        -5.00000000e-01,  -4.90000000e-01,  -4.80000000e-01,\n",
        "        -4.70000000e-01,  -4.60000000e-01,  -4.50000000e-01,\n",
        "        -4.40000000e-01,  -4.30000000e-01,  -4.20000000e-01,\n",
        "        -4.10000000e-01,  -4.00000000e-01,  -3.90000000e-01,\n",
        "        -3.80000000e-01,  -3.70000000e-01,  -3.60000000e-01,\n",
        "        -3.50000000e-01,  -3.40000000e-01,  -3.30000000e-01,\n",
        "        -3.20000000e-01,  -3.10000000e-01,  -3.00000000e-01,\n",
        "        -2.90000000e-01,  -2.80000000e-01,  -2.70000000e-01,\n",
        "        -2.60000000e-01,  -2.50000000e-01,  -2.40000000e-01,\n",
        "        -2.30000000e-01,  -2.20000000e-01,  -2.10000000e-01,\n",
        "        -2.00000000e-01,  -1.90000000e-01,  -1.80000000e-01,\n",
        "        -1.70000000e-01,  -1.60000000e-01,  -1.50000000e-01,\n",
        "        -1.40000000e-01,  -1.30000000e-01,  -1.20000000e-01,\n",
        "        -1.10000000e-01,  -1.00000000e-01,  -9.00000000e-02,\n",
        "        -8.00000000e-02,  -7.00000000e-02,  -6.00000000e-02,\n",
        "        -5.00000000e-02,  -4.00000000e-02,  -3.00000000e-02,\n",
        "        -2.00000000e-02,  -1.00000000e-02,  -1.06581410e-13,\n",
        "         1.00000000e-02,   2.00000000e-02,   3.00000000e-02,\n",
        "         4.00000000e-02,   5.00000000e-02,   6.00000000e-02,\n",
        "         7.00000000e-02,   8.00000000e-02,   9.00000000e-02,\n",
        "         1.00000000e-01,   1.10000000e-01,   1.20000000e-01,\n",
        "         1.30000000e-01,   1.40000000e-01,   1.50000000e-01,\n",
        "         1.60000000e-01,   1.70000000e-01,   1.80000000e-01,\n",
        "         1.90000000e-01,   2.00000000e-01,   2.10000000e-01,\n",
        "         2.20000000e-01,   2.30000000e-01,   2.40000000e-01,\n",
        "         2.50000000e-01,   2.60000000e-01,   2.70000000e-01,\n",
        "         2.80000000e-01,   2.90000000e-01,   3.00000000e-01,\n",
        "         3.10000000e-01,   3.20000000e-01,   3.30000000e-01,\n",
        "         3.40000000e-01,   3.50000000e-01,   3.60000000e-01,\n",
        "         3.70000000e-01,   3.80000000e-01,   3.90000000e-01,\n",
        "         4.00000000e-01,   4.10000000e-01,   4.20000000e-01,\n",
        "         4.30000000e-01,   4.40000000e-01,   4.50000000e-01,\n",
        "         4.60000000e-01,   4.70000000e-01,   4.80000000e-01,\n",
        "         4.90000000e-01,   5.00000000e-01,   5.10000000e-01,\n",
        "         5.20000000e-01,   5.30000000e-01,   5.40000000e-01,\n",
        "         5.50000000e-01,   5.60000000e-01,   5.70000000e-01,\n",
        "         5.80000000e-01,   5.90000000e-01,   6.00000000e-01,\n",
        "         6.10000000e-01,   6.20000000e-01,   6.30000000e-01,\n",
        "         6.40000000e-01,   6.50000000e-01,   6.60000000e-01,\n",
        "         6.70000000e-01,   6.80000000e-01,   6.90000000e-01,\n",
        "         7.00000000e-01,   7.10000000e-01,   7.20000000e-01,\n",
        "         7.30000000e-01,   7.40000000e-01,   7.50000000e-01,\n",
        "         7.60000000e-01,   7.70000000e-01,   7.80000000e-01,\n",
        "         7.90000000e-01,   8.00000000e-01,   8.10000000e-01,\n",
        "         8.20000000e-01,   8.30000000e-01,   8.40000000e-01,\n",
        "         8.50000000e-01,   8.60000000e-01,   8.70000000e-01,\n",
        "         8.80000000e-01,   8.90000000e-01,   9.00000000e-01,\n",
        "         9.10000000e-01,   9.20000000e-01,   9.30000000e-01,\n",
        "         9.40000000e-01,   9.50000000e-01,   9.60000000e-01,\n",
        "         9.70000000e-01,   9.80000000e-01,   9.90000000e-01,\n",
        "         1.00000000e+00,   1.01000000e+00,   1.02000000e+00,\n",
        "         1.03000000e+00,   1.04000000e+00,   1.05000000e+00,\n",
        "         1.06000000e+00,   1.07000000e+00,   1.08000000e+00,\n",
        "         1.09000000e+00,   1.10000000e+00,   1.11000000e+00,\n",
        "         1.12000000e+00,   1.13000000e+00,   1.14000000e+00,\n",
        "         1.15000000e+00,   1.16000000e+00,   1.17000000e+00,\n",
        "         1.18000000e+00,   1.19000000e+00,   1.20000000e+00,\n",
        "         1.21000000e+00,   1.22000000e+00,   1.23000000e+00,\n",
        "         1.24000000e+00,   1.25000000e+00,   1.26000000e+00,\n",
        "         1.27000000e+00,   1.28000000e+00,   1.29000000e+00,\n",
        "         1.30000000e+00,   1.31000000e+00,   1.32000000e+00,\n",
        "         1.33000000e+00,   1.34000000e+00,   1.35000000e+00,\n",
        "         1.36000000e+00,   1.37000000e+00,   1.38000000e+00,\n",
        "         1.39000000e+00,   1.40000000e+00,   1.41000000e+00,\n",
        "         1.42000000e+00,   1.43000000e+00,   1.44000000e+00,\n",
        "         1.45000000e+00,   1.46000000e+00,   1.47000000e+00,\n",
        "         1.48000000e+00,   1.49000000e+00,   1.50000000e+00,\n",
        "         1.51000000e+00,   1.52000000e+00,   1.53000000e+00,\n",
        "         1.54000000e+00,   1.55000000e+00,   1.56000000e+00,\n",
        "         1.57000000e+00,   1.58000000e+00,   1.59000000e+00,\n",
        "         1.60000000e+00,   1.61000000e+00,   1.62000000e+00,\n",
        "         1.63000000e+00,   1.64000000e+00,   1.65000000e+00,\n",
        "         1.66000000e+00,   1.67000000e+00,   1.68000000e+00,\n",
        "         1.69000000e+00,   1.70000000e+00,   1.71000000e+00,\n",
        "         1.72000000e+00,   1.73000000e+00,   1.74000000e+00,\n",
        "         1.75000000e+00,   1.76000000e+00,   1.77000000e+00,\n",
        "         1.78000000e+00,   1.79000000e+00,   1.80000000e+00,\n",
        "         1.81000000e+00,   1.82000000e+00,   1.83000000e+00,\n",
        "         1.84000000e+00,   1.85000000e+00,   1.86000000e+00,\n",
        "         1.87000000e+00,   1.88000000e+00,   1.89000000e+00,\n",
        "         1.90000000e+00,   1.91000000e+00,   1.92000000e+00,\n",
        "         1.93000000e+00,   1.94000000e+00,   1.95000000e+00,\n",
        "         1.96000000e+00,   1.97000000e+00,   1.98000000e+00,\n",
        "         1.99000000e+00,   2.00000000e+00,   2.01000000e+00,\n",
        "         2.02000000e+00,   2.03000000e+00,   2.04000000e+00,\n",
        "         2.05000000e+00,   2.06000000e+00,   2.07000000e+00,\n",
        "         2.08000000e+00,   2.09000000e+00,   2.10000000e+00,\n",
        "         2.11000000e+00,   2.12000000e+00,   2.13000000e+00,\n",
        "         2.14000000e+00,   2.15000000e+00,   2.16000000e+00,\n",
        "         2.17000000e+00,   2.18000000e+00,   2.19000000e+00,\n",
        "         2.20000000e+00,   2.21000000e+00,   2.22000000e+00,\n",
        "         2.23000000e+00,   2.24000000e+00,   2.25000000e+00,\n",
        "         2.26000000e+00,   2.27000000e+00,   2.28000000e+00,\n",
        "         2.29000000e+00,   2.30000000e+00,   2.31000000e+00,\n",
        "         2.32000000e+00,   2.33000000e+00,   2.34000000e+00,\n",
        "         2.35000000e+00,   2.36000000e+00,   2.37000000e+00,\n",
        "         2.38000000e+00,   2.39000000e+00,   2.40000000e+00,\n",
        "         2.41000000e+00,   2.42000000e+00,   2.43000000e+00,\n",
        "         2.44000000e+00,   2.45000000e+00,   2.46000000e+00,\n",
        "         2.47000000e+00,   2.48000000e+00,   2.49000000e+00,\n",
        "         2.50000000e+00,   2.51000000e+00,   2.52000000e+00,\n",
        "         2.53000000e+00,   2.54000000e+00,   2.55000000e+00,\n",
        "         2.56000000e+00,   2.57000000e+00,   2.58000000e+00,\n",
        "         2.59000000e+00,   2.60000000e+00,   2.61000000e+00,\n",
        "         2.62000000e+00,   2.63000000e+00,   2.64000000e+00,\n",
        "         2.65000000e+00,   2.66000000e+00,   2.67000000e+00,\n",
        "         2.68000000e+00,   2.69000000e+00,   2.70000000e+00,\n",
        "         2.71000000e+00,   2.72000000e+00,   2.73000000e+00,\n",
        "         2.74000000e+00,   2.75000000e+00,   2.76000000e+00,\n",
        "         2.77000000e+00,   2.78000000e+00,   2.79000000e+00,\n",
        "         2.80000000e+00,   2.81000000e+00,   2.82000000e+00,\n",
        "         2.83000000e+00,   2.84000000e+00,   2.85000000e+00,\n",
        "         2.86000000e+00,   2.87000000e+00,   2.88000000e+00,\n",
        "         2.89000000e+00,   2.90000000e+00,   2.91000000e+00,\n",
        "         2.92000000e+00,   2.93000000e+00,   2.94000000e+00,\n",
        "         2.95000000e+00,   2.96000000e+00,   2.97000000e+00,\n",
        "         2.98000000e+00,   2.99000000e+00,   3.00000000e+00,\n",
        "         3.01000000e+00,   3.02000000e+00,   3.03000000e+00,\n",
        "         3.04000000e+00,   3.05000000e+00,   3.06000000e+00,\n",
        "         3.07000000e+00,   3.08000000e+00,   3.09000000e+00,\n",
        "         3.10000000e+00,   3.11000000e+00,   3.12000000e+00,\n",
        "         3.13000000e+00,   3.14000000e+00,   3.15000000e+00,\n",
        "         3.16000000e+00,   3.17000000e+00,   3.18000000e+00,\n",
        "         3.19000000e+00,   3.20000000e+00,   3.21000000e+00,\n",
        "         3.22000000e+00,   3.23000000e+00,   3.24000000e+00,\n",
        "         3.25000000e+00,   3.26000000e+00,   3.27000000e+00,\n",
        "         3.28000000e+00,   3.29000000e+00,   3.30000000e+00,\n",
        "         3.31000000e+00,   3.32000000e+00,   3.33000000e+00,\n",
        "         3.34000000e+00,   3.35000000e+00,   3.36000000e+00,\n",
        "         3.37000000e+00,   3.38000000e+00,   3.39000000e+00,\n",
        "         3.40000000e+00,   3.41000000e+00,   3.42000000e+00,\n",
        "         3.43000000e+00,   3.44000000e+00,   3.45000000e+00,\n",
        "         3.46000000e+00,   3.47000000e+00,   3.48000000e+00,\n",
        "         3.49000000e+00,   3.50000000e+00,   3.51000000e+00,\n",
        "         3.52000000e+00,   3.53000000e+00,   3.54000000e+00,\n",
        "         3.55000000e+00,   3.56000000e+00,   3.57000000e+00,\n",
        "         3.58000000e+00,   3.59000000e+00,   3.60000000e+00,\n",
        "         3.61000000e+00,   3.62000000e+00,   3.63000000e+00,\n",
        "         3.64000000e+00,   3.65000000e+00,   3.66000000e+00,\n",
        "         3.67000000e+00,   3.68000000e+00,   3.69000000e+00,\n",
        "         3.70000000e+00,   3.71000000e+00,   3.72000000e+00,\n",
        "         3.73000000e+00,   3.74000000e+00,   3.75000000e+00,\n",
        "         3.76000000e+00,   3.77000000e+00,   3.78000000e+00,\n",
        "         3.79000000e+00,   3.80000000e+00,   3.81000000e+00,\n",
        "         3.82000000e+00,   3.83000000e+00,   3.84000000e+00,\n",
        "         3.85000000e+00,   3.86000000e+00,   3.87000000e+00,\n",
        "         3.88000000e+00,   3.89000000e+00,   3.90000000e+00,\n",
        "         3.91000000e+00,   3.92000000e+00,   3.93000000e+00,\n",
        "         3.94000000e+00,   3.95000000e+00,   3.96000000e+00,\n",
        "         3.97000000e+00,   3.98000000e+00,   3.99000000e+00,\n",
        "         4.00000000e+00,   4.01000000e+00,   4.02000000e+00,\n",
        "         4.03000000e+00,   4.04000000e+00,   4.05000000e+00,\n",
        "         4.06000000e+00,   4.07000000e+00,   4.08000000e+00,\n",
        "         4.09000000e+00,   4.10000000e+00,   4.11000000e+00,\n",
        "         4.12000000e+00,   4.13000000e+00,   4.14000000e+00,\n",
        "         4.15000000e+00,   4.16000000e+00,   4.17000000e+00,\n",
        "         4.18000000e+00,   4.19000000e+00,   4.20000000e+00,\n",
        "         4.21000000e+00,   4.22000000e+00,   4.23000000e+00,\n",
        "         4.24000000e+00,   4.25000000e+00,   4.26000000e+00,\n",
        "         4.27000000e+00,   4.28000000e+00,   4.29000000e+00,\n",
        "         4.30000000e+00,   4.31000000e+00,   4.32000000e+00,\n",
        "         4.33000000e+00,   4.34000000e+00,   4.35000000e+00,\n",
        "         4.36000000e+00,   4.37000000e+00,   4.38000000e+00,\n",
        "         4.39000000e+00,   4.40000000e+00,   4.41000000e+00,\n",
        "         4.42000000e+00,   4.43000000e+00,   4.44000000e+00,\n",
        "         4.45000000e+00,   4.46000000e+00,   4.47000000e+00,\n",
        "         4.48000000e+00,   4.49000000e+00,   4.50000000e+00,\n",
        "         4.51000000e+00,   4.52000000e+00,   4.53000000e+00,\n",
        "         4.54000000e+00,   4.55000000e+00,   4.56000000e+00,\n",
        "         4.57000000e+00,   4.58000000e+00,   4.59000000e+00,\n",
        "         4.60000000e+00,   4.61000000e+00,   4.62000000e+00,\n",
        "         4.63000000e+00,   4.64000000e+00,   4.65000000e+00,\n",
        "         4.66000000e+00,   4.67000000e+00,   4.68000000e+00,\n",
        "         4.69000000e+00,   4.70000000e+00,   4.71000000e+00,\n",
        "         4.72000000e+00,   4.73000000e+00,   4.74000000e+00,\n",
        "         4.75000000e+00,   4.76000000e+00,   4.77000000e+00,\n",
        "         4.78000000e+00,   4.79000000e+00,   4.80000000e+00,\n",
        "         4.81000000e+00,   4.82000000e+00,   4.83000000e+00,\n",
        "         4.84000000e+00,   4.85000000e+00,   4.86000000e+00,\n",
        "         4.87000000e+00,   4.88000000e+00,   4.89000000e+00,\n",
        "         4.90000000e+00,   4.91000000e+00,   4.92000000e+00,\n",
        "         4.93000000e+00,   4.94000000e+00,   4.95000000e+00,\n",
        "         4.96000000e+00,   4.97000000e+00,   4.98000000e+00,\n",
        "         4.99000000e+00])"
       ]
      }
     ],
     "prompt_number": 252
    },
    {
     "cell_type": "code",
     "collapsed": false,
     "input": [
      "xs, ys = np.meshgrid(points, points)"
     ],
     "language": "python",
     "metadata": {},
     "outputs": [],
     "prompt_number": 253
    },
    {
     "cell_type": "code",
     "collapsed": false,
     "input": [
      "xs"
     ],
     "language": "python",
     "metadata": {},
     "outputs": [
      {
       "metadata": {},
       "output_type": "pyout",
       "prompt_number": 256,
       "text": [
        "array([[-5.  , -4.99, -4.98, ...,  4.97,  4.98,  4.99],\n",
        "       [-5.  , -4.99, -4.98, ...,  4.97,  4.98,  4.99],\n",
        "       [-5.  , -4.99, -4.98, ...,  4.97,  4.98,  4.99],\n",
        "       ..., \n",
        "       [-5.  , -4.99, -4.98, ...,  4.97,  4.98,  4.99],\n",
        "       [-5.  , -4.99, -4.98, ...,  4.97,  4.98,  4.99],\n",
        "       [-5.  , -4.99, -4.98, ...,  4.97,  4.98,  4.99]])"
       ]
      }
     ],
     "prompt_number": 256
    },
    {
     "cell_type": "code",
     "collapsed": false,
     "input": [
      "ys"
     ],
     "language": "python",
     "metadata": {},
     "outputs": [
      {
       "metadata": {},
       "output_type": "pyout",
       "prompt_number": 257,
       "text": [
        "array([[-5.  , -5.  , -5.  , ..., -5.  , -5.  , -5.  ],\n",
        "       [-4.99, -4.99, -4.99, ..., -4.99, -4.99, -4.99],\n",
        "       [-4.98, -4.98, -4.98, ..., -4.98, -4.98, -4.98],\n",
        "       ..., \n",
        "       [ 4.97,  4.97,  4.97, ...,  4.97,  4.97,  4.97],\n",
        "       [ 4.98,  4.98,  4.98, ...,  4.98,  4.98,  4.98],\n",
        "       [ 4.99,  4.99,  4.99, ...,  4.99,  4.99,  4.99]])"
       ]
      }
     ],
     "prompt_number": 257
    },
    {
     "cell_type": "code",
     "collapsed": false,
     "input": [
      "import matplotlib.pyplot as plt\n"
     ],
     "language": "python",
     "metadata": {},
     "outputs": [],
     "prompt_number": 259
    },
    {
     "cell_type": "code",
     "collapsed": false,
     "input": [
      "z = np.sqrt(xs ** 2 + ys **2)"
     ],
     "language": "python",
     "metadata": {},
     "outputs": [],
     "prompt_number": 261
    },
    {
     "cell_type": "code",
     "collapsed": false,
     "input": [
      "z"
     ],
     "language": "python",
     "metadata": {},
     "outputs": [
      {
       "metadata": {},
       "output_type": "pyout",
       "prompt_number": 262,
       "text": [
        "array([[ 7.07106781,  7.06400028,  7.05693985, ...,  7.04988652,\n",
        "         7.05693985,  7.06400028],\n",
        "       [ 7.06400028,  7.05692568,  7.04985815, ...,  7.04279774,\n",
        "         7.04985815,  7.05692568],\n",
        "       [ 7.05693985,  7.04985815,  7.04278354, ...,  7.03571603,\n",
        "         7.04278354,  7.04985815],\n",
        "       ..., \n",
        "       [ 7.04988652,  7.04279774,  7.03571603, ...,  7.0286414 ,\n",
        "         7.03571603,  7.04279774],\n",
        "       [ 7.05693985,  7.04985815,  7.04278354, ...,  7.03571603,\n",
        "         7.04278354,  7.04985815],\n",
        "       [ 7.06400028,  7.05692568,  7.04985815, ...,  7.04279774,\n",
        "         7.04985815,  7.05692568]])"
       ]
      }
     ],
     "prompt_number": 262
    },
    {
     "cell_type": "code",
     "collapsed": false,
     "input": [
      "plt.imshow(z, cmap=plt.cm.gray); plt.colorbar()"
     ],
     "language": "python",
     "metadata": {},
     "outputs": [
      {
       "metadata": {},
       "output_type": "pyout",
       "prompt_number": 263,
       "text": [
        "<matplotlib.colorbar.Colorbar instance at 0x1090c1518>"
       ]
      },
      {
       "metadata": {},
       "output_type": "display_data",
       "png": "[encoded data removed]",
       "text": [
        "<matplotlib.figure.Figure at 0x1060e0e90>"
       ]
      }
     ],
     "prompt_number": 263
    },
    {
     "cell_type": "code",
     "collapsed": false,
     "input": [
      "plt.title(\"Image plot of $\\sqrt{x^2 + y^2}$ for a grid of valutes\")"
     ],
     "language": "python",
     "metadata": {},
     "outputs": [
      {
       "metadata": {},
       "output_type": "pyout",
       "prompt_number": 264,
       "text": [
        "<matplotlib.text.Text at 0x10d6b9ed0>"
       ]
      },
      {
       "metadata": {},
       "output_type": "display_data",
       "png": "[encoded data removed]",
       "text": [
        "<matplotlib.figure.Figure at 0x10605ac90>"
       ]
      }
     ],
     "prompt_number": 264
    },
    {
     "cell_type": "markdown",
     "metadata": {},
     "source": [
      "\uc65c \uc774\ub7f0\uac12\uc774 \ub098\uc654\uc744\uae4c....."
     ]
    },
    {
     "cell_type": "code",
     "collapsed": false,
     "input": [],
     "language": "python",
     "metadata": {},
     "outputs": []
    }
   ],
   "metadata": {}
  }
 ]
}