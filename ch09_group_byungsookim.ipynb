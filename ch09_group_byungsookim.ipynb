{
 "cells": [
  {
   "cell_type": "markdown",
   "metadata": {},
   "source": [
    "#Chapter9. 데이터 수집과 그룹 연산\n",
    "> 데이터 집합을 분류하고 각 그룹별로 집계나 변형 같은 어떤 함수를 적용하는건 데이터 분석과정에서 매우 중요한 일<br />\n",
    "> pandas는 데이터 집합을 자연스럽게 나누고 요약할 수 있는 groupby라는 유연한 방법을 제공<br />\n",
    "> 쿼리문은 그룹연산에 제약이 있다. 파이썬과 pandas의 강력한 표현력을 잘 이용하면 아주 복잡한 그룹연산도 pandas객체나 NumPy배열을 받는 함수의 조합을 통해 해결<br >\n",
    "\n",
    "###이 장에서 배우게 될 내용\n",
    "* 하나 이상의 키(함수, 배열, DataFrame의 칼럼 이름)을 이용하여 pandas객체를 여러조각으로 나누는 방법\n",
    "* 합계, 평균, 표준편차, 사용자 정의 함수 같은 그룹 요약통계를 계산하는 방법\n",
    "* DataFrame의 각 칼럼에 다양한 함수를 적용하는 방법\n",
    "* 정규화, 선형회귀, 등급 또는 부분집합 선택같은 집단 내 변형이나 다른 조작을 적용하는 방법\n",
    "* 피벗테이블과 교차일람표를 구하는 방법\n",
    "* 변위치 분석과 다른 데이터 파생 집단분석을 수행하는 방법"
   ]
  },
  {
   "cell_type": "markdown",
   "metadata": {},
   "source": [
    "##9.1 GroupBy 메카닉\n",
    "> ###*분리*-*적용*-*결합*\n",
    "1. 데이터를 하나 이상의 색인을 기준으로 ***분리***한다.\n",
    "2. 분리하고 나면 함수를 각 그룹에 ***적용***시켜 새로운 값을 얻어낸다.\n",
    "3. 함수를 적용한 결과를 하나의 객체로 ***결합***한다."
   ]
  },
  {
   "cell_type": "code",
   "execution_count": 1,
   "metadata": {
    "collapsed": false
   },
   "outputs": [],
   "source": [
    "import pandas as pd\n",
    "import numpy as np\n",
    "from pandas import DataFrame"
   ]
  },
  {
   "cell_type": "code",
   "execution_count": 2,
   "metadata": {
    "collapsed": false
   },
   "outputs": [],
   "source": [
    "df = DataFrame({'key1':['a', 'a', 'b', 'b', 'a'],\n",
    "                'key2':['one', 'two', 'one', 'two', 'one'],\n",
    "                'data1':np.random.randn(5),\n",
    "                'data2':np.random.randn(5)})"
   ]
  },
  {
   "cell_type": "code",
   "execution_count": 3,
   "metadata": {
    "collapsed": false,
    "scrolled": true
   },
   "outputs": [
    {
     "data": {
      "text/html": [
       "<div style=\"max-height:1000px;max-width:1500px;overflow:auto;\">\n",
       "<table border=\"1\" class=\"dataframe\">\n",
       "  <thead>\n",
       "    <tr style=\"text-align: right;\">\n",
       "      <th></th>\n",
       "      <th>data1</th>\n",
       "      <th>data2</th>\n",
       "      <th>key1</th>\n",
       "      <th>key2</th>\n",
       "    </tr>\n",
       "  </thead>\n",
       "  <tbody>\n",
       "    <tr>\n",
       "      <th>0</th>\n",
       "      <td>-1.140920</td>\n",
       "      <td>-1.507435</td>\n",
       "      <td> a</td>\n",
       "      <td> one</td>\n",
       "    </tr>\n",
       "    <tr>\n",
       "      <th>1</th>\n",
       "      <td>-0.609759</td>\n",
       "      <td> 1.523876</td>\n",
       "      <td> a</td>\n",
       "      <td> two</td>\n",
       "    </tr>\n",
       "    <tr>\n",
       "      <th>2</th>\n",
       "      <td>-1.513366</td>\n",
       "      <td> 0.716890</td>\n",
       "      <td> b</td>\n",
       "      <td> one</td>\n",
       "    </tr>\n",
       "    <tr>\n",
       "      <th>3</th>\n",
       "      <td> 0.688068</td>\n",
       "      <td>-0.097003</td>\n",
       "      <td> b</td>\n",
       "      <td> two</td>\n",
       "    </tr>\n",
       "    <tr>\n",
       "      <th>4</th>\n",
       "      <td>-0.538877</td>\n",
       "      <td>-0.164868</td>\n",
       "      <td> a</td>\n",
       "      <td> one</td>\n",
       "    </tr>\n",
       "  </tbody>\n",
       "</table>\n",
       "</div>"
      ],
      "text/plain": [
       "      data1     data2 key1 key2\n",
       "0 -1.140920 -1.507435    a  one\n",
       "1 -0.609759  1.523876    a  two\n",
       "2 -1.513366  0.716890    b  one\n",
       "3  0.688068 -0.097003    b  two\n",
       "4 -0.538877 -0.164868    a  one"
      ]
     },
     "execution_count": 3,
     "metadata": {},
     "output_type": "execute_result"
    }
   ],
   "source": [
    "df"
   ]
  },
  {
   "cell_type": "code",
   "execution_count": 4,
   "metadata": {
    "collapsed": true
   },
   "outputs": [],
   "source": [
    "grouped = df['data1'].groupby(df['key1']);"
   ]
  },
  {
   "cell_type": "code",
   "execution_count": 5,
   "metadata": {
    "collapsed": false
   },
   "outputs": [
    {
     "data": {
      "text/plain": [
       "<pandas.core.groupby.SeriesGroupBy object at 0x106c4d710>"
      ]
     },
     "execution_count": 5,
     "metadata": {},
     "output_type": "execute_result"
    }
   ],
   "source": [
    "grouped #groupby객체 df['key1']로 참조되는 중간값에 대한 것 외에는 아무것도 계산되지 않은 객체"
   ]
  },
  {
   "cell_type": "code",
   "execution_count": 6,
   "metadata": {
    "collapsed": false
   },
   "outputs": [
    {
     "data": {
      "text/plain": [
       "key1\n",
       "a      -0.763185\n",
       "b      -0.412649\n",
       "Name: data1, dtype: float64"
      ]
     },
     "execution_count": 6,
     "metadata": {},
     "output_type": "execute_result"
    }
   ],
   "source": [
    "grouped.mean() #그룹별 평균"
   ]
  },
  {
   "cell_type": "markdown",
   "metadata": {
    "collapsed": true
   },
   "source": [
    "데이터가 그룹의 색인에 따라 수집되고 key1 칼럼에 있는 유일한 값으로 색인되는 새로운 series객체가 생성됨<br />\n",
    "만약 여러개의 배열을 리스트로 넘겼다면 좀 더 다른 결과를 얻을수 있다."
   ]
  },
  {
   "cell_type": "code",
   "execution_count": 7,
   "metadata": {
    "collapsed": true
   },
   "outputs": [],
   "source": [
    "means = df['data1'].groupby([df['key1'], df['key2']]).mean()"
   ]
  },
  {
   "cell_type": "code",
   "execution_count": 8,
   "metadata": {
    "collapsed": false
   },
   "outputs": [
    {
     "data": {
      "text/plain": [
       "key1  key2\n",
       "a     one    -0.839898\n",
       "      two    -0.609759\n",
       "b     one    -1.513366\n",
       "      two     0.688068\n",
       "Name: data1, dtype: float64"
      ]
     },
     "execution_count": 8,
     "metadata": {},
     "output_type": "execute_result"
    }
   ],
   "source": [
    "means"
   ]
  },
  {
   "cell_type": "code",
   "execution_count": 9,
   "metadata": {
    "collapsed": false
   },
   "outputs": [
    {
     "data": {
      "text/html": [
       "<div style=\"max-height:1000px;max-width:1500px;overflow:auto;\">\n",
       "<table border=\"1\" class=\"dataframe\">\n",
       "  <thead>\n",
       "    <tr style=\"text-align: right;\">\n",
       "      <th>key2</th>\n",
       "      <th>one</th>\n",
       "      <th>two</th>\n",
       "    </tr>\n",
       "    <tr>\n",
       "      <th>key1</th>\n",
       "      <th></th>\n",
       "      <th></th>\n",
       "    </tr>\n",
       "  </thead>\n",
       "  <tbody>\n",
       "    <tr>\n",
       "      <th>a</th>\n",
       "      <td>-0.839898</td>\n",
       "      <td>-0.609759</td>\n",
       "    </tr>\n",
       "    <tr>\n",
       "      <th>b</th>\n",
       "      <td>-1.513366</td>\n",
       "      <td> 0.688068</td>\n",
       "    </tr>\n",
       "  </tbody>\n",
       "</table>\n",
       "</div>"
      ],
      "text/plain": [
       "key2       one       two\n",
       "key1                    \n",
       "a    -0.839898 -0.609759\n",
       "b    -1.513366  0.688068"
      ]
     },
     "execution_count": 9,
     "metadata": {},
     "output_type": "execute_result"
    }
   ],
   "source": [
    "means.unstack()"
   ]
  },
  {
   "cell_type": "code",
   "execution_count": 10,
   "metadata": {
    "collapsed": false
   },
   "outputs": [
    {
     "name": "stdout",
     "output_type": "stream",
     "text": [
      "Help on method unstack in module pandas.core.series:\n",
      "\n",
      "unstack(self, level=-1) method of pandas.core.series.Series instance\n",
      "    Unstack, a.k.a. pivot, Series with MultiIndex to produce DataFrame\n",
      "    \n",
      "    Parameters\n",
      "    ----------\n",
      "    level : int, string, or list of these, default last level\n",
      "        Level(s) to unstack, can pass level name\n",
      "    \n",
      "    Examples\n",
      "    --------\n",
      "    >>> s\n",
      "    one  a   1.\n",
      "    one  b   2.\n",
      "    two  a   3.\n",
      "    two  b   4.\n",
      "    \n",
      "    >>> s.unstack(level=-1)\n",
      "         a   b\n",
      "    one  1.  2.\n",
      "    two  3.  4.\n",
      "    \n",
      "    >>> s.unstack(level=0)\n",
      "       one  two\n",
      "    a  1.   2.\n",
      "    b  3.   4.\n",
      "    \n",
      "    Returns\n",
      "    -------\n",
      "    unstacked : DataFrame\n",
      "\n"
     ]
    }
   ],
   "source": [
    "help(means.unstack)"
   ]
  },
  {
   "cell_type": "markdown",
   "metadata": {},
   "source": [
    "아래 예제는 그룹의 색인 모두 Series객체인데, 길이만 같다면 어떤 배열이라도 상관없다."
   ]
  },
  {
   "cell_type": "code",
   "execution_count": 11,
   "metadata": {
    "collapsed": true
   },
   "outputs": [],
   "source": [
    "states = np.array(['Ohio', 'Califonia', 'Califonia', 'Ohio', 'Ohio'])"
   ]
  },
  {
   "cell_type": "code",
   "execution_count": 12,
   "metadata": {
    "collapsed": true
   },
   "outputs": [],
   "source": [
    "years = np.array([2005, 2005, 2006, 2005, 2006])"
   ]
  },
  {
   "cell_type": "code",
   "execution_count": 13,
   "metadata": {
    "collapsed": false
   },
   "outputs": [],
   "source": [
    "statYear = df['data1'].groupby([states, years])"
   ]
  },
  {
   "cell_type": "code",
   "execution_count": 14,
   "metadata": {
    "collapsed": false
   },
   "outputs": [
    {
     "data": {
      "text/plain": [
       "<pandas.core.groupby.SeriesGroupBy object at 0x100673dd0>"
      ]
     },
     "execution_count": 14,
     "metadata": {},
     "output_type": "execute_result"
    }
   ],
   "source": [
    "statYear"
   ]
  },
  {
   "cell_type": "code",
   "execution_count": 15,
   "metadata": {
    "collapsed": false
   },
   "outputs": [
    {
     "data": {
      "text/plain": [
       "Califonia  2005   -0.609759\n",
       "           2006   -1.513366\n",
       "Ohio       2005   -0.226426\n",
       "           2006   -0.538877\n",
       "Name: data1, dtype: float64"
      ]
     },
     "execution_count": 15,
     "metadata": {},
     "output_type": "execute_result"
    }
   ],
   "source": [
    "statYear.mean()"
   ]
  },
  {
   "cell_type": "code",
   "execution_count": 16,
   "metadata": {
    "collapsed": false
   },
   "outputs": [
    {
     "data": {
      "text/html": [
       "<div style=\"max-height:1000px;max-width:1500px;overflow:auto;\">\n",
       "<table border=\"1\" class=\"dataframe\">\n",
       "  <thead>\n",
       "    <tr style=\"text-align: right;\">\n",
       "      <th></th>\n",
       "      <th>data1</th>\n",
       "      <th>data2</th>\n",
       "    </tr>\n",
       "    <tr>\n",
       "      <th>key1</th>\n",
       "      <th></th>\n",
       "      <th></th>\n",
       "    </tr>\n",
       "  </thead>\n",
       "  <tbody>\n",
       "    <tr>\n",
       "      <th>a</th>\n",
       "      <td>-0.763185</td>\n",
       "      <td>-0.049476</td>\n",
       "    </tr>\n",
       "    <tr>\n",
       "      <th>b</th>\n",
       "      <td>-0.412649</td>\n",
       "      <td> 0.309943</td>\n",
       "    </tr>\n",
       "  </tbody>\n",
       "</table>\n",
       "</div>"
      ],
      "text/plain": [
       "         data1     data2\n",
       "key1                    \n",
       "a    -0.763185 -0.049476\n",
       "b    -0.412649  0.309943"
      ]
     },
     "execution_count": 16,
     "metadata": {},
     "output_type": "execute_result"
    }
   ],
   "source": [
    "df.groupby('key1').mean()"
   ]
  },
  {
   "cell_type": "markdown",
   "metadata": {},
   "source": [
    "key2의 칼럼이 빠진것을 볼수 있는데 그 이유는 key2가 숫자데이터가 아니기때문이다. 이런 칼럼은 *성가신 칼럼*이라고 부르며 결과에서 제외시킨다."
   ]
  },
  {
   "cell_type": "code",
   "execution_count": 17,
   "metadata": {
    "collapsed": false
   },
   "outputs": [
    {
     "data": {
      "text/plain": [
       "key1  key2\n",
       "a     one     2\n",
       "      two     1\n",
       "b     one     1\n",
       "      two     1\n",
       "dtype: int64"
      ]
     },
     "execution_count": 17,
     "metadata": {},
     "output_type": "execute_result"
    }
   ],
   "source": [
    "df.groupby(['key1', 'key2']).size()"
   ]
  },
  {
   "cell_type": "markdown",
   "metadata": {},
   "source": [
    "##9.1.1 그룹 간 순회하기\n",
    "groupBy객체는 이터레이션(되풀이)을 지원, 그룹이름과 그에 따른 데이터 묶음을 튜플로 반환"
   ]
  },
  {
   "cell_type": "code",
   "execution_count": 18,
   "metadata": {
    "collapsed": false
   },
   "outputs": [
    {
     "name": "stdout",
     "output_type": "stream",
     "text": [
      "a\n",
      "      data1     data2 key1 key2\n",
      "0 -1.140920 -1.507435    a  one\n",
      "1 -0.609759  1.523876    a  two\n",
      "4 -0.538877 -0.164868    a  one\n",
      "b\n",
      "      data1     data2 key1 key2\n",
      "2 -1.513366  0.716890    b  one\n",
      "3  0.688068 -0.097003    b  two\n"
     ]
    }
   ],
   "source": [
    "for name, group in df.groupby('key1'):\n",
    "    print name\n",
    "    print group"
   ]
  },
  {
   "cell_type": "code",
   "execution_count": 19,
   "metadata": {
    "collapsed": false
   },
   "outputs": [
    {
     "name": "stdout",
     "output_type": "stream",
     "text": [
      "a one\n",
      "      data1     data2 key1 key2\n",
      "0 -1.140920 -1.507435    a  one\n",
      "4 -0.538877 -0.164868    a  one\n",
      "a two\n",
      "      data1     data2 key1 key2\n",
      "1 -0.609759  1.523876    a  two\n",
      "b one\n",
      "      data1    data2 key1 key2\n",
      "2 -1.513366  0.71689    b  one\n",
      "b two\n",
      "      data1     data2 key1 key2\n",
      "3  0.688068 -0.097003    b  two\n"
     ]
    }
   ],
   "source": [
    "for (k1, k2), group in df.groupby(['key1', 'key2']):\n",
    "    print k1, k2\n",
    "    print group"
   ]
  },
  {
   "cell_type": "markdown",
   "metadata": {},
   "source": [
    "당연한 말이겠지만 이 안에서 원하는 데이터만 골라낼 수 있다. 한 줄이면 그룹별 데이터를 사전형으로 쉽게 바꿔서 유용하게 사용 가능"
   ]
  },
  {
   "cell_type": "code",
   "execution_count": 20,
   "metadata": {
    "collapsed": true
   },
   "outputs": [],
   "source": [
    "pieces = dict(list(df.groupby('key1')))"
   ]
  },
  {
   "cell_type": "code",
   "execution_count": 21,
   "metadata": {
    "collapsed": false
   },
   "outputs": [
    {
     "data": {
      "text/plain": [
       "{'a':       data1     data2 key1 key2\n",
       " 0 -1.140920 -1.507435    a  one\n",
       " 1 -0.609759  1.523876    a  two\n",
       " 4 -0.538877 -0.164868    a  one, 'b':       data1     data2 key1 key2\n",
       " 2 -1.513366  0.716890    b  one\n",
       " 3  0.688068 -0.097003    b  two}"
      ]
     },
     "execution_count": 21,
     "metadata": {},
     "output_type": "execute_result"
    }
   ],
   "source": [
    "pieces"
   ]
  },
  {
   "cell_type": "code",
   "execution_count": 22,
   "metadata": {
    "collapsed": false
   },
   "outputs": [
    {
     "data": {
      "text/html": [
       "<div style=\"max-height:1000px;max-width:1500px;overflow:auto;\">\n",
       "<table border=\"1\" class=\"dataframe\">\n",
       "  <thead>\n",
       "    <tr style=\"text-align: right;\">\n",
       "      <th></th>\n",
       "      <th>data1</th>\n",
       "      <th>data2</th>\n",
       "      <th>key1</th>\n",
       "      <th>key2</th>\n",
       "    </tr>\n",
       "  </thead>\n",
       "  <tbody>\n",
       "    <tr>\n",
       "      <th>2</th>\n",
       "      <td>-1.513366</td>\n",
       "      <td> 0.716890</td>\n",
       "      <td> b</td>\n",
       "      <td> one</td>\n",
       "    </tr>\n",
       "    <tr>\n",
       "      <th>3</th>\n",
       "      <td> 0.688068</td>\n",
       "      <td>-0.097003</td>\n",
       "      <td> b</td>\n",
       "      <td> two</td>\n",
       "    </tr>\n",
       "  </tbody>\n",
       "</table>\n",
       "</div>"
      ],
      "text/plain": [
       "      data1     data2 key1 key2\n",
       "2 -1.513366  0.716890    b  one\n",
       "3  0.688068 -0.097003    b  two"
      ]
     },
     "execution_count": 22,
     "metadata": {},
     "output_type": "execute_result"
    }
   ],
   "source": [
    "pieces['b']"
   ]
  },
  {
   "cell_type": "markdown",
   "metadata": {},
   "source": [
    "groupby메서드는 기본적으로 axis = 0에 대해서 그룹을 만드는데, 다른축으로 그룹을 만드는 것도 가능"
   ]
  },
  {
   "cell_type": "code",
   "execution_count": 23,
   "metadata": {
    "collapsed": false,
    "scrolled": true
   },
   "outputs": [
    {
     "data": {
      "text/plain": [
       "data1    float64\n",
       "data2    float64\n",
       "key1      object\n",
       "key2      object\n",
       "dtype: object"
      ]
     },
     "execution_count": 23,
     "metadata": {},
     "output_type": "execute_result"
    }
   ],
   "source": [
    "df.dtypes"
   ]
  },
  {
   "cell_type": "code",
   "execution_count": 24,
   "metadata": {
    "collapsed": true
   },
   "outputs": [],
   "source": [
    "grouped = df.groupby(df.dtypes, axis = 1)"
   ]
  },
  {
   "cell_type": "code",
   "execution_count": 25,
   "metadata": {
    "collapsed": false
   },
   "outputs": [
    {
     "data": {
      "text/plain": [
       "<pandas.core.groupby.DataFrameGroupBy object at 0x106c4dad0>"
      ]
     },
     "execution_count": 25,
     "metadata": {},
     "output_type": "execute_result"
    }
   ],
   "source": [
    "grouped"
   ]
  },
  {
   "cell_type": "code",
   "execution_count": 26,
   "metadata": {
    "collapsed": false
   },
   "outputs": [
    {
     "data": {
      "text/plain": [
       "{dtype('float64'):       data1     data2\n",
       " 0 -1.140920 -1.507435\n",
       " 1 -0.609759  1.523876\n",
       " 2 -1.513366  0.716890\n",
       " 3  0.688068 -0.097003\n",
       " 4 -0.538877 -0.164868, dtype('O'):   key1 key2\n",
       " 0    a  one\n",
       " 1    a  two\n",
       " 2    b  one\n",
       " 3    b  two\n",
       " 4    a  one}"
      ]
     },
     "execution_count": 26,
     "metadata": {},
     "output_type": "execute_result"
    }
   ],
   "source": [
    "dict(list(grouped))"
   ]
  },
  {
   "cell_type": "markdown",
   "metadata": {},
   "source": [
    "##9.1.2 칼럼 또는 칼럼의 일부만 선택하기\n",
    "groupby객체를 칼럼 이름이나 칼럼 이름이 담긴 배열로 색인하면 수집을 위해 *해당칼럼*을 선택하게 된다."
   ]
  },
  {
   "cell_type": "code",
   "execution_count": 27,
   "metadata": {
    "collapsed": false
   },
   "outputs": [
    {
     "data": {
      "text/plain": [
       "<pandas.core.groupby.SeriesGroupBy object at 0x106cb40d0>"
      ]
     },
     "execution_count": 27,
     "metadata": {},
     "output_type": "execute_result"
    }
   ],
   "source": [
    "df.groupby('key1')['data1']"
   ]
  },
  {
   "cell_type": "code",
   "execution_count": 28,
   "metadata": {
    "collapsed": false
   },
   "outputs": [
    {
     "data": {
      "text/plain": [
       "key1\n",
       "a      -0.763185\n",
       "b      -0.412649\n",
       "Name: data1, dtype: float64"
      ]
     },
     "execution_count": 28,
     "metadata": {},
     "output_type": "execute_result"
    }
   ],
   "source": [
    "df.groupby('key1')['data1'].mean()"
   ]
  },
  {
   "cell_type": "code",
   "execution_count": 29,
   "metadata": {
    "collapsed": false
   },
   "outputs": [
    {
     "data": {
      "text/plain": [
       "<pandas.core.groupby.DataFrameGroupBy object at 0x106ca8990>"
      ]
     },
     "execution_count": 29,
     "metadata": {},
     "output_type": "execute_result"
    }
   ],
   "source": [
    "df.groupby('key1')[['data2']]"
   ]
  },
  {
   "cell_type": "code",
   "execution_count": 30,
   "metadata": {
    "collapsed": false
   },
   "outputs": [
    {
     "data": {
      "text/html": [
       "<div style=\"max-height:1000px;max-width:1500px;overflow:auto;\">\n",
       "<table border=\"1\" class=\"dataframe\">\n",
       "  <thead>\n",
       "    <tr style=\"text-align: right;\">\n",
       "      <th></th>\n",
       "      <th>data2</th>\n",
       "    </tr>\n",
       "    <tr>\n",
       "      <th>key1</th>\n",
       "      <th></th>\n",
       "    </tr>\n",
       "  </thead>\n",
       "  <tbody>\n",
       "    <tr>\n",
       "      <th>a</th>\n",
       "      <td>-0.049476</td>\n",
       "    </tr>\n",
       "    <tr>\n",
       "      <th>b</th>\n",
       "      <td> 0.309943</td>\n",
       "    </tr>\n",
       "  </tbody>\n",
       "</table>\n",
       "</div>"
      ],
      "text/plain": [
       "         data2\n",
       "key1          \n",
       "a    -0.049476\n",
       "b     0.309943"
      ]
     },
     "execution_count": 30,
     "metadata": {},
     "output_type": "execute_result"
    }
   ],
   "source": [
    "df.groupby('key1')[['data2']].mean()"
   ]
  },
  {
   "cell_type": "markdown",
   "metadata": {},
   "source": [
    "색인으로 얻는 객체는 groupby 메서드에 리스트나 배열을 넘기면 DataFrameGroupBy객체가 되고, 단일값으로 칼럼 이름을 하나만 넘기면 SeriesGroupBy객체가 된다."
   ]
  },
  {
   "cell_type": "markdown",
   "metadata": {},
   "source": [
    "##9.1.3 사전과 Series에서 묶기\n",
    "그룹 정보는 배열이 아닌 형태로 존재하기도 한다."
   ]
  },
  {
   "cell_type": "code",
   "execution_count": 120,
   "metadata": {
    "collapsed": true
   },
   "outputs": [],
   "source": [
    "people = DataFrame(np.random.randn(5,5),\n",
    "                  columns = ['a', 'b', 'c', 'd', 'e'],\n",
    "                  index = ['Joe', 'Steve', 'Wes', 'Jim', 'Trevis'])"
   ]
  },
  {
   "cell_type": "code",
   "execution_count": 32,
   "metadata": {
    "collapsed": false
   },
   "outputs": [
    {
     "data": {
      "text/html": [
       "<div style=\"max-height:1000px;max-width:1500px;overflow:auto;\">\n",
       "<table border=\"1\" class=\"dataframe\">\n",
       "  <thead>\n",
       "    <tr style=\"text-align: right;\">\n",
       "      <th></th>\n",
       "      <th>a</th>\n",
       "      <th>b</th>\n",
       "      <th>c</th>\n",
       "      <th>d</th>\n",
       "      <th>e</th>\n",
       "    </tr>\n",
       "  </thead>\n",
       "  <tbody>\n",
       "    <tr>\n",
       "      <th>Joe</th>\n",
       "      <td>-1.220578</td>\n",
       "      <td> 1.438065</td>\n",
       "      <td> 0.188507</td>\n",
       "      <td> 0.705883</td>\n",
       "      <td>-0.369075</td>\n",
       "    </tr>\n",
       "    <tr>\n",
       "      <th>Steve</th>\n",
       "      <td> 0.555838</td>\n",
       "      <td> 0.041022</td>\n",
       "      <td> 0.888348</td>\n",
       "      <td>-2.400452</td>\n",
       "      <td> 0.926124</td>\n",
       "    </tr>\n",
       "    <tr>\n",
       "      <th>Wes</th>\n",
       "      <td> 0.036805</td>\n",
       "      <td> 0.529801</td>\n",
       "      <td>-0.527697</td>\n",
       "      <td>-0.671109</td>\n",
       "      <td> 0.210652</td>\n",
       "    </tr>\n",
       "    <tr>\n",
       "      <th>Jim</th>\n",
       "      <td>-1.151381</td>\n",
       "      <td>-0.173391</td>\n",
       "      <td> 1.134535</td>\n",
       "      <td> 0.717705</td>\n",
       "      <td> 0.634761</td>\n",
       "    </tr>\n",
       "    <tr>\n",
       "      <th>Trevis</th>\n",
       "      <td>-0.218087</td>\n",
       "      <td> 1.076053</td>\n",
       "      <td> 0.810081</td>\n",
       "      <td>-1.663764</td>\n",
       "      <td> 0.429935</td>\n",
       "    </tr>\n",
       "  </tbody>\n",
       "</table>\n",
       "</div>"
      ],
      "text/plain": [
       "               a         b         c         d         e\n",
       "Joe    -1.220578  1.438065  0.188507  0.705883 -0.369075\n",
       "Steve   0.555838  0.041022  0.888348 -2.400452  0.926124\n",
       "Wes     0.036805  0.529801 -0.527697 -0.671109  0.210652\n",
       "Jim    -1.151381 -0.173391  1.134535  0.717705  0.634761\n",
       "Trevis -0.218087  1.076053  0.810081 -1.663764  0.429935"
      ]
     },
     "execution_count": 32,
     "metadata": {},
     "output_type": "execute_result"
    }
   ],
   "source": [
    "people"
   ]
  },
  {
   "cell_type": "code",
   "execution_count": 33,
   "metadata": {
    "collapsed": true
   },
   "outputs": [],
   "source": [
    "people.ix[2:3, ['b', 'c']] = np.nan"
   ]
  },
  {
   "cell_type": "code",
   "execution_count": 34,
   "metadata": {
    "collapsed": false
   },
   "outputs": [
    {
     "data": {
      "text/html": [
       "<div style=\"max-height:1000px;max-width:1500px;overflow:auto;\">\n",
       "<table border=\"1\" class=\"dataframe\">\n",
       "  <thead>\n",
       "    <tr style=\"text-align: right;\">\n",
       "      <th></th>\n",
       "      <th>a</th>\n",
       "      <th>b</th>\n",
       "      <th>c</th>\n",
       "      <th>d</th>\n",
       "      <th>e</th>\n",
       "    </tr>\n",
       "  </thead>\n",
       "  <tbody>\n",
       "    <tr>\n",
       "      <th>Joe</th>\n",
       "      <td>-1.220578</td>\n",
       "      <td> 1.438065</td>\n",
       "      <td> 0.188507</td>\n",
       "      <td> 0.705883</td>\n",
       "      <td>-0.369075</td>\n",
       "    </tr>\n",
       "    <tr>\n",
       "      <th>Steve</th>\n",
       "      <td> 0.555838</td>\n",
       "      <td> 0.041022</td>\n",
       "      <td> 0.888348</td>\n",
       "      <td>-2.400452</td>\n",
       "      <td> 0.926124</td>\n",
       "    </tr>\n",
       "    <tr>\n",
       "      <th>Wes</th>\n",
       "      <td> 0.036805</td>\n",
       "      <td>      NaN</td>\n",
       "      <td>      NaN</td>\n",
       "      <td>-0.671109</td>\n",
       "      <td> 0.210652</td>\n",
       "    </tr>\n",
       "    <tr>\n",
       "      <th>Jim</th>\n",
       "      <td>-1.151381</td>\n",
       "      <td>-0.173391</td>\n",
       "      <td> 1.134535</td>\n",
       "      <td> 0.717705</td>\n",
       "      <td> 0.634761</td>\n",
       "    </tr>\n",
       "    <tr>\n",
       "      <th>Trevis</th>\n",
       "      <td>-0.218087</td>\n",
       "      <td> 1.076053</td>\n",
       "      <td> 0.810081</td>\n",
       "      <td>-1.663764</td>\n",
       "      <td> 0.429935</td>\n",
       "    </tr>\n",
       "  </tbody>\n",
       "</table>\n",
       "</div>"
      ],
      "text/plain": [
       "               a         b         c         d         e\n",
       "Joe    -1.220578  1.438065  0.188507  0.705883 -0.369075\n",
       "Steve   0.555838  0.041022  0.888348 -2.400452  0.926124\n",
       "Wes     0.036805       NaN       NaN -0.671109  0.210652\n",
       "Jim    -1.151381 -0.173391  1.134535  0.717705  0.634761\n",
       "Trevis -0.218087  1.076053  0.810081 -1.663764  0.429935"
      ]
     },
     "execution_count": 34,
     "metadata": {},
     "output_type": "execute_result"
    }
   ],
   "source": [
    "people"
   ]
  },
  {
   "cell_type": "code",
   "execution_count": 35,
   "metadata": {
    "collapsed": true
   },
   "outputs": [],
   "source": [
    "mapping = {'a':'red', 'b':'red', 'c':'blue', 'd':'blue', 'e':'red', 'f':'orange'}"
   ]
  },
  {
   "cell_type": "code",
   "execution_count": 36,
   "metadata": {
    "collapsed": true
   },
   "outputs": [],
   "source": [
    "by_column = people.groupby(mapping, axis = 1)"
   ]
  },
  {
   "cell_type": "code",
   "execution_count": 37,
   "metadata": {
    "collapsed": false
   },
   "outputs": [
    {
     "data": {
      "text/plain": [
       "<pandas.core.groupby.DataFrameGroupBy object at 0x106c4db90>"
      ]
     },
     "execution_count": 37,
     "metadata": {},
     "output_type": "execute_result"
    }
   ],
   "source": [
    "by_column"
   ]
  },
  {
   "cell_type": "code",
   "execution_count": 38,
   "metadata": {
    "collapsed": false
   },
   "outputs": [
    {
     "data": {
      "text/html": [
       "<div style=\"max-height:1000px;max-width:1500px;overflow:auto;\">\n",
       "<table border=\"1\" class=\"dataframe\">\n",
       "  <thead>\n",
       "    <tr style=\"text-align: right;\">\n",
       "      <th></th>\n",
       "      <th>blue</th>\n",
       "      <th>red</th>\n",
       "    </tr>\n",
       "  </thead>\n",
       "  <tbody>\n",
       "    <tr>\n",
       "      <th>Joe</th>\n",
       "      <td> 0.894390</td>\n",
       "      <td>-0.151588</td>\n",
       "    </tr>\n",
       "    <tr>\n",
       "      <th>Steve</th>\n",
       "      <td>-1.512104</td>\n",
       "      <td> 1.522984</td>\n",
       "    </tr>\n",
       "    <tr>\n",
       "      <th>Wes</th>\n",
       "      <td>-0.671109</td>\n",
       "      <td> 0.247457</td>\n",
       "    </tr>\n",
       "    <tr>\n",
       "      <th>Jim</th>\n",
       "      <td> 1.852239</td>\n",
       "      <td>-0.690011</td>\n",
       "    </tr>\n",
       "    <tr>\n",
       "      <th>Trevis</th>\n",
       "      <td>-0.853684</td>\n",
       "      <td> 1.287901</td>\n",
       "    </tr>\n",
       "  </tbody>\n",
       "</table>\n",
       "</div>"
      ],
      "text/plain": [
       "            blue       red\n",
       "Joe     0.894390 -0.151588\n",
       "Steve  -1.512104  1.522984\n",
       "Wes    -0.671109  0.247457\n",
       "Jim     1.852239 -0.690011\n",
       "Trevis -0.853684  1.287901"
      ]
     },
     "execution_count": 38,
     "metadata": {},
     "output_type": "execute_result"
    }
   ],
   "source": [
    "by_column.sum()"
   ]
  },
  {
   "cell_type": "code",
   "execution_count": 39,
   "metadata": {
    "collapsed": true
   },
   "outputs": [],
   "source": [
    "from pandas import Series"
   ]
  },
  {
   "cell_type": "code",
   "execution_count": 40,
   "metadata": {
    "collapsed": false
   },
   "outputs": [],
   "source": [
    "map_series = Series(mapping)"
   ]
  },
  {
   "cell_type": "code",
   "execution_count": 41,
   "metadata": {
    "collapsed": false
   },
   "outputs": [
    {
     "data": {
      "text/plain": [
       "a       red\n",
       "b       red\n",
       "c      blue\n",
       "d      blue\n",
       "e       red\n",
       "f    orange\n",
       "dtype: object"
      ]
     },
     "execution_count": 41,
     "metadata": {},
     "output_type": "execute_result"
    }
   ],
   "source": [
    "map_series"
   ]
  },
  {
   "cell_type": "code",
   "execution_count": 42,
   "metadata": {
    "collapsed": false
   },
   "outputs": [
    {
     "data": {
      "text/html": [
       "<div style=\"max-height:1000px;max-width:1500px;overflow:auto;\">\n",
       "<table border=\"1\" class=\"dataframe\">\n",
       "  <thead>\n",
       "    <tr style=\"text-align: right;\">\n",
       "      <th></th>\n",
       "      <th>blue</th>\n",
       "      <th>red</th>\n",
       "    </tr>\n",
       "  </thead>\n",
       "  <tbody>\n",
       "    <tr>\n",
       "      <th>Joe</th>\n",
       "      <td> 2</td>\n",
       "      <td> 3</td>\n",
       "    </tr>\n",
       "    <tr>\n",
       "      <th>Steve</th>\n",
       "      <td> 2</td>\n",
       "      <td> 3</td>\n",
       "    </tr>\n",
       "    <tr>\n",
       "      <th>Wes</th>\n",
       "      <td> 1</td>\n",
       "      <td> 2</td>\n",
       "    </tr>\n",
       "    <tr>\n",
       "      <th>Jim</th>\n",
       "      <td> 2</td>\n",
       "      <td> 3</td>\n",
       "    </tr>\n",
       "    <tr>\n",
       "      <th>Trevis</th>\n",
       "      <td> 2</td>\n",
       "      <td> 3</td>\n",
       "    </tr>\n",
       "  </tbody>\n",
       "</table>\n",
       "</div>"
      ],
      "text/plain": [
       "        blue  red\n",
       "Joe        2    3\n",
       "Steve      2    3\n",
       "Wes        1    2\n",
       "Jim        2    3\n",
       "Trevis     2    3"
      ]
     },
     "execution_count": 42,
     "metadata": {},
     "output_type": "execute_result"
    }
   ],
   "source": [
    "people.groupby(map_series, axis = 1).count()"
   ]
  },
  {
   "cell_type": "markdown",
   "metadata": {},
   "source": [
    "##9.1.4 함수로 묶기\n",
    "사전이나 Series를 사용하는 것에 비해 파이썬 함수를 사용해서 그룹을 매핑하는것은 좀 더 독창적이고 추상적인 방법."
   ]
  },
  {
   "cell_type": "code",
   "execution_count": 43,
   "metadata": {
    "collapsed": false
   },
   "outputs": [
    {
     "data": {
      "text/html": [
       "<div style=\"max-height:1000px;max-width:1500px;overflow:auto;\">\n",
       "<table border=\"1\" class=\"dataframe\">\n",
       "  <thead>\n",
       "    <tr style=\"text-align: right;\">\n",
       "      <th></th>\n",
       "      <th>a</th>\n",
       "      <th>b</th>\n",
       "      <th>c</th>\n",
       "      <th>d</th>\n",
       "      <th>e</th>\n",
       "    </tr>\n",
       "  </thead>\n",
       "  <tbody>\n",
       "    <tr>\n",
       "      <th>3</th>\n",
       "      <td>-2.335154</td>\n",
       "      <td> 1.264674</td>\n",
       "      <td> 1.323041</td>\n",
       "      <td> 0.752479</td>\n",
       "      <td> 0.476339</td>\n",
       "    </tr>\n",
       "    <tr>\n",
       "      <th>5</th>\n",
       "      <td> 0.555838</td>\n",
       "      <td> 0.041022</td>\n",
       "      <td> 0.888348</td>\n",
       "      <td>-2.400452</td>\n",
       "      <td> 0.926124</td>\n",
       "    </tr>\n",
       "    <tr>\n",
       "      <th>6</th>\n",
       "      <td>-0.218087</td>\n",
       "      <td> 1.076053</td>\n",
       "      <td> 0.810081</td>\n",
       "      <td>-1.663764</td>\n",
       "      <td> 0.429935</td>\n",
       "    </tr>\n",
       "  </tbody>\n",
       "</table>\n",
       "</div>"
      ],
      "text/plain": [
       "          a         b         c         d         e\n",
       "3 -2.335154  1.264674  1.323041  0.752479  0.476339\n",
       "5  0.555838  0.041022  0.888348 -2.400452  0.926124\n",
       "6 -0.218087  1.076053  0.810081 -1.663764  0.429935"
      ]
     },
     "execution_count": 43,
     "metadata": {},
     "output_type": "execute_result"
    }
   ],
   "source": [
    "people.groupby(len).sum()"
   ]
  },
  {
   "cell_type": "markdown",
   "metadata": {},
   "source": [
    "내부적으로 모두 배열로 변환되므로 함수와 배열, 사전 또는 Series를 함께 섞어 쓰는것도 전혀 문제가 되지 않는다."
   ]
  },
  {
   "cell_type": "code",
   "execution_count": 44,
   "metadata": {
    "collapsed": true
   },
   "outputs": [],
   "source": [
    "key_list = ['one', 'one', 'one', 'two', 'two']"
   ]
  },
  {
   "cell_type": "code",
   "execution_count": 45,
   "metadata": {
    "collapsed": false
   },
   "outputs": [
    {
     "data": {
      "text/html": [
       "<div style=\"max-height:1000px;max-width:1500px;overflow:auto;\">\n",
       "<table border=\"1\" class=\"dataframe\">\n",
       "  <thead>\n",
       "    <tr style=\"text-align: right;\">\n",
       "      <th></th>\n",
       "      <th></th>\n",
       "      <th>a</th>\n",
       "      <th>b</th>\n",
       "      <th>c</th>\n",
       "      <th>d</th>\n",
       "      <th>e</th>\n",
       "    </tr>\n",
       "  </thead>\n",
       "  <tbody>\n",
       "    <tr>\n",
       "      <th rowspan=\"2\" valign=\"top\">3</th>\n",
       "      <th>one</th>\n",
       "      <td>-1.220578</td>\n",
       "      <td> 1.438065</td>\n",
       "      <td> 0.188507</td>\n",
       "      <td>-0.671109</td>\n",
       "      <td>-0.369075</td>\n",
       "    </tr>\n",
       "    <tr>\n",
       "      <th>two</th>\n",
       "      <td>-1.151381</td>\n",
       "      <td>-0.173391</td>\n",
       "      <td> 1.134535</td>\n",
       "      <td> 0.717705</td>\n",
       "      <td> 0.634761</td>\n",
       "    </tr>\n",
       "    <tr>\n",
       "      <th>5</th>\n",
       "      <th>one</th>\n",
       "      <td> 0.555838</td>\n",
       "      <td> 0.041022</td>\n",
       "      <td> 0.888348</td>\n",
       "      <td>-2.400452</td>\n",
       "      <td> 0.926124</td>\n",
       "    </tr>\n",
       "    <tr>\n",
       "      <th>6</th>\n",
       "      <th>two</th>\n",
       "      <td>-0.218087</td>\n",
       "      <td> 1.076053</td>\n",
       "      <td> 0.810081</td>\n",
       "      <td>-1.663764</td>\n",
       "      <td> 0.429935</td>\n",
       "    </tr>\n",
       "  </tbody>\n",
       "</table>\n",
       "</div>"
      ],
      "text/plain": [
       "              a         b         c         d         e\n",
       "3 one -1.220578  1.438065  0.188507 -0.671109 -0.369075\n",
       "  two -1.151381 -0.173391  1.134535  0.717705  0.634761\n",
       "5 one  0.555838  0.041022  0.888348 -2.400452  0.926124\n",
       "6 two -0.218087  1.076053  0.810081 -1.663764  0.429935"
      ]
     },
     "execution_count": 45,
     "metadata": {},
     "output_type": "execute_result"
    }
   ],
   "source": [
    "people.groupby([len, key_list]).min()"
   ]
  },
  {
   "cell_type": "markdown",
   "metadata": {},
   "source": [
    "##9.1.5 색인 단계로 묶기\n",
    "계층적으로 색인된 데이터 묶음은 축 색인의 단계 중 하나를 사용해서 편리하게 모을 수 있는 기능을 제공한다.<br />\n",
    "이 기능을 사용하려면 level인자를 통해 레벨 번호나 이름을 넘기면 된다."
   ]
  },
  {
   "cell_type": "code",
   "execution_count": 46,
   "metadata": {
    "collapsed": true
   },
   "outputs": [],
   "source": [
    "columns = pd.MultiIndex.from_arrays([['US', 'US', 'US', 'KR', 'KR'],\n",
    "                                    [1, 3, 5, 1, 3]], names = ['cty', 'tenor'])"
   ]
  },
  {
   "cell_type": "code",
   "execution_count": 47,
   "metadata": {
    "collapsed": true
   },
   "outputs": [],
   "source": [
    "hier_df = DataFrame(np.random.randn(4, 5), columns=columns)"
   ]
  },
  {
   "cell_type": "code",
   "execution_count": 48,
   "metadata": {
    "collapsed": false
   },
   "outputs": [
    {
     "data": {
      "text/html": [
       "<div style=\"max-height:1000px;max-width:1500px;overflow:auto;\">\n",
       "<table border=\"1\" class=\"dataframe\">\n",
       "  <thead>\n",
       "    <tr>\n",
       "      <th>cty</th>\n",
       "      <th colspan=\"3\" halign=\"left\">US</th>\n",
       "      <th colspan=\"2\" halign=\"left\">KR</th>\n",
       "    </tr>\n",
       "    <tr>\n",
       "      <th>tenor</th>\n",
       "      <th>1</th>\n",
       "      <th>3</th>\n",
       "      <th>5</th>\n",
       "      <th>1</th>\n",
       "      <th>3</th>\n",
       "    </tr>\n",
       "  </thead>\n",
       "  <tbody>\n",
       "    <tr>\n",
       "      <th>0</th>\n",
       "      <td>-0.062576</td>\n",
       "      <td> 1.473723</td>\n",
       "      <td>-2.115714</td>\n",
       "      <td>-0.732727</td>\n",
       "      <td>-1.041743</td>\n",
       "    </tr>\n",
       "    <tr>\n",
       "      <th>1</th>\n",
       "      <td>-0.144869</td>\n",
       "      <td> 1.560652</td>\n",
       "      <td> 0.876048</td>\n",
       "      <td> 0.021882</td>\n",
       "      <td> 0.150959</td>\n",
       "    </tr>\n",
       "    <tr>\n",
       "      <th>2</th>\n",
       "      <td>-0.222757</td>\n",
       "      <td>-0.473839</td>\n",
       "      <td>-1.186367</td>\n",
       "      <td> 0.499311</td>\n",
       "      <td> 1.418829</td>\n",
       "    </tr>\n",
       "    <tr>\n",
       "      <th>3</th>\n",
       "      <td> 0.026889</td>\n",
       "      <td> 0.443408</td>\n",
       "      <td>-0.786914</td>\n",
       "      <td>-0.247936</td>\n",
       "      <td> 0.301954</td>\n",
       "    </tr>\n",
       "  </tbody>\n",
       "</table>\n",
       "</div>"
      ],
      "text/plain": [
       "cty          US                            KR          \n",
       "tenor         1         3         5         1         3\n",
       "0     -0.062576  1.473723 -2.115714 -0.732727 -1.041743\n",
       "1     -0.144869  1.560652  0.876048  0.021882  0.150959\n",
       "2     -0.222757 -0.473839 -1.186367  0.499311  1.418829\n",
       "3      0.026889  0.443408 -0.786914 -0.247936  0.301954"
      ]
     },
     "execution_count": 48,
     "metadata": {},
     "output_type": "execute_result"
    }
   ],
   "source": [
    "hier_df"
   ]
  },
  {
   "cell_type": "code",
   "execution_count": 49,
   "metadata": {
    "collapsed": false
   },
   "outputs": [
    {
     "data": {
      "text/html": [
       "<div style=\"max-height:1000px;max-width:1500px;overflow:auto;\">\n",
       "<table border=\"1\" class=\"dataframe\">\n",
       "  <thead>\n",
       "    <tr style=\"text-align: right;\">\n",
       "      <th>cty</th>\n",
       "      <th>KR</th>\n",
       "      <th>US</th>\n",
       "    </tr>\n",
       "  </thead>\n",
       "  <tbody>\n",
       "    <tr>\n",
       "      <th>0</th>\n",
       "      <td> 2</td>\n",
       "      <td> 3</td>\n",
       "    </tr>\n",
       "    <tr>\n",
       "      <th>1</th>\n",
       "      <td> 2</td>\n",
       "      <td> 3</td>\n",
       "    </tr>\n",
       "    <tr>\n",
       "      <th>2</th>\n",
       "      <td> 2</td>\n",
       "      <td> 3</td>\n",
       "    </tr>\n",
       "    <tr>\n",
       "      <th>3</th>\n",
       "      <td> 2</td>\n",
       "      <td> 3</td>\n",
       "    </tr>\n",
       "  </tbody>\n",
       "</table>\n",
       "</div>"
      ],
      "text/plain": [
       "cty  KR  US\n",
       "0     2   3\n",
       "1     2   3\n",
       "2     2   3\n",
       "3     2   3"
      ]
     },
     "execution_count": 49,
     "metadata": {},
     "output_type": "execute_result"
    }
   ],
   "source": [
    "hier_df.groupby(level='cty', axis = 1).count()"
   ]
  },
  {
   "cell_type": "code",
   "execution_count": 50,
   "metadata": {
    "collapsed": false
   },
   "outputs": [
    {
     "data": {
      "text/html": [
       "<div style=\"max-height:1000px;max-width:1500px;overflow:auto;\">\n",
       "<table border=\"1\" class=\"dataframe\">\n",
       "  <thead>\n",
       "    <tr style=\"text-align: right;\">\n",
       "      <th>tenor</th>\n",
       "      <th>1</th>\n",
       "      <th>3</th>\n",
       "      <th>5</th>\n",
       "    </tr>\n",
       "  </thead>\n",
       "  <tbody>\n",
       "    <tr>\n",
       "      <th>0</th>\n",
       "      <td>-0.397651</td>\n",
       "      <td> 0.215990</td>\n",
       "      <td>-2.115714</td>\n",
       "    </tr>\n",
       "    <tr>\n",
       "      <th>1</th>\n",
       "      <td>-0.061494</td>\n",
       "      <td> 0.855806</td>\n",
       "      <td> 0.876048</td>\n",
       "    </tr>\n",
       "    <tr>\n",
       "      <th>2</th>\n",
       "      <td> 0.138277</td>\n",
       "      <td> 0.472495</td>\n",
       "      <td>-1.186367</td>\n",
       "    </tr>\n",
       "    <tr>\n",
       "      <th>3</th>\n",
       "      <td>-0.110524</td>\n",
       "      <td> 0.372681</td>\n",
       "      <td>-0.786914</td>\n",
       "    </tr>\n",
       "  </tbody>\n",
       "</table>\n",
       "</div>"
      ],
      "text/plain": [
       "tenor         1         3         5\n",
       "0     -0.397651  0.215990 -2.115714\n",
       "1     -0.061494  0.855806  0.876048\n",
       "2      0.138277  0.472495 -1.186367\n",
       "3     -0.110524  0.372681 -0.786914"
      ]
     },
     "execution_count": 50,
     "metadata": {},
     "output_type": "execute_result"
    }
   ],
   "source": [
    "hier_df.groupby(level='tenor', axis = 1).mean()"
   ]
  },
  {
   "cell_type": "markdown",
   "metadata": {},
   "source": [
    "##9.2 데이터 수집\n",
    "위 예제에서는 mean, count, sum, min등을 통해 스칼라값을 구했지만 직접 고안한 방식과 추가적으로 기존 메서드를 호출하는 방식으로 데이터를 집계할 수 있다."
   ]
  },
  {
   "cell_type": "code",
   "execution_count": 51,
   "metadata": {
    "collapsed": false
   },
   "outputs": [
    {
     "data": {
      "text/html": [
       "<div style=\"max-height:1000px;max-width:1500px;overflow:auto;\">\n",
       "<table border=\"1\" class=\"dataframe\">\n",
       "  <thead>\n",
       "    <tr style=\"text-align: right;\">\n",
       "      <th></th>\n",
       "      <th>data1</th>\n",
       "      <th>data2</th>\n",
       "      <th>key1</th>\n",
       "      <th>key2</th>\n",
       "    </tr>\n",
       "  </thead>\n",
       "  <tbody>\n",
       "    <tr>\n",
       "      <th>0</th>\n",
       "      <td>-1.140920</td>\n",
       "      <td>-1.507435</td>\n",
       "      <td> a</td>\n",
       "      <td> one</td>\n",
       "    </tr>\n",
       "    <tr>\n",
       "      <th>1</th>\n",
       "      <td>-0.609759</td>\n",
       "      <td> 1.523876</td>\n",
       "      <td> a</td>\n",
       "      <td> two</td>\n",
       "    </tr>\n",
       "    <tr>\n",
       "      <th>2</th>\n",
       "      <td>-1.513366</td>\n",
       "      <td> 0.716890</td>\n",
       "      <td> b</td>\n",
       "      <td> one</td>\n",
       "    </tr>\n",
       "    <tr>\n",
       "      <th>3</th>\n",
       "      <td> 0.688068</td>\n",
       "      <td>-0.097003</td>\n",
       "      <td> b</td>\n",
       "      <td> two</td>\n",
       "    </tr>\n",
       "    <tr>\n",
       "      <th>4</th>\n",
       "      <td>-0.538877</td>\n",
       "      <td>-0.164868</td>\n",
       "      <td> a</td>\n",
       "      <td> one</td>\n",
       "    </tr>\n",
       "  </tbody>\n",
       "</table>\n",
       "</div>"
      ],
      "text/plain": [
       "      data1     data2 key1 key2\n",
       "0 -1.140920 -1.507435    a  one\n",
       "1 -0.609759  1.523876    a  two\n",
       "2 -1.513366  0.716890    b  one\n",
       "3  0.688068 -0.097003    b  two\n",
       "4 -0.538877 -0.164868    a  one"
      ]
     },
     "execution_count": 51,
     "metadata": {},
     "output_type": "execute_result"
    }
   ],
   "source": [
    "df"
   ]
  },
  {
   "cell_type": "code",
   "execution_count": 52,
   "metadata": {
    "collapsed": true
   },
   "outputs": [],
   "source": [
    "grouped = df.groupby('key1')"
   ]
  },
  {
   "cell_type": "code",
   "execution_count": 53,
   "metadata": {
    "collapsed": false
   },
   "outputs": [
    {
     "data": {
      "text/plain": [
       "<pandas.core.groupby.SeriesGroupBy object at 0x106193050>"
      ]
     },
     "execution_count": 53,
     "metadata": {},
     "output_type": "execute_result"
    }
   ],
   "source": [
    "grouped['data1']"
   ]
  },
  {
   "cell_type": "code",
   "execution_count": 54,
   "metadata": {
    "collapsed": false
   },
   "outputs": [
    {
     "data": {
      "text/plain": [
       "key1\n",
       "a      -0.553053\n",
       "b       0.467925\n",
       "Name: data1, dtype: float64"
      ]
     },
     "execution_count": 54,
     "metadata": {},
     "output_type": "execute_result"
    }
   ],
   "source": [
    "grouped['data1'].quantile(0.9) #4분위수"
   ]
  },
  {
   "cell_type": "markdown",
   "metadata": {},
   "source": [
    "자신만의 데이터 집계함수를 사용하려면 배열의 agg나 aggregate 메서드에 해당 함수를 넘기면 된다."
   ]
  },
  {
   "cell_type": "code",
   "execution_count": 55,
   "metadata": {
    "collapsed": true
   },
   "outputs": [],
   "source": [
    "def peak_to_peak(arr):\n",
    "    return arr.max() - arr.min()"
   ]
  },
  {
   "cell_type": "code",
   "execution_count": 56,
   "metadata": {
    "collapsed": false
   },
   "outputs": [
    {
     "data": {
      "text/html": [
       "<div style=\"max-height:1000px;max-width:1500px;overflow:auto;\">\n",
       "<table border=\"1\" class=\"dataframe\">\n",
       "  <thead>\n",
       "    <tr style=\"text-align: right;\">\n",
       "      <th></th>\n",
       "      <th>data1</th>\n",
       "      <th>data2</th>\n",
       "    </tr>\n",
       "    <tr>\n",
       "      <th>key1</th>\n",
       "      <th></th>\n",
       "      <th></th>\n",
       "    </tr>\n",
       "  </thead>\n",
       "  <tbody>\n",
       "    <tr>\n",
       "      <th>a</th>\n",
       "      <td> 0.602043</td>\n",
       "      <td> 3.031311</td>\n",
       "    </tr>\n",
       "    <tr>\n",
       "      <th>b</th>\n",
       "      <td> 2.201435</td>\n",
       "      <td> 0.813893</td>\n",
       "    </tr>\n",
       "  </tbody>\n",
       "</table>\n",
       "</div>"
      ],
      "text/plain": [
       "         data1     data2\n",
       "key1                    \n",
       "a     0.602043  3.031311\n",
       "b     2.201435  0.813893"
      ]
     },
     "execution_count": 56,
     "metadata": {},
     "output_type": "execute_result"
    }
   ],
   "source": [
    "grouped.agg(peak_to_peak)"
   ]
  },
  {
   "cell_type": "markdown",
   "metadata": {},
   "source": [
    "describe같은 메서드를 사용해서 데이터를 집계할 수도 있다."
   ]
  },
  {
   "cell_type": "code",
   "execution_count": 57,
   "metadata": {
    "collapsed": false
   },
   "outputs": [
    {
     "data": {
      "text/html": [
       "<div style=\"max-height:1000px;max-width:1500px;overflow:auto;\">\n",
       "<table border=\"1\" class=\"dataframe\">\n",
       "  <thead>\n",
       "    <tr style=\"text-align: right;\">\n",
       "      <th></th>\n",
       "      <th></th>\n",
       "      <th>data1</th>\n",
       "      <th>data2</th>\n",
       "    </tr>\n",
       "    <tr>\n",
       "      <th>key1</th>\n",
       "      <th></th>\n",
       "      <th></th>\n",
       "      <th></th>\n",
       "    </tr>\n",
       "  </thead>\n",
       "  <tbody>\n",
       "    <tr>\n",
       "      <th rowspan=\"8\" valign=\"top\">a</th>\n",
       "      <th>count</th>\n",
       "      <td> 3.000000</td>\n",
       "      <td> 3.000000</td>\n",
       "    </tr>\n",
       "    <tr>\n",
       "      <th>mean</th>\n",
       "      <td>-0.763185</td>\n",
       "      <td>-0.049476</td>\n",
       "    </tr>\n",
       "    <tr>\n",
       "      <th>std</th>\n",
       "      <td> 0.329042</td>\n",
       "      <td> 1.518946</td>\n",
       "    </tr>\n",
       "    <tr>\n",
       "      <th>min</th>\n",
       "      <td>-1.140920</td>\n",
       "      <td>-1.507435</td>\n",
       "    </tr>\n",
       "    <tr>\n",
       "      <th>25%</th>\n",
       "      <td>-0.875340</td>\n",
       "      <td>-0.836151</td>\n",
       "    </tr>\n",
       "    <tr>\n",
       "      <th>50%</th>\n",
       "      <td>-0.609759</td>\n",
       "      <td>-0.164868</td>\n",
       "    </tr>\n",
       "    <tr>\n",
       "      <th>75%</th>\n",
       "      <td>-0.574318</td>\n",
       "      <td> 0.679504</td>\n",
       "    </tr>\n",
       "    <tr>\n",
       "      <th>max</th>\n",
       "      <td>-0.538877</td>\n",
       "      <td> 1.523876</td>\n",
       "    </tr>\n",
       "    <tr>\n",
       "      <th rowspan=\"8\" valign=\"top\">b</th>\n",
       "      <th>count</th>\n",
       "      <td> 2.000000</td>\n",
       "      <td> 2.000000</td>\n",
       "    </tr>\n",
       "    <tr>\n",
       "      <th>mean</th>\n",
       "      <td>-0.412649</td>\n",
       "      <td> 0.309943</td>\n",
       "    </tr>\n",
       "    <tr>\n",
       "      <th>std</th>\n",
       "      <td> 1.556649</td>\n",
       "      <td> 0.575509</td>\n",
       "    </tr>\n",
       "    <tr>\n",
       "      <th>min</th>\n",
       "      <td>-1.513366</td>\n",
       "      <td>-0.097003</td>\n",
       "    </tr>\n",
       "    <tr>\n",
       "      <th>25%</th>\n",
       "      <td>-0.963008</td>\n",
       "      <td> 0.106470</td>\n",
       "    </tr>\n",
       "    <tr>\n",
       "      <th>50%</th>\n",
       "      <td>-0.412649</td>\n",
       "      <td> 0.309943</td>\n",
       "    </tr>\n",
       "    <tr>\n",
       "      <th>75%</th>\n",
       "      <td> 0.137710</td>\n",
       "      <td> 0.513417</td>\n",
       "    </tr>\n",
       "    <tr>\n",
       "      <th>max</th>\n",
       "      <td> 0.688068</td>\n",
       "      <td> 0.716890</td>\n",
       "    </tr>\n",
       "  </tbody>\n",
       "</table>\n",
       "</div>"
      ],
      "text/plain": [
       "               data1     data2\n",
       "key1                          \n",
       "a    count  3.000000  3.000000\n",
       "     mean  -0.763185 -0.049476\n",
       "     std    0.329042  1.518946\n",
       "     min   -1.140920 -1.507435\n",
       "     25%   -0.875340 -0.836151\n",
       "     50%   -0.609759 -0.164868\n",
       "     75%   -0.574318  0.679504\n",
       "     max   -0.538877  1.523876\n",
       "b    count  2.000000  2.000000\n",
       "     mean  -0.412649  0.309943\n",
       "     std    1.556649  0.575509\n",
       "     min   -1.513366 -0.097003\n",
       "     25%   -0.963008  0.106470\n",
       "     50%   -0.412649  0.309943\n",
       "     75%    0.137710  0.513417\n",
       "     max    0.688068  0.716890"
      ]
     },
     "execution_count": 57,
     "metadata": {},
     "output_type": "execute_result"
    }
   ],
   "source": [
    "grouped.describe()"
   ]
  },
  {
   "cell_type": "markdown",
   "metadata": {},
   "source": [
    "* 최적화 된 groupby 메서드\n",
    "\n",
    "함수이름       |설명    \n",
    ":------------|:-----\n",
    "count        |Nu 그룹내에 NA값이 아닌 값의 수를 반환한다.   \n",
    "sum          |NA 값이 아닌 값들의 합을 구한다.   \n",
    "mean         |NA 값이 아닌 값들의 평균 값을 구한다.   \n",
    "median       |NA 값이 아닌 값들의 산술 중간 값을 구한다.   \n",
    "std, var     |편향되지 않은(n-1을 분모로 하는)표준편차와 분산   \n",
    "min, max     |NA 값이 아닌 값 중 최소 값과 최대 값   \n",
    "prod         |NA 값이 아닌 값의 곱   \n",
    "first, last  |NA 값이 하닌 값들 중 첫번째 값과 마지막 값   "
   ]
  },
  {
   "cell_type": "markdown",
   "metadata": {},
   "source": [
    "집계의 고급 기능을 설명하기 위해 레스토랑 팁에 대한 데이터를 사용하려고 한다.<br />\n",
    "데이터를 불러온 후 팁의 비율을 담기 위한 칼럼인 tip_pct를 추가했다."
   ]
  },
  {
   "cell_type": "code",
   "execution_count": 58,
   "metadata": {
    "collapsed": true
   },
   "outputs": [],
   "source": [
    "tips = pd.read_csv('tips.csv')"
   ]
  },
  {
   "cell_type": "code",
   "execution_count": 59,
   "metadata": {
    "collapsed": false
   },
   "outputs": [],
   "source": [
    "#전체 지불 금액대비 팁의 비율 추가\n",
    "tips['tip_pct'] = tips['tip'] / tips['total_bill']"
   ]
  },
  {
   "cell_type": "code",
   "execution_count": 60,
   "metadata": {
    "collapsed": false
   },
   "outputs": [
    {
     "data": {
      "text/html": [
       "<div style=\"max-height:1000px;max-width:1500px;overflow:auto;\">\n",
       "<table border=\"1\" class=\"dataframe\">\n",
       "  <thead>\n",
       "    <tr style=\"text-align: right;\">\n",
       "      <th></th>\n",
       "      <th>total_bill</th>\n",
       "      <th>tip</th>\n",
       "      <th>sex</th>\n",
       "      <th>smoker</th>\n",
       "      <th>day</th>\n",
       "      <th>time</th>\n",
       "      <th>size</th>\n",
       "      <th>tip_pct</th>\n",
       "    </tr>\n",
       "  </thead>\n",
       "  <tbody>\n",
       "    <tr>\n",
       "      <th>0</th>\n",
       "      <td> 16.99</td>\n",
       "      <td> 1.01</td>\n",
       "      <td> Female</td>\n",
       "      <td> No</td>\n",
       "      <td> Sun</td>\n",
       "      <td> Dinner</td>\n",
       "      <td> 2</td>\n",
       "      <td> 0.059447</td>\n",
       "    </tr>\n",
       "    <tr>\n",
       "      <th>1</th>\n",
       "      <td> 10.34</td>\n",
       "      <td> 1.66</td>\n",
       "      <td>   Male</td>\n",
       "      <td> No</td>\n",
       "      <td> Sun</td>\n",
       "      <td> Dinner</td>\n",
       "      <td> 3</td>\n",
       "      <td> 0.160542</td>\n",
       "    </tr>\n",
       "    <tr>\n",
       "      <th>2</th>\n",
       "      <td> 21.01</td>\n",
       "      <td> 3.50</td>\n",
       "      <td>   Male</td>\n",
       "      <td> No</td>\n",
       "      <td> Sun</td>\n",
       "      <td> Dinner</td>\n",
       "      <td> 3</td>\n",
       "      <td> 0.166587</td>\n",
       "    </tr>\n",
       "    <tr>\n",
       "      <th>3</th>\n",
       "      <td> 23.68</td>\n",
       "      <td> 3.31</td>\n",
       "      <td>   Male</td>\n",
       "      <td> No</td>\n",
       "      <td> Sun</td>\n",
       "      <td> Dinner</td>\n",
       "      <td> 2</td>\n",
       "      <td> 0.139780</td>\n",
       "    </tr>\n",
       "    <tr>\n",
       "      <th>4</th>\n",
       "      <td> 24.59</td>\n",
       "      <td> 3.61</td>\n",
       "      <td> Female</td>\n",
       "      <td> No</td>\n",
       "      <td> Sun</td>\n",
       "      <td> Dinner</td>\n",
       "      <td> 4</td>\n",
       "      <td> 0.146808</td>\n",
       "    </tr>\n",
       "    <tr>\n",
       "      <th>5</th>\n",
       "      <td> 25.29</td>\n",
       "      <td> 4.71</td>\n",
       "      <td>   Male</td>\n",
       "      <td> No</td>\n",
       "      <td> Sun</td>\n",
       "      <td> Dinner</td>\n",
       "      <td> 4</td>\n",
       "      <td> 0.186240</td>\n",
       "    </tr>\n",
       "  </tbody>\n",
       "</table>\n",
       "</div>"
      ],
      "text/plain": [
       "   total_bill   tip     sex smoker  day    time  size   tip_pct\n",
       "0       16.99  1.01  Female     No  Sun  Dinner     2  0.059447\n",
       "1       10.34  1.66    Male     No  Sun  Dinner     3  0.160542\n",
       "2       21.01  3.50    Male     No  Sun  Dinner     3  0.166587\n",
       "3       23.68  3.31    Male     No  Sun  Dinner     2  0.139780\n",
       "4       24.59  3.61  Female     No  Sun  Dinner     4  0.146808\n",
       "5       25.29  4.71    Male     No  Sun  Dinner     4  0.186240"
      ]
     },
     "execution_count": 60,
     "metadata": {},
     "output_type": "execute_result"
    }
   ],
   "source": [
    "tips[:6]"
   ]
  },
  {
   "cell_type": "markdown",
   "metadata": {},
   "source": [
    "##9.2.1 칼럼에 여러가지 함수 적용하기"
   ]
  },
  {
   "cell_type": "code",
   "execution_count": 61,
   "metadata": {
    "collapsed": true
   },
   "outputs": [],
   "source": [
    "grouped = tips.groupby(['sex', 'smoker'])"
   ]
  },
  {
   "cell_type": "code",
   "execution_count": 62,
   "metadata": {
    "collapsed": false
   },
   "outputs": [],
   "source": [
    "grouped_pct = grouped['tip_pct']"
   ]
  },
  {
   "cell_type": "code",
   "execution_count": 63,
   "metadata": {
    "collapsed": false
   },
   "outputs": [
    {
     "data": {
      "text/plain": [
       "sex     smoker\n",
       "Female  No        0.156921\n",
       "        Yes       0.182150\n",
       "Male    No        0.160669\n",
       "        Yes       0.152771\n",
       "Name: tip_pct, dtype: float64"
      ]
     },
     "execution_count": 63,
     "metadata": {},
     "output_type": "execute_result"
    }
   ],
   "source": [
    "grouped_pct.agg('mean') #함수 이름을 문자열로 넘겨도 된다."
   ]
  },
  {
   "cell_type": "markdown",
   "metadata": {},
   "source": [
    "만일 함수의 목록이나 함수 이름들을 넘기면 함수 이름을 칼럼이름으로 하는 DataFrame을 얻게 된다."
   ]
  },
  {
   "cell_type": "code",
   "execution_count": 64,
   "metadata": {
    "collapsed": false
   },
   "outputs": [
    {
     "data": {
      "text/html": [
       "<div style=\"max-height:1000px;max-width:1500px;overflow:auto;\">\n",
       "<table border=\"1\" class=\"dataframe\">\n",
       "  <thead>\n",
       "    <tr style=\"text-align: right;\">\n",
       "      <th></th>\n",
       "      <th></th>\n",
       "      <th>mean</th>\n",
       "      <th>std</th>\n",
       "      <th>peak_to_peak</th>\n",
       "    </tr>\n",
       "    <tr>\n",
       "      <th>sex</th>\n",
       "      <th>smoker</th>\n",
       "      <th></th>\n",
       "      <th></th>\n",
       "      <th></th>\n",
       "    </tr>\n",
       "  </thead>\n",
       "  <tbody>\n",
       "    <tr>\n",
       "      <th rowspan=\"2\" valign=\"top\">Female</th>\n",
       "      <th>No</th>\n",
       "      <td> 0.156921</td>\n",
       "      <td> 0.036421</td>\n",
       "      <td> 0.195876</td>\n",
       "    </tr>\n",
       "    <tr>\n",
       "      <th>Yes</th>\n",
       "      <td> 0.182150</td>\n",
       "      <td> 0.071595</td>\n",
       "      <td> 0.360233</td>\n",
       "    </tr>\n",
       "    <tr>\n",
       "      <th rowspan=\"2\" valign=\"top\">Male</th>\n",
       "      <th>No</th>\n",
       "      <td> 0.160669</td>\n",
       "      <td> 0.041849</td>\n",
       "      <td> 0.220186</td>\n",
       "    </tr>\n",
       "    <tr>\n",
       "      <th>Yes</th>\n",
       "      <td> 0.152771</td>\n",
       "      <td> 0.090588</td>\n",
       "      <td> 0.674707</td>\n",
       "    </tr>\n",
       "  </tbody>\n",
       "</table>\n",
       "</div>"
      ],
      "text/plain": [
       "                   mean       std  peak_to_peak\n",
       "sex    smoker                                  \n",
       "Female No      0.156921  0.036421      0.195876\n",
       "       Yes     0.182150  0.071595      0.360233\n",
       "Male   No      0.160669  0.041849      0.220186\n",
       "       Yes     0.152771  0.090588      0.674707"
      ]
     },
     "execution_count": 64,
     "metadata": {},
     "output_type": "execute_result"
    }
   ],
   "source": [
    "grouped_pct.agg(['mean', 'std', peak_to_peak])"
   ]
  },
  {
   "cell_type": "markdown",
   "metadata": {},
   "source": [
    "groupby객체에서 자동으로 지정되는 칼럼 이름을 그대로 쓰지 않아도 된다. 이름과 함수가 담긴 튜플의 리스트를 넘기면 각 튜플에서 첫번째 원소는 DataFrame에서 칼럼의 이름으로 사용된다."
   ]
  },
  {
   "cell_type": "code",
   "execution_count": 65,
   "metadata": {
    "collapsed": false
   },
   "outputs": [
    {
     "data": {
      "text/html": [
       "<div style=\"max-height:1000px;max-width:1500px;overflow:auto;\">\n",
       "<table border=\"1\" class=\"dataframe\">\n",
       "  <thead>\n",
       "    <tr style=\"text-align: right;\">\n",
       "      <th></th>\n",
       "      <th></th>\n",
       "      <th>foo</th>\n",
       "      <th>bar</th>\n",
       "      <th>zoo</th>\n",
       "    </tr>\n",
       "    <tr>\n",
       "      <th>sex</th>\n",
       "      <th>smoker</th>\n",
       "      <th></th>\n",
       "      <th></th>\n",
       "      <th></th>\n",
       "    </tr>\n",
       "  </thead>\n",
       "  <tbody>\n",
       "    <tr>\n",
       "      <th rowspan=\"2\" valign=\"top\">Female</th>\n",
       "      <th>No</th>\n",
       "      <td> 0.156921</td>\n",
       "      <td> 0.036421</td>\n",
       "      <td> 0.195876</td>\n",
       "    </tr>\n",
       "    <tr>\n",
       "      <th>Yes</th>\n",
       "      <td> 0.182150</td>\n",
       "      <td> 0.071595</td>\n",
       "      <td> 0.360233</td>\n",
       "    </tr>\n",
       "    <tr>\n",
       "      <th rowspan=\"2\" valign=\"top\">Male</th>\n",
       "      <th>No</th>\n",
       "      <td> 0.160669</td>\n",
       "      <td> 0.041849</td>\n",
       "      <td> 0.220186</td>\n",
       "    </tr>\n",
       "    <tr>\n",
       "      <th>Yes</th>\n",
       "      <td> 0.152771</td>\n",
       "      <td> 0.090588</td>\n",
       "      <td> 0.674707</td>\n",
       "    </tr>\n",
       "  </tbody>\n",
       "</table>\n",
       "</div>"
      ],
      "text/plain": [
       "                    foo       bar       zoo\n",
       "sex    smoker                              \n",
       "Female No      0.156921  0.036421  0.195876\n",
       "       Yes     0.182150  0.071595  0.360233\n",
       "Male   No      0.160669  0.041849  0.220186\n",
       "       Yes     0.152771  0.090588  0.674707"
      ]
     },
     "execution_count": 65,
     "metadata": {},
     "output_type": "execute_result"
    }
   ],
   "source": [
    "grouped_pct.agg([('foo', 'mean'), ('bar', np.std), ('zoo', peak_to_peak)])"
   ]
  },
  {
   "cell_type": "code",
   "execution_count": 66,
   "metadata": {
    "collapsed": true
   },
   "outputs": [],
   "source": [
    "functions = ['count', 'mean', 'max']"
   ]
  },
  {
   "cell_type": "code",
   "execution_count": 67,
   "metadata": {
    "collapsed": true
   },
   "outputs": [],
   "source": [
    "result = grouped['tip_pct', 'total_bill'].agg(functions)"
   ]
  },
  {
   "cell_type": "code",
   "execution_count": 68,
   "metadata": {
    "collapsed": false
   },
   "outputs": [
    {
     "data": {
      "text/html": [
       "<div style=\"max-height:1000px;max-width:1500px;overflow:auto;\">\n",
       "<table border=\"1\" class=\"dataframe\">\n",
       "  <thead>\n",
       "    <tr>\n",
       "      <th></th>\n",
       "      <th></th>\n",
       "      <th colspan=\"3\" halign=\"left\">tip_pct</th>\n",
       "      <th colspan=\"3\" halign=\"left\">total_bill</th>\n",
       "    </tr>\n",
       "    <tr>\n",
       "      <th></th>\n",
       "      <th></th>\n",
       "      <th>count</th>\n",
       "      <th>mean</th>\n",
       "      <th>max</th>\n",
       "      <th>count</th>\n",
       "      <th>mean</th>\n",
       "      <th>max</th>\n",
       "    </tr>\n",
       "    <tr>\n",
       "      <th>sex</th>\n",
       "      <th>smoker</th>\n",
       "      <th></th>\n",
       "      <th></th>\n",
       "      <th></th>\n",
       "      <th></th>\n",
       "      <th></th>\n",
       "      <th></th>\n",
       "    </tr>\n",
       "  </thead>\n",
       "  <tbody>\n",
       "    <tr>\n",
       "      <th rowspan=\"2\" valign=\"top\">Female</th>\n",
       "      <th>No</th>\n",
       "      <td> 54</td>\n",
       "      <td> 0.156921</td>\n",
       "      <td> 0.252672</td>\n",
       "      <td> 54</td>\n",
       "      <td> 18.105185</td>\n",
       "      <td> 35.83</td>\n",
       "    </tr>\n",
       "    <tr>\n",
       "      <th>Yes</th>\n",
       "      <td> 33</td>\n",
       "      <td> 0.182150</td>\n",
       "      <td> 0.416667</td>\n",
       "      <td> 33</td>\n",
       "      <td> 17.977879</td>\n",
       "      <td> 44.30</td>\n",
       "    </tr>\n",
       "    <tr>\n",
       "      <th rowspan=\"2\" valign=\"top\">Male</th>\n",
       "      <th>No</th>\n",
       "      <td> 97</td>\n",
       "      <td> 0.160669</td>\n",
       "      <td> 0.291990</td>\n",
       "      <td> 97</td>\n",
       "      <td> 19.791237</td>\n",
       "      <td> 48.33</td>\n",
       "    </tr>\n",
       "    <tr>\n",
       "      <th>Yes</th>\n",
       "      <td> 60</td>\n",
       "      <td> 0.152771</td>\n",
       "      <td> 0.710345</td>\n",
       "      <td> 60</td>\n",
       "      <td> 22.284500</td>\n",
       "      <td> 50.81</td>\n",
       "    </tr>\n",
       "  </tbody>\n",
       "</table>\n",
       "</div>"
      ],
      "text/plain": [
       "               tip_pct                      total_bill                  \n",
       "                 count      mean       max       count       mean    max\n",
       "sex    smoker                                                           \n",
       "Female No           54  0.156921  0.252672          54  18.105185  35.83\n",
       "       Yes          33  0.182150  0.416667          33  17.977879  44.30\n",
       "Male   No           97  0.160669  0.291990          97  19.791237  48.33\n",
       "       Yes          60  0.152771  0.710345          60  22.284500  50.81"
      ]
     },
     "execution_count": 68,
     "metadata": {},
     "output_type": "execute_result"
    }
   ],
   "source": [
    "result"
   ]
  },
  {
   "cell_type": "code",
   "execution_count": 69,
   "metadata": {
    "collapsed": false
   },
   "outputs": [
    {
     "data": {
      "text/html": [
       "<div style=\"max-height:1000px;max-width:1500px;overflow:auto;\">\n",
       "<table border=\"1\" class=\"dataframe\">\n",
       "  <thead>\n",
       "    <tr style=\"text-align: right;\">\n",
       "      <th></th>\n",
       "      <th></th>\n",
       "      <th>count</th>\n",
       "      <th>mean</th>\n",
       "      <th>max</th>\n",
       "    </tr>\n",
       "    <tr>\n",
       "      <th>sex</th>\n",
       "      <th>smoker</th>\n",
       "      <th></th>\n",
       "      <th></th>\n",
       "      <th></th>\n",
       "    </tr>\n",
       "  </thead>\n",
       "  <tbody>\n",
       "    <tr>\n",
       "      <th rowspan=\"2\" valign=\"top\">Female</th>\n",
       "      <th>No</th>\n",
       "      <td> 54</td>\n",
       "      <td> 0.156921</td>\n",
       "      <td> 0.252672</td>\n",
       "    </tr>\n",
       "    <tr>\n",
       "      <th>Yes</th>\n",
       "      <td> 33</td>\n",
       "      <td> 0.182150</td>\n",
       "      <td> 0.416667</td>\n",
       "    </tr>\n",
       "    <tr>\n",
       "      <th rowspan=\"2\" valign=\"top\">Male</th>\n",
       "      <th>No</th>\n",
       "      <td> 97</td>\n",
       "      <td> 0.160669</td>\n",
       "      <td> 0.291990</td>\n",
       "    </tr>\n",
       "    <tr>\n",
       "      <th>Yes</th>\n",
       "      <td> 60</td>\n",
       "      <td> 0.152771</td>\n",
       "      <td> 0.710345</td>\n",
       "    </tr>\n",
       "  </tbody>\n",
       "</table>\n",
       "</div>"
      ],
      "text/plain": [
       "               count      mean       max\n",
       "sex    smoker                           \n",
       "Female No         54  0.156921  0.252672\n",
       "       Yes        33  0.182150  0.416667\n",
       "Male   No         97  0.160669  0.291990\n",
       "       Yes        60  0.152771  0.710345"
      ]
     },
     "execution_count": 69,
     "metadata": {},
     "output_type": "execute_result"
    }
   ],
   "source": [
    "result['tip_pct']"
   ]
  },
  {
   "cell_type": "code",
   "execution_count": 70,
   "metadata": {
    "collapsed": true
   },
   "outputs": [],
   "source": [
    "ftuples = [('Durchschnitt', 'mean'), ('Abweichung', np.var)]"
   ]
  },
  {
   "cell_type": "code",
   "execution_count": 71,
   "metadata": {
    "collapsed": false
   },
   "outputs": [
    {
     "data": {
      "text/html": [
       "<div style=\"max-height:1000px;max-width:1500px;overflow:auto;\">\n",
       "<table border=\"1\" class=\"dataframe\">\n",
       "  <thead>\n",
       "    <tr>\n",
       "      <th></th>\n",
       "      <th></th>\n",
       "      <th colspan=\"2\" halign=\"left\">tip_pct</th>\n",
       "      <th colspan=\"2\" halign=\"left\">total_bill</th>\n",
       "    </tr>\n",
       "    <tr>\n",
       "      <th></th>\n",
       "      <th></th>\n",
       "      <th>Durchschnitt</th>\n",
       "      <th>Abweichung</th>\n",
       "      <th>Durchschnitt</th>\n",
       "      <th>Abweichung</th>\n",
       "    </tr>\n",
       "    <tr>\n",
       "      <th>sex</th>\n",
       "      <th>smoker</th>\n",
       "      <th></th>\n",
       "      <th></th>\n",
       "      <th></th>\n",
       "      <th></th>\n",
       "    </tr>\n",
       "  </thead>\n",
       "  <tbody>\n",
       "    <tr>\n",
       "      <th rowspan=\"2\" valign=\"top\">Female</th>\n",
       "      <th>No</th>\n",
       "      <td> 0.156921</td>\n",
       "      <td> 0.001327</td>\n",
       "      <td> 18.105185</td>\n",
       "      <td> 53.092422</td>\n",
       "    </tr>\n",
       "    <tr>\n",
       "      <th>Yes</th>\n",
       "      <td> 0.182150</td>\n",
       "      <td> 0.005126</td>\n",
       "      <td> 17.977879</td>\n",
       "      <td> 84.451517</td>\n",
       "    </tr>\n",
       "    <tr>\n",
       "      <th rowspan=\"2\" valign=\"top\">Male</th>\n",
       "      <th>No</th>\n",
       "      <td> 0.160669</td>\n",
       "      <td> 0.001751</td>\n",
       "      <td> 19.791237</td>\n",
       "      <td> 76.152961</td>\n",
       "    </tr>\n",
       "    <tr>\n",
       "      <th>Yes</th>\n",
       "      <td> 0.152771</td>\n",
       "      <td> 0.008206</td>\n",
       "      <td> 22.284500</td>\n",
       "      <td> 98.244673</td>\n",
       "    </tr>\n",
       "  </tbody>\n",
       "</table>\n",
       "</div>"
      ],
      "text/plain": [
       "                    tip_pct                total_bill            \n",
       "               Durchschnitt  Abweichung  Durchschnitt  Abweichung\n",
       "sex    smoker                                                    \n",
       "Female No          0.156921    0.001327     18.105185   53.092422\n",
       "       Yes         0.182150    0.005126     17.977879   84.451517\n",
       "Male   No          0.160669    0.001751     19.791237   76.152961\n",
       "       Yes         0.152771    0.008206     22.284500   98.244673"
      ]
     },
     "execution_count": 71,
     "metadata": {},
     "output_type": "execute_result"
    }
   ],
   "source": [
    "grouped['tip_pct', 'total_bill'].agg(ftuples)"
   ]
  },
  {
   "cell_type": "markdown",
   "metadata": {},
   "source": [
    "칼럼마다 다른 함수를 적용하고 싶다면 agg 메서드에 칼럼 이름에 대응하는 함수가 들어있는 사전을 넘기면 된다."
   ]
  },
  {
   "cell_type": "code",
   "execution_count": 72,
   "metadata": {
    "collapsed": false
   },
   "outputs": [
    {
     "data": {
      "text/html": [
       "<div style=\"max-height:1000px;max-width:1500px;overflow:auto;\">\n",
       "<table border=\"1\" class=\"dataframe\">\n",
       "  <thead>\n",
       "    <tr style=\"text-align: right;\">\n",
       "      <th></th>\n",
       "      <th></th>\n",
       "      <th>tip</th>\n",
       "      <th>size</th>\n",
       "    </tr>\n",
       "    <tr>\n",
       "      <th>sex</th>\n",
       "      <th>smoker</th>\n",
       "      <th></th>\n",
       "      <th></th>\n",
       "    </tr>\n",
       "  </thead>\n",
       "  <tbody>\n",
       "    <tr>\n",
       "      <th rowspan=\"2\" valign=\"top\">Female</th>\n",
       "      <th>No</th>\n",
       "      <td>  5.2</td>\n",
       "      <td> 140</td>\n",
       "    </tr>\n",
       "    <tr>\n",
       "      <th>Yes</th>\n",
       "      <td>  6.5</td>\n",
       "      <td>  74</td>\n",
       "    </tr>\n",
       "    <tr>\n",
       "      <th rowspan=\"2\" valign=\"top\">Male</th>\n",
       "      <th>No</th>\n",
       "      <td>  9.0</td>\n",
       "      <td> 263</td>\n",
       "    </tr>\n",
       "    <tr>\n",
       "      <th>Yes</th>\n",
       "      <td> 10.0</td>\n",
       "      <td> 150</td>\n",
       "    </tr>\n",
       "  </tbody>\n",
       "</table>\n",
       "</div>"
      ],
      "text/plain": [
       "                tip  size\n",
       "sex    smoker            \n",
       "Female No       5.2   140\n",
       "       Yes      6.5    74\n",
       "Male   No       9.0   263\n",
       "       Yes     10.0   150"
      ]
     },
     "execution_count": 72,
     "metadata": {},
     "output_type": "execute_result"
    }
   ],
   "source": [
    "grouped.agg({'tip':np.max, 'size':'sum'})"
   ]
  },
  {
   "cell_type": "code",
   "execution_count": 73,
   "metadata": {
    "collapsed": false
   },
   "outputs": [
    {
     "data": {
      "text/html": [
       "<div style=\"max-height:1000px;max-width:1500px;overflow:auto;\">\n",
       "<table border=\"1\" class=\"dataframe\">\n",
       "  <thead>\n",
       "    <tr>\n",
       "      <th></th>\n",
       "      <th></th>\n",
       "      <th colspan=\"4\" halign=\"left\">tip_pct</th>\n",
       "      <th>size</th>\n",
       "    </tr>\n",
       "    <tr>\n",
       "      <th></th>\n",
       "      <th></th>\n",
       "      <th>min</th>\n",
       "      <th>max</th>\n",
       "      <th>mean</th>\n",
       "      <th>std</th>\n",
       "      <th>sum</th>\n",
       "    </tr>\n",
       "    <tr>\n",
       "      <th>sex</th>\n",
       "      <th>smoker</th>\n",
       "      <th></th>\n",
       "      <th></th>\n",
       "      <th></th>\n",
       "      <th></th>\n",
       "      <th></th>\n",
       "    </tr>\n",
       "  </thead>\n",
       "  <tbody>\n",
       "    <tr>\n",
       "      <th rowspan=\"2\" valign=\"top\">Female</th>\n",
       "      <th>No</th>\n",
       "      <td> 0.056797</td>\n",
       "      <td> 0.252672</td>\n",
       "      <td> 0.156921</td>\n",
       "      <td> 0.036421</td>\n",
       "      <td> 140</td>\n",
       "    </tr>\n",
       "    <tr>\n",
       "      <th>Yes</th>\n",
       "      <td> 0.056433</td>\n",
       "      <td> 0.416667</td>\n",
       "      <td> 0.182150</td>\n",
       "      <td> 0.071595</td>\n",
       "      <td>  74</td>\n",
       "    </tr>\n",
       "    <tr>\n",
       "      <th rowspan=\"2\" valign=\"top\">Male</th>\n",
       "      <th>No</th>\n",
       "      <td> 0.071804</td>\n",
       "      <td> 0.291990</td>\n",
       "      <td> 0.160669</td>\n",
       "      <td> 0.041849</td>\n",
       "      <td> 263</td>\n",
       "    </tr>\n",
       "    <tr>\n",
       "      <th>Yes</th>\n",
       "      <td> 0.035638</td>\n",
       "      <td> 0.710345</td>\n",
       "      <td> 0.152771</td>\n",
       "      <td> 0.090588</td>\n",
       "      <td> 150</td>\n",
       "    </tr>\n",
       "  </tbody>\n",
       "</table>\n",
       "</div>"
      ],
      "text/plain": [
       "                tip_pct                                size\n",
       "                    min       max      mean       std   sum\n",
       "sex    smoker                                              \n",
       "Female No      0.056797  0.252672  0.156921  0.036421   140\n",
       "       Yes     0.056433  0.416667  0.182150  0.071595    74\n",
       "Male   No      0.071804  0.291990  0.160669  0.041849   263\n",
       "       Yes     0.035638  0.710345  0.152771  0.090588   150"
      ]
     },
     "execution_count": 73,
     "metadata": {},
     "output_type": "execute_result"
    }
   ],
   "source": [
    "grouped.agg({'tip_pct':['min', 'max', 'mean', 'std'], 'size':'sum'})"
   ]
  },
  {
   "cell_type": "markdown",
   "metadata": {},
   "source": [
    "##9.2.2 색인되지 않은 형태로 집계된 데이터 반환하기\n",
    "지금까지 살펴본 모든 예제에서 집계된 데이터는 유일한 그룹키 조합으로 색인되어 반환되었다. 하지만 항상 이런 동작을 기대하는 것은 아니므로 groupby메서드에 as_index=False를 념겨서 색인되지 않도록 할수 있다."
   ]
  },
  {
   "cell_type": "code",
   "execution_count": 74,
   "metadata": {
    "collapsed": false
   },
   "outputs": [
    {
     "data": {
      "text/html": [
       "<div style=\"max-height:1000px;max-width:1500px;overflow:auto;\">\n",
       "<table border=\"1\" class=\"dataframe\">\n",
       "  <thead>\n",
       "    <tr style=\"text-align: right;\">\n",
       "      <th></th>\n",
       "      <th></th>\n",
       "      <th>total_bill</th>\n",
       "      <th>tip</th>\n",
       "      <th>size</th>\n",
       "      <th>tip_pct</th>\n",
       "    </tr>\n",
       "    <tr>\n",
       "      <th>sex</th>\n",
       "      <th>smoker</th>\n",
       "      <th></th>\n",
       "      <th></th>\n",
       "      <th></th>\n",
       "      <th></th>\n",
       "    </tr>\n",
       "  </thead>\n",
       "  <tbody>\n",
       "    <tr>\n",
       "      <th rowspan=\"2\" valign=\"top\">Female</th>\n",
       "      <th>No</th>\n",
       "      <td> 18.105185</td>\n",
       "      <td> 2.773519</td>\n",
       "      <td> 2.592593</td>\n",
       "      <td> 0.156921</td>\n",
       "    </tr>\n",
       "    <tr>\n",
       "      <th>Yes</th>\n",
       "      <td> 17.977879</td>\n",
       "      <td> 2.931515</td>\n",
       "      <td> 2.242424</td>\n",
       "      <td> 0.182150</td>\n",
       "    </tr>\n",
       "    <tr>\n",
       "      <th rowspan=\"2\" valign=\"top\">Male</th>\n",
       "      <th>No</th>\n",
       "      <td> 19.791237</td>\n",
       "      <td> 3.113402</td>\n",
       "      <td> 2.711340</td>\n",
       "      <td> 0.160669</td>\n",
       "    </tr>\n",
       "    <tr>\n",
       "      <th>Yes</th>\n",
       "      <td> 22.284500</td>\n",
       "      <td> 3.051167</td>\n",
       "      <td> 2.500000</td>\n",
       "      <td> 0.152771</td>\n",
       "    </tr>\n",
       "  </tbody>\n",
       "</table>\n",
       "</div>"
      ],
      "text/plain": [
       "               total_bill       tip      size   tip_pct\n",
       "sex    smoker                                          \n",
       "Female No       18.105185  2.773519  2.592593  0.156921\n",
       "       Yes      17.977879  2.931515  2.242424  0.182150\n",
       "Male   No       19.791237  3.113402  2.711340  0.160669\n",
       "       Yes      22.284500  3.051167  2.500000  0.152771"
      ]
     },
     "execution_count": 74,
     "metadata": {},
     "output_type": "execute_result"
    }
   ],
   "source": [
    "tips.groupby(['sex', 'smoker']).mean()"
   ]
  },
  {
   "cell_type": "code",
   "execution_count": 75,
   "metadata": {
    "collapsed": false
   },
   "outputs": [
    {
     "data": {
      "text/html": [
       "<div style=\"max-height:1000px;max-width:1500px;overflow:auto;\">\n",
       "<table border=\"1\" class=\"dataframe\">\n",
       "  <thead>\n",
       "    <tr style=\"text-align: right;\">\n",
       "      <th></th>\n",
       "      <th>sex</th>\n",
       "      <th>smoker</th>\n",
       "      <th>total_bill</th>\n",
       "      <th>tip</th>\n",
       "      <th>size</th>\n",
       "      <th>tip_pct</th>\n",
       "    </tr>\n",
       "  </thead>\n",
       "  <tbody>\n",
       "    <tr>\n",
       "      <th>0</th>\n",
       "      <td> Female</td>\n",
       "      <td>  No</td>\n",
       "      <td> 18.105185</td>\n",
       "      <td> 2.773519</td>\n",
       "      <td> 2.592593</td>\n",
       "      <td> 0.156921</td>\n",
       "    </tr>\n",
       "    <tr>\n",
       "      <th>1</th>\n",
       "      <td> Female</td>\n",
       "      <td> Yes</td>\n",
       "      <td> 17.977879</td>\n",
       "      <td> 2.931515</td>\n",
       "      <td> 2.242424</td>\n",
       "      <td> 0.182150</td>\n",
       "    </tr>\n",
       "    <tr>\n",
       "      <th>2</th>\n",
       "      <td>   Male</td>\n",
       "      <td>  No</td>\n",
       "      <td> 19.791237</td>\n",
       "      <td> 3.113402</td>\n",
       "      <td> 2.711340</td>\n",
       "      <td> 0.160669</td>\n",
       "    </tr>\n",
       "    <tr>\n",
       "      <th>3</th>\n",
       "      <td>   Male</td>\n",
       "      <td> Yes</td>\n",
       "      <td> 22.284500</td>\n",
       "      <td> 3.051167</td>\n",
       "      <td> 2.500000</td>\n",
       "      <td> 0.152771</td>\n",
       "    </tr>\n",
       "  </tbody>\n",
       "</table>\n",
       "</div>"
      ],
      "text/plain": [
       "      sex smoker  total_bill       tip      size   tip_pct\n",
       "0  Female     No   18.105185  2.773519  2.592593  0.156921\n",
       "1  Female    Yes   17.977879  2.931515  2.242424  0.182150\n",
       "2    Male     No   19.791237  3.113402  2.711340  0.160669\n",
       "3    Male    Yes   22.284500  3.051167  2.500000  0.152771"
      ]
     },
     "execution_count": 75,
     "metadata": {},
     "output_type": "execute_result"
    }
   ],
   "source": [
    "tips.groupby(['sex', 'smoker'], as_index=False).mean()"
   ]
  },
  {
   "cell_type": "markdown",
   "metadata": {},
   "source": [
    "reset_index 메서드를 호출해 같은 결과를 얻을수 있다."
   ]
  },
  {
   "cell_type": "code",
   "execution_count": 76,
   "metadata": {
    "collapsed": false
   },
   "outputs": [
    {
     "data": {
      "text/html": [
       "<div style=\"max-height:1000px;max-width:1500px;overflow:auto;\">\n",
       "<table border=\"1\" class=\"dataframe\">\n",
       "  <thead>\n",
       "    <tr style=\"text-align: right;\">\n",
       "      <th></th>\n",
       "      <th>sex</th>\n",
       "      <th>smoker</th>\n",
       "      <th>total_bill</th>\n",
       "      <th>tip</th>\n",
       "      <th>size</th>\n",
       "      <th>tip_pct</th>\n",
       "    </tr>\n",
       "  </thead>\n",
       "  <tbody>\n",
       "    <tr>\n",
       "      <th>0</th>\n",
       "      <td> Female</td>\n",
       "      <td>  No</td>\n",
       "      <td> 18.105185</td>\n",
       "      <td> 2.773519</td>\n",
       "      <td> 2.592593</td>\n",
       "      <td> 0.156921</td>\n",
       "    </tr>\n",
       "    <tr>\n",
       "      <th>1</th>\n",
       "      <td> Female</td>\n",
       "      <td> Yes</td>\n",
       "      <td> 17.977879</td>\n",
       "      <td> 2.931515</td>\n",
       "      <td> 2.242424</td>\n",
       "      <td> 0.182150</td>\n",
       "    </tr>\n",
       "    <tr>\n",
       "      <th>2</th>\n",
       "      <td>   Male</td>\n",
       "      <td>  No</td>\n",
       "      <td> 19.791237</td>\n",
       "      <td> 3.113402</td>\n",
       "      <td> 2.711340</td>\n",
       "      <td> 0.160669</td>\n",
       "    </tr>\n",
       "    <tr>\n",
       "      <th>3</th>\n",
       "      <td>   Male</td>\n",
       "      <td> Yes</td>\n",
       "      <td> 22.284500</td>\n",
       "      <td> 3.051167</td>\n",
       "      <td> 2.500000</td>\n",
       "      <td> 0.152771</td>\n",
       "    </tr>\n",
       "  </tbody>\n",
       "</table>\n",
       "</div>"
      ],
      "text/plain": [
       "      sex smoker  total_bill       tip      size   tip_pct\n",
       "0  Female     No   18.105185  2.773519  2.592593  0.156921\n",
       "1  Female    Yes   17.977879  2.931515  2.242424  0.182150\n",
       "2    Male     No   19.791237  3.113402  2.711340  0.160669\n",
       "3    Male    Yes   22.284500  3.051167  2.500000  0.152771"
      ]
     },
     "execution_count": 76,
     "metadata": {},
     "output_type": "execute_result"
    }
   ],
   "source": [
    "tips.groupby(['sex', 'smoker']).mean().reset_index()"
   ]
  },
  {
   "cell_type": "markdown",
   "metadata": {},
   "source": [
    "#9.3 그룹별 연산과 변형\n",
    "다양한 그룹 연산을 수행할 수 있는 transform과 apply 메서드에 대해서 알아보도록 하자."
   ]
  },
  {
   "cell_type": "code",
   "execution_count": 77,
   "metadata": {
    "collapsed": false
   },
   "outputs": [
    {
     "data": {
      "text/html": [
       "<div style=\"max-height:1000px;max-width:1500px;overflow:auto;\">\n",
       "<table border=\"1\" class=\"dataframe\">\n",
       "  <thead>\n",
       "    <tr style=\"text-align: right;\">\n",
       "      <th></th>\n",
       "      <th>data1</th>\n",
       "      <th>data2</th>\n",
       "      <th>key1</th>\n",
       "      <th>key2</th>\n",
       "    </tr>\n",
       "  </thead>\n",
       "  <tbody>\n",
       "    <tr>\n",
       "      <th>0</th>\n",
       "      <td>-1.140920</td>\n",
       "      <td>-1.507435</td>\n",
       "      <td> a</td>\n",
       "      <td> one</td>\n",
       "    </tr>\n",
       "    <tr>\n",
       "      <th>1</th>\n",
       "      <td>-0.609759</td>\n",
       "      <td> 1.523876</td>\n",
       "      <td> a</td>\n",
       "      <td> two</td>\n",
       "    </tr>\n",
       "    <tr>\n",
       "      <th>2</th>\n",
       "      <td>-1.513366</td>\n",
       "      <td> 0.716890</td>\n",
       "      <td> b</td>\n",
       "      <td> one</td>\n",
       "    </tr>\n",
       "    <tr>\n",
       "      <th>3</th>\n",
       "      <td> 0.688068</td>\n",
       "      <td>-0.097003</td>\n",
       "      <td> b</td>\n",
       "      <td> two</td>\n",
       "    </tr>\n",
       "    <tr>\n",
       "      <th>4</th>\n",
       "      <td>-0.538877</td>\n",
       "      <td>-0.164868</td>\n",
       "      <td> a</td>\n",
       "      <td> one</td>\n",
       "    </tr>\n",
       "  </tbody>\n",
       "</table>\n",
       "</div>"
      ],
      "text/plain": [
       "      data1     data2 key1 key2\n",
       "0 -1.140920 -1.507435    a  one\n",
       "1 -0.609759  1.523876    a  two\n",
       "2 -1.513366  0.716890    b  one\n",
       "3  0.688068 -0.097003    b  two\n",
       "4 -0.538877 -0.164868    a  one"
      ]
     },
     "execution_count": 77,
     "metadata": {},
     "output_type": "execute_result"
    }
   ],
   "source": [
    "df"
   ]
  },
  {
   "cell_type": "code",
   "execution_count": 78,
   "metadata": {
    "collapsed": true
   },
   "outputs": [],
   "source": [
    "k1_means = df.groupby('key1').mean().add_prefix('mean_')"
   ]
  },
  {
   "cell_type": "code",
   "execution_count": 79,
   "metadata": {
    "collapsed": false
   },
   "outputs": [
    {
     "data": {
      "text/html": [
       "<div style=\"max-height:1000px;max-width:1500px;overflow:auto;\">\n",
       "<table border=\"1\" class=\"dataframe\">\n",
       "  <thead>\n",
       "    <tr style=\"text-align: right;\">\n",
       "      <th></th>\n",
       "      <th>mean_data1</th>\n",
       "      <th>mean_data2</th>\n",
       "    </tr>\n",
       "    <tr>\n",
       "      <th>key1</th>\n",
       "      <th></th>\n",
       "      <th></th>\n",
       "    </tr>\n",
       "  </thead>\n",
       "  <tbody>\n",
       "    <tr>\n",
       "      <th>a</th>\n",
       "      <td>-0.763185</td>\n",
       "      <td>-0.049476</td>\n",
       "    </tr>\n",
       "    <tr>\n",
       "      <th>b</th>\n",
       "      <td>-0.412649</td>\n",
       "      <td> 0.309943</td>\n",
       "    </tr>\n",
       "  </tbody>\n",
       "</table>\n",
       "</div>"
      ],
      "text/plain": [
       "      mean_data1  mean_data2\n",
       "key1                        \n",
       "a      -0.763185   -0.049476\n",
       "b      -0.412649    0.309943"
      ]
     },
     "execution_count": 79,
     "metadata": {},
     "output_type": "execute_result"
    }
   ],
   "source": [
    "k1_means"
   ]
  },
  {
   "cell_type": "code",
   "execution_count": 80,
   "metadata": {
    "collapsed": false
   },
   "outputs": [
    {
     "name": "stdout",
     "output_type": "stream",
     "text": [
      "Help on function merge in module pandas.tools.merge:\n",
      "\n",
      "merge(left, right, how='inner', on=None, left_on=None, right_on=None, left_index=False, right_index=False, sort=False, suffixes=('_x', '_y'), copy=True)\n",
      "    Merge DataFrame objects by performing a database-style join operation by\n",
      "    columns or indexes.\n",
      "    \n",
      "    If joining columns on columns, the DataFrame indexes *will be\n",
      "    ignored*. Otherwise if joining indexes on indexes or indexes on a column or\n",
      "    columns, the index will be passed on.\n",
      "    \n",
      "    Parameters\n",
      "    ----------\n",
      "    left : DataFrame\n",
      "    right : DataFrame\n",
      "    how : {'left', 'right', 'outer', 'inner'}, default 'inner'\n",
      "        * left: use only keys from left frame (SQL: left outer join)\n",
      "        * right: use only keys from right frame (SQL: right outer join)\n",
      "        * outer: use union of keys from both frames (SQL: full outer join)\n",
      "        * inner: use intersection of keys from both frames (SQL: inner join)\n",
      "    on : label or list\n",
      "        Field names to join on. Must be found in both DataFrames. If on is\n",
      "        None and not merging on indexes, then it merges on the intersection of\n",
      "        the columns by default.\n",
      "    left_on : label or list, or array-like\n",
      "        Field names to join on in left DataFrame. Can be a vector or list of\n",
      "        vectors of the length of the DataFrame to use a particular vector as\n",
      "        the join key instead of columns\n",
      "    right_on : label or list, or array-like\n",
      "        Field names to join on in right DataFrame or vector/list of vectors per\n",
      "        left_on docs\n",
      "    left_index : boolean, default False\n",
      "        Use the index from the left DataFrame as the join key(s). If it is a\n",
      "        MultiIndex, the number of keys in the other DataFrame (either the index\n",
      "        or a number of columns) must match the number of levels\n",
      "    right_index : boolean, default False\n",
      "        Use the index from the right DataFrame as the join key. Same caveats as\n",
      "        left_index\n",
      "    sort : boolean, default False\n",
      "        Sort the join keys lexicographically in the result DataFrame\n",
      "    suffixes : 2-length sequence (tuple, list, ...)\n",
      "        Suffix to apply to overlapping column names in the left and right\n",
      "        side, respectively\n",
      "    copy : boolean, default True\n",
      "        If False, do not copy data unnecessarily\n",
      "    \n",
      "    Examples\n",
      "    --------\n",
      "    \n",
      "    >>> A              >>> B\n",
      "        lkey value         rkey value\n",
      "    0   foo  1         0   foo  5\n",
      "    1   bar  2         1   bar  6\n",
      "    2   baz  3         2   qux  7\n",
      "    3   foo  4         3   bar  8\n",
      "    \n",
      "    >>> merge(A, B, left_on='lkey', right_on='rkey', how='outer')\n",
      "       lkey  value_x  rkey  value_y\n",
      "    0  foo   1        foo   5\n",
      "    1  foo   4        foo   5\n",
      "    2  bar   2        bar   6\n",
      "    3  bar   2        bar   8\n",
      "    4  baz   3        NaN   NaN\n",
      "    5  NaN   NaN      qux   7\n",
      "    \n",
      "    Returns\n",
      "    -------\n",
      "    merged : DataFrame\n",
      "\n"
     ]
    }
   ],
   "source": [
    "help(pd.merge) #데이터베이스 스타일이 열 또는 인덱스에 의해 결합 작업을 수행하여 데이터 프레임 개체를 병합합니다."
   ]
  },
  {
   "cell_type": "code",
   "execution_count": 85,
   "metadata": {
    "collapsed": false
   },
   "outputs": [
    {
     "data": {
      "text/html": [
       "<div style=\"max-height:1000px;max-width:1500px;overflow:auto;\">\n",
       "<table border=\"1\" class=\"dataframe\">\n",
       "  <thead>\n",
       "    <tr style=\"text-align: right;\">\n",
       "      <th></th>\n",
       "      <th>data1</th>\n",
       "      <th>data2</th>\n",
       "      <th>key1</th>\n",
       "      <th>key2</th>\n",
       "      <th>mean_data1</th>\n",
       "      <th>mean_data2</th>\n",
       "    </tr>\n",
       "  </thead>\n",
       "  <tbody>\n",
       "    <tr>\n",
       "      <th>0</th>\n",
       "      <td>-1.140920</td>\n",
       "      <td>-1.507435</td>\n",
       "      <td> a</td>\n",
       "      <td> one</td>\n",
       "      <td>-0.763185</td>\n",
       "      <td>-0.049476</td>\n",
       "    </tr>\n",
       "    <tr>\n",
       "      <th>1</th>\n",
       "      <td>-0.609759</td>\n",
       "      <td> 1.523876</td>\n",
       "      <td> a</td>\n",
       "      <td> two</td>\n",
       "      <td>-0.763185</td>\n",
       "      <td>-0.049476</td>\n",
       "    </tr>\n",
       "    <tr>\n",
       "      <th>4</th>\n",
       "      <td>-0.538877</td>\n",
       "      <td>-0.164868</td>\n",
       "      <td> a</td>\n",
       "      <td> one</td>\n",
       "      <td>-0.763185</td>\n",
       "      <td>-0.049476</td>\n",
       "    </tr>\n",
       "    <tr>\n",
       "      <th>2</th>\n",
       "      <td>-1.513366</td>\n",
       "      <td> 0.716890</td>\n",
       "      <td> b</td>\n",
       "      <td> one</td>\n",
       "      <td>-0.412649</td>\n",
       "      <td> 0.309943</td>\n",
       "    </tr>\n",
       "    <tr>\n",
       "      <th>3</th>\n",
       "      <td> 0.688068</td>\n",
       "      <td>-0.097003</td>\n",
       "      <td> b</td>\n",
       "      <td> two</td>\n",
       "      <td>-0.412649</td>\n",
       "      <td> 0.309943</td>\n",
       "    </tr>\n",
       "  </tbody>\n",
       "</table>\n",
       "</div>"
      ],
      "text/plain": [
       "      data1     data2 key1 key2  mean_data1  mean_data2\n",
       "0 -1.140920 -1.507435    a  one   -0.763185   -0.049476\n",
       "1 -0.609759  1.523876    a  two   -0.763185   -0.049476\n",
       "4 -0.538877 -0.164868    a  one   -0.763185   -0.049476\n",
       "2 -1.513366  0.716890    b  one   -0.412649    0.309943\n",
       "3  0.688068 -0.097003    b  two   -0.412649    0.309943"
      ]
     },
     "execution_count": 85,
     "metadata": {},
     "output_type": "execute_result"
    }
   ],
   "source": [
    "pd.merge(df, k1_means, left_on='key1', right_index=True)"
   ]
  },
  {
   "cell_type": "markdown",
   "metadata": {},
   "source": [
    "원하는 대로 동작하긴 하지만 뭔가 매끄럽지 못하다. 두 데이터의 칼럼을 np.mean함수를 사용해서 변형하는 작업이라고 생각할 수 있다."
   ]
  },
  {
   "cell_type": "code",
   "execution_count": 86,
   "metadata": {
    "collapsed": false
   },
   "outputs": [
    {
     "data": {
      "text/html": [
       "<div style=\"max-height:1000px;max-width:1500px;overflow:auto;\">\n",
       "<table border=\"1\" class=\"dataframe\">\n",
       "  <thead>\n",
       "    <tr style=\"text-align: right;\">\n",
       "      <th></th>\n",
       "      <th>data1</th>\n",
       "      <th>data2</th>\n",
       "    </tr>\n",
       "    <tr>\n",
       "      <th>key1</th>\n",
       "      <th></th>\n",
       "      <th></th>\n",
       "    </tr>\n",
       "  </thead>\n",
       "  <tbody>\n",
       "    <tr>\n",
       "      <th>a</th>\n",
       "      <td>-0.763185</td>\n",
       "      <td>-0.049476</td>\n",
       "    </tr>\n",
       "    <tr>\n",
       "      <th>b</th>\n",
       "      <td>-0.412649</td>\n",
       "      <td> 0.309943</td>\n",
       "    </tr>\n",
       "  </tbody>\n",
       "</table>\n",
       "</div>"
      ],
      "text/plain": [
       "         data1     data2\n",
       "key1                    \n",
       "a    -0.763185 -0.049476\n",
       "b    -0.412649  0.309943"
      ]
     },
     "execution_count": 86,
     "metadata": {},
     "output_type": "execute_result"
    }
   ],
   "source": [
    "df.groupby('key1').mean()"
   ]
  },
  {
   "cell_type": "code",
   "execution_count": 87,
   "metadata": {
    "collapsed": false,
    "scrolled": true
   },
   "outputs": [
    {
     "data": {
      "text/html": [
       "<div style=\"max-height:1000px;max-width:1500px;overflow:auto;\">\n",
       "<table border=\"1\" class=\"dataframe\">\n",
       "  <thead>\n",
       "    <tr style=\"text-align: right;\">\n",
       "      <th></th>\n",
       "      <th>data1</th>\n",
       "      <th>data2</th>\n",
       "    </tr>\n",
       "  </thead>\n",
       "  <tbody>\n",
       "    <tr>\n",
       "      <th>0</th>\n",
       "      <td>-0.763185</td>\n",
       "      <td>-0.049476</td>\n",
       "    </tr>\n",
       "    <tr>\n",
       "      <th>1</th>\n",
       "      <td>-0.763185</td>\n",
       "      <td>-0.049476</td>\n",
       "    </tr>\n",
       "    <tr>\n",
       "      <th>2</th>\n",
       "      <td>-0.412649</td>\n",
       "      <td> 0.309943</td>\n",
       "    </tr>\n",
       "    <tr>\n",
       "      <th>3</th>\n",
       "      <td>-0.412649</td>\n",
       "      <td> 0.309943</td>\n",
       "    </tr>\n",
       "    <tr>\n",
       "      <th>4</th>\n",
       "      <td>-0.763185</td>\n",
       "      <td>-0.049476</td>\n",
       "    </tr>\n",
       "  </tbody>\n",
       "</table>\n",
       "</div>"
      ],
      "text/plain": [
       "      data1     data2\n",
       "0 -0.763185 -0.049476\n",
       "1 -0.763185 -0.049476\n",
       "2 -0.412649  0.309943\n",
       "3 -0.412649  0.309943\n",
       "4 -0.763185 -0.049476"
      ]
     },
     "execution_count": 87,
     "metadata": {},
     "output_type": "execute_result"
    }
   ],
   "source": [
    "df.groupby('key1').transform(np.mean)"
   ]
  },
  {
   "cell_type": "markdown",
   "metadata": {},
   "source": [
    "앞부분에서 살펴봤던 people DataFrame을 떠올려보자. 그리고 groupBy객체에 대해 transform메서드를 호출해보자"
   ]
  },
  {
   "cell_type": "code",
   "execution_count": 104,
   "metadata": {
    "collapsed": false
   },
   "outputs": [
    {
     "name": "stdout",
     "output_type": "stream",
     "text": [
      "Help on method transform in module pandas.core.groupby:\n",
      "\n",
      "transform(self, func, *args, **kwargs) method of pandas.core.groupby.DataFrameGroupBy instance\n",
      "    Call function producing a like-indexed DataFrame on each group and\n",
      "    return a DataFrame having the same indexes as the original object\n",
      "    filled with the transformed values\n",
      "    \n",
      "    Parameters\n",
      "    ----------\n",
      "    f : function\n",
      "        Function to apply to each subframe\n",
      "    \n",
      "    Notes\n",
      "    -----\n",
      "    Each subframe is endowed the attribute 'name' in case you need to know\n",
      "    which group you are working on.\n",
      "    \n",
      "    Examples\n",
      "    --------\n",
      "    >>> grouped = df.groupby(lambda x: mapping[x])\n",
      "    >>> grouped.transform(lambda x: (x - x.mean()) / x.std())\n",
      "\n"
     ]
    }
   ],
   "source": [
    "help(df.groupby('key1').transform)\n",
    "# 각 그룹의 같은 인덱스 데이터 프레임을 생성하고 변환 된 값으로 채워진 원본과 같은 인덱스를 가지는 데이터 프레임을 반환합니다"
   ]
  },
  {
   "cell_type": "code",
   "execution_count": 127,
   "metadata": {
    "collapsed": false
   },
   "outputs": [
    {
     "data": {
      "text/html": [
       "<div style=\"max-height:1000px;max-width:1500px;overflow:auto;\">\n",
       "<table border=\"1\" class=\"dataframe\">\n",
       "  <thead>\n",
       "    <tr style=\"text-align: right;\">\n",
       "      <th></th>\n",
       "      <th>a</th>\n",
       "      <th>b</th>\n",
       "      <th>c</th>\n",
       "      <th>d</th>\n",
       "      <th>e</th>\n",
       "    </tr>\n",
       "  </thead>\n",
       "  <tbody>\n",
       "    <tr>\n",
       "      <th>Joe</th>\n",
       "      <td>-0.755395</td>\n",
       "      <td>-1.440310</td>\n",
       "      <td>-1.455435</td>\n",
       "      <td> 0.353489</td>\n",
       "      <td>-0.472265</td>\n",
       "    </tr>\n",
       "    <tr>\n",
       "      <th>Steve</th>\n",
       "      <td> 0.633246</td>\n",
       "      <td>-1.856209</td>\n",
       "      <td>-0.541853</td>\n",
       "      <td> 0.585649</td>\n",
       "      <td>-0.215505</td>\n",
       "    </tr>\n",
       "    <tr>\n",
       "      <th>Wes</th>\n",
       "      <td> 1.443545</td>\n",
       "      <td>-1.707569</td>\n",
       "      <td>-0.148126</td>\n",
       "      <td>-0.366871</td>\n",
       "      <td>-0.142898</td>\n",
       "    </tr>\n",
       "    <tr>\n",
       "      <th>Jim</th>\n",
       "      <td>-0.046594</td>\n",
       "      <td> 1.468637</td>\n",
       "      <td> 0.687312</td>\n",
       "      <td> 0.699155</td>\n",
       "      <td>-0.296441</td>\n",
       "    </tr>\n",
       "    <tr>\n",
       "      <th>Trevis</th>\n",
       "      <td>-0.505695</td>\n",
       "      <td>-0.440826</td>\n",
       "      <td>-0.505743</td>\n",
       "      <td> 1.105472</td>\n",
       "      <td>-1.057563</td>\n",
       "    </tr>\n",
       "  </tbody>\n",
       "</table>\n",
       "</div>"
      ],
      "text/plain": [
       "               a         b         c         d         e\n",
       "Joe    -0.755395 -1.440310 -1.455435  0.353489 -0.472265\n",
       "Steve   0.633246 -1.856209 -0.541853  0.585649 -0.215505\n",
       "Wes     1.443545 -1.707569 -0.148126 -0.366871 -0.142898\n",
       "Jim    -0.046594  1.468637  0.687312  0.699155 -0.296441\n",
       "Trevis -0.505695 -0.440826 -0.505743  1.105472 -1.057563"
      ]
     },
     "execution_count": 127,
     "metadata": {},
     "output_type": "execute_result"
    }
   ],
   "source": [
    "people"
   ]
  },
  {
   "cell_type": "code",
   "execution_count": 147,
   "metadata": {
    "collapsed": false
   },
   "outputs": [],
   "source": [
    "key = ['one', 'two', 'one', 'two', 'one']"
   ]
  },
  {
   "cell_type": "code",
   "execution_count": 148,
   "metadata": {
    "collapsed": false
   },
   "outputs": [
    {
     "data": {
      "text/html": [
       "<div style=\"max-height:1000px;max-width:1500px;overflow:auto;\">\n",
       "<table border=\"1\" class=\"dataframe\">\n",
       "  <thead>\n",
       "    <tr style=\"text-align: right;\">\n",
       "      <th></th>\n",
       "      <th>a</th>\n",
       "      <th>b</th>\n",
       "      <th>c</th>\n",
       "      <th>d</th>\n",
       "      <th>e</th>\n",
       "    </tr>\n",
       "  </thead>\n",
       "  <tbody>\n",
       "    <tr>\n",
       "      <th>one</th>\n",
       "      <td> 0.060818</td>\n",
       "      <td>-1.196235</td>\n",
       "      <td>-0.703102</td>\n",
       "      <td> 0.364030</td>\n",
       "      <td>-0.557575</td>\n",
       "    </tr>\n",
       "    <tr>\n",
       "      <th>two</th>\n",
       "      <td> 0.293326</td>\n",
       "      <td>-0.193786</td>\n",
       "      <td> 0.072729</td>\n",
       "      <td> 0.642402</td>\n",
       "      <td>-0.255973</td>\n",
       "    </tr>\n",
       "  </tbody>\n",
       "</table>\n",
       "</div>"
      ],
      "text/plain": [
       "            a         b         c         d         e\n",
       "one  0.060818 -1.196235 -0.703102  0.364030 -0.557575\n",
       "two  0.293326 -0.193786  0.072729  0.642402 -0.255973"
      ]
     },
     "execution_count": 148,
     "metadata": {},
     "output_type": "execute_result"
    }
   ],
   "source": [
    "people.groupby(key).mean()"
   ]
  },
  {
   "cell_type": "code",
   "execution_count": 149,
   "metadata": {
    "collapsed": false
   },
   "outputs": [
    {
     "data": {
      "text/html": [
       "<div style=\"max-height:1000px;max-width:1500px;overflow:auto;\">\n",
       "<table border=\"1\" class=\"dataframe\">\n",
       "  <thead>\n",
       "    <tr style=\"text-align: right;\">\n",
       "      <th></th>\n",
       "      <th>a</th>\n",
       "      <th>b</th>\n",
       "      <th>c</th>\n",
       "      <th>d</th>\n",
       "      <th>e</th>\n",
       "    </tr>\n",
       "  </thead>\n",
       "  <tbody>\n",
       "    <tr>\n",
       "      <th>Jim</th>\n",
       "      <td>      NaN</td>\n",
       "      <td>      NaN</td>\n",
       "      <td>      NaN</td>\n",
       "      <td>      NaN</td>\n",
       "      <td>      NaN</td>\n",
       "    </tr>\n",
       "    <tr>\n",
       "      <th>Joe</th>\n",
       "      <td>      NaN</td>\n",
       "      <td>      NaN</td>\n",
       "      <td>      NaN</td>\n",
       "      <td>      NaN</td>\n",
       "      <td>      NaN</td>\n",
       "    </tr>\n",
       "    <tr>\n",
       "      <th>Steve</th>\n",
       "      <td>      NaN</td>\n",
       "      <td>      NaN</td>\n",
       "      <td>      NaN</td>\n",
       "      <td>      NaN</td>\n",
       "      <td>      NaN</td>\n",
       "    </tr>\n",
       "    <tr>\n",
       "      <th>Trevis</th>\n",
       "      <td>      NaN</td>\n",
       "      <td>      NaN</td>\n",
       "      <td>      NaN</td>\n",
       "      <td>      NaN</td>\n",
       "      <td>      NaN</td>\n",
       "    </tr>\n",
       "    <tr>\n",
       "      <th>Wes</th>\n",
       "      <td>      NaN</td>\n",
       "      <td>      NaN</td>\n",
       "      <td>      NaN</td>\n",
       "      <td>      NaN</td>\n",
       "      <td>      NaN</td>\n",
       "    </tr>\n",
       "    <tr>\n",
       "      <th>one</th>\n",
       "      <td> 0.060818</td>\n",
       "      <td>-1.196235</td>\n",
       "      <td>-0.703102</td>\n",
       "      <td> 0.364030</td>\n",
       "      <td>-0.557575</td>\n",
       "    </tr>\n",
       "    <tr>\n",
       "      <th>two</th>\n",
       "      <td> 0.293326</td>\n",
       "      <td>-0.193786</td>\n",
       "      <td> 0.072729</td>\n",
       "      <td> 0.642402</td>\n",
       "      <td>-0.255973</td>\n",
       "    </tr>\n",
       "  </tbody>\n",
       "</table>\n",
       "</div>"
      ],
      "text/plain": [
       "               a         b         c         d         e\n",
       "Jim          NaN       NaN       NaN       NaN       NaN\n",
       "Joe          NaN       NaN       NaN       NaN       NaN\n",
       "Steve        NaN       NaN       NaN       NaN       NaN\n",
       "Trevis       NaN       NaN       NaN       NaN       NaN\n",
       "Wes          NaN       NaN       NaN       NaN       NaN\n",
       "one     0.060818 -1.196235 -0.703102  0.364030 -0.557575\n",
       "two     0.293326 -0.193786  0.072729  0.642402 -0.255973"
      ]
     },
     "execution_count": 149,
     "metadata": {},
     "output_type": "execute_result"
    }
   ],
   "source": [
    "people.groupby(key).transform(np.mean)"
   ]
  },
  {
   "cell_type": "markdown",
   "metadata": {},
   "source": [
    "책에는 잘 들어가 있는데..제대로 실행이 안됀거 같습니다. 왜 그런지 다같이 한번 생각해보면 좋을거 같아요 ㅎㅎㅎ;;;"
   ]
  },
  {
   "cell_type": "code",
   "execution_count": 150,
   "metadata": {
    "collapsed": false
   },
   "outputs": [
    {
     "name": "stdout",
     "output_type": "stream",
     "text": [
      "one\n",
      "               a         b         c         d         e\n",
      "Joe    -0.755395 -1.440310 -1.455435  0.353489 -0.472265\n",
      "Wes     1.443545 -1.707569 -0.148126 -0.366871 -0.142898\n",
      "Trevis -0.505695 -0.440826 -0.505743  1.105472 -1.057563\n",
      "two\n",
      "              a         b         c         d         e\n",
      "Steve  0.633246 -1.856209 -0.541853  0.585649 -0.215505\n",
      "Jim   -0.046594  1.468637  0.687312  0.699155 -0.296441\n"
     ]
    }
   ],
   "source": [
    "for name, group in people.groupby(key):\n",
    "    print name\n",
    "    print group"
   ]
  },
  {
   "cell_type": "code",
   "execution_count": 151,
   "metadata": {
    "collapsed": true
   },
   "outputs": [],
   "source": [
    "def demean(arr):\n",
    "    return arr - arr.mean()"
   ]
  },
  {
   "cell_type": "code",
   "execution_count": 152,
   "metadata": {
    "collapsed": true
   },
   "outputs": [],
   "source": [
    "demeaned = people.groupby(key).transform(demean)"
   ]
  },
  {
   "cell_type": "code",
   "execution_count": 153,
   "metadata": {
    "collapsed": false
   },
   "outputs": [
    {
     "data": {
      "text/html": [
       "<div style=\"max-height:1000px;max-width:1500px;overflow:auto;\">\n",
       "<table border=\"1\" class=\"dataframe\">\n",
       "  <thead>\n",
       "    <tr style=\"text-align: right;\">\n",
       "      <th></th>\n",
       "      <th>a</th>\n",
       "      <th>b</th>\n",
       "      <th>c</th>\n",
       "      <th>d</th>\n",
       "      <th>e</th>\n",
       "    </tr>\n",
       "  </thead>\n",
       "  <tbody>\n",
       "    <tr>\n",
       "      <th>Jim</th>\n",
       "      <td>-0.339920</td>\n",
       "      <td> 1.662423</td>\n",
       "      <td> 0.614582</td>\n",
       "      <td> 0.056753</td>\n",
       "      <td>-0.040468</td>\n",
       "    </tr>\n",
       "    <tr>\n",
       "      <th>Joe</th>\n",
       "      <td>-0.816213</td>\n",
       "      <td>-0.244075</td>\n",
       "      <td>-0.752334</td>\n",
       "      <td>-0.010541</td>\n",
       "      <td> 0.085311</td>\n",
       "    </tr>\n",
       "    <tr>\n",
       "      <th>Steve</th>\n",
       "      <td> 0.339920</td>\n",
       "      <td>-1.662423</td>\n",
       "      <td>-0.614582</td>\n",
       "      <td>-0.056753</td>\n",
       "      <td> 0.040468</td>\n",
       "    </tr>\n",
       "    <tr>\n",
       "      <th>Trevis</th>\n",
       "      <td>-0.566514</td>\n",
       "      <td> 0.755409</td>\n",
       "      <td> 0.197359</td>\n",
       "      <td> 0.741442</td>\n",
       "      <td>-0.499988</td>\n",
       "    </tr>\n",
       "    <tr>\n",
       "      <th>Wes</th>\n",
       "      <td> 1.382727</td>\n",
       "      <td>-0.511334</td>\n",
       "      <td> 0.554975</td>\n",
       "      <td>-0.730901</td>\n",
       "      <td> 0.414678</td>\n",
       "    </tr>\n",
       "  </tbody>\n",
       "</table>\n",
       "</div>"
      ],
      "text/plain": [
       "               a         b         c         d         e\n",
       "Jim    -0.339920  1.662423  0.614582  0.056753 -0.040468\n",
       "Joe    -0.816213 -0.244075 -0.752334 -0.010541  0.085311\n",
       "Steve   0.339920 -1.662423 -0.614582 -0.056753  0.040468\n",
       "Trevis -0.566514  0.755409  0.197359  0.741442 -0.499988\n",
       "Wes     1.382727 -0.511334  0.554975 -0.730901  0.414678"
      ]
     },
     "execution_count": 153,
     "metadata": {},
     "output_type": "execute_result"
    }
   ],
   "source": [
    "demeaned"
   ]
  },
  {
   "cell_type": "code",
   "execution_count": 155,
   "metadata": {
    "collapsed": false
   },
   "outputs": [
    {
     "data": {
      "text/html": [
       "<div style=\"max-height:1000px;max-width:1500px;overflow:auto;\">\n",
       "<table border=\"1\" class=\"dataframe\">\n",
       "  <thead>\n",
       "    <tr style=\"text-align: right;\">\n",
       "      <th></th>\n",
       "      <th>a</th>\n",
       "      <th>b</th>\n",
       "      <th>c</th>\n",
       "      <th>d</th>\n",
       "      <th>e</th>\n",
       "    </tr>\n",
       "  </thead>\n",
       "  <tbody>\n",
       "    <tr>\n",
       "      <th>one</th>\n",
       "      <td> 0.460909</td>\n",
       "      <td>-0.170445</td>\n",
       "      <td> 0.184992</td>\n",
       "      <td>-0.243634</td>\n",
       "      <td> 0.138226</td>\n",
       "    </tr>\n",
       "    <tr>\n",
       "      <th>two</th>\n",
       "      <td>-0.691363</td>\n",
       "      <td> 0.255667</td>\n",
       "      <td>-0.277488</td>\n",
       "      <td> 0.365450</td>\n",
       "      <td>-0.207339</td>\n",
       "    </tr>\n",
       "  </tbody>\n",
       "</table>\n",
       "</div>"
      ],
      "text/plain": [
       "            a         b         c         d         e\n",
       "one  0.460909 -0.170445  0.184992 -0.243634  0.138226\n",
       "two -0.691363  0.255667 -0.277488  0.365450 -0.207339"
      ]
     },
     "execution_count": 155,
     "metadata": {},
     "output_type": "execute_result"
    }
   ],
   "source": [
    "demeaned.groupby(key).mean()"
   ]
  },
  {
   "cell_type": "markdown",
   "metadata": {},
   "source": [
    "이것 역시 다른결과가 출력이 되는군요."
   ]
  },
  {
   "cell_type": "markdown",
   "metadata": {},
   "source": [
    "##9.3.1 apply: 분리-적용-병합\n",
    "transform은 엄격한 요구사항을 갖는 특수한 목적의 함수다. 인자로 넘긴 함수는 반드시 스칼라 값을 생성해야 하며 혹은 같은 크기를 가지는 변형된 배열을 생성해야 한다. 가장 일반적인 groupby 메서드의 목적은 apply인데, 이는 지금부터 다룰 내용이다.\n",
    "\n",
    "앞에서 살펴보았던 팁 데이터에서 그룹별 상위 5개의 tip_pct 값을 골라보자. 우선 특정 갈럼에서 가장 큰 값을 가지는 로우를 선택하는 함수를 바로 작성해보자."
   ]
  },
  {
   "cell_type": "code",
   "execution_count": 156,
   "metadata": {
    "collapsed": false
   },
   "outputs": [
    {
     "data": {
      "text/html": [
       "<div style=\"max-height:1000px;max-width:1500px;overflow:auto;\">\n",
       "<table border=\"1\" class=\"dataframe\">\n",
       "  <thead>\n",
       "    <tr style=\"text-align: right;\">\n",
       "      <th></th>\n",
       "      <th>total_bill</th>\n",
       "      <th>tip</th>\n",
       "      <th>sex</th>\n",
       "      <th>smoker</th>\n",
       "      <th>day</th>\n",
       "      <th>time</th>\n",
       "      <th>size</th>\n",
       "      <th>tip_pct</th>\n",
       "    </tr>\n",
       "  </thead>\n",
       "  <tbody>\n",
       "    <tr>\n",
       "      <th>109</th>\n",
       "      <td> 14.31</td>\n",
       "      <td> 4.00</td>\n",
       "      <td> Female</td>\n",
       "      <td> Yes</td>\n",
       "      <td> Sat</td>\n",
       "      <td> Dinner</td>\n",
       "      <td> 2</td>\n",
       "      <td> 0.279525</td>\n",
       "    </tr>\n",
       "    <tr>\n",
       "      <th>183</th>\n",
       "      <td> 23.17</td>\n",
       "      <td> 6.50</td>\n",
       "      <td>   Male</td>\n",
       "      <td> Yes</td>\n",
       "      <td> Sun</td>\n",
       "      <td> Dinner</td>\n",
       "      <td> 4</td>\n",
       "      <td> 0.280535</td>\n",
       "    </tr>\n",
       "    <tr>\n",
       "      <th>232</th>\n",
       "      <td> 11.61</td>\n",
       "      <td> 3.39</td>\n",
       "      <td>   Male</td>\n",
       "      <td>  No</td>\n",
       "      <td> Sat</td>\n",
       "      <td> Dinner</td>\n",
       "      <td> 2</td>\n",
       "      <td> 0.291990</td>\n",
       "    </tr>\n",
       "    <tr>\n",
       "      <th>67 </th>\n",
       "      <td>  3.07</td>\n",
       "      <td> 1.00</td>\n",
       "      <td> Female</td>\n",
       "      <td> Yes</td>\n",
       "      <td> Sat</td>\n",
       "      <td> Dinner</td>\n",
       "      <td> 1</td>\n",
       "      <td> 0.325733</td>\n",
       "    </tr>\n",
       "    <tr>\n",
       "      <th>178</th>\n",
       "      <td>  9.60</td>\n",
       "      <td> 4.00</td>\n",
       "      <td> Female</td>\n",
       "      <td> Yes</td>\n",
       "      <td> Sun</td>\n",
       "      <td> Dinner</td>\n",
       "      <td> 2</td>\n",
       "      <td> 0.416667</td>\n",
       "    </tr>\n",
       "    <tr>\n",
       "      <th>172</th>\n",
       "      <td>  7.25</td>\n",
       "      <td> 5.15</td>\n",
       "      <td>   Male</td>\n",
       "      <td> Yes</td>\n",
       "      <td> Sun</td>\n",
       "      <td> Dinner</td>\n",
       "      <td> 2</td>\n",
       "      <td> 0.710345</td>\n",
       "    </tr>\n",
       "  </tbody>\n",
       "</table>\n",
       "</div>"
      ],
      "text/plain": [
       "     total_bill   tip     sex smoker  day    time  size   tip_pct\n",
       "109       14.31  4.00  Female    Yes  Sat  Dinner     2  0.279525\n",
       "183       23.17  6.50    Male    Yes  Sun  Dinner     4  0.280535\n",
       "232       11.61  3.39    Male     No  Sat  Dinner     2  0.291990\n",
       "67         3.07  1.00  Female    Yes  Sat  Dinner     1  0.325733\n",
       "178        9.60  4.00  Female    Yes  Sun  Dinner     2  0.416667\n",
       "172        7.25  5.15    Male    Yes  Sun  Dinner     2  0.710345"
      ]
     },
     "execution_count": 156,
     "metadata": {},
     "output_type": "execute_result"
    }
   ],
   "source": [
    "def top(df, n=5, column='tip_pct'):\n",
    "    return df.sort_index(by=column)[-n:]\n",
    "top(tips, n=6)"
   ]
  },
  {
   "cell_type": "markdown",
   "metadata": {},
   "source": [
    "이제 흡연자(smoker) 그룹에 대하여 이 함수를 apply하게 되면 다음과 같은 결과를 얻을 수 있다."
   ]
  },
  {
   "cell_type": "code",
   "execution_count": 157,
   "metadata": {
    "collapsed": false,
    "scrolled": true
   },
   "outputs": [
    {
     "data": {
      "text/html": [
       "<div style=\"max-height:1000px;max-width:1500px;overflow:auto;\">\n",
       "<table border=\"1\" class=\"dataframe\">\n",
       "  <thead>\n",
       "    <tr style=\"text-align: right;\">\n",
       "      <th></th>\n",
       "      <th></th>\n",
       "      <th>total_bill</th>\n",
       "      <th>tip</th>\n",
       "      <th>sex</th>\n",
       "      <th>smoker</th>\n",
       "      <th>day</th>\n",
       "      <th>time</th>\n",
       "      <th>size</th>\n",
       "      <th>tip_pct</th>\n",
       "    </tr>\n",
       "    <tr>\n",
       "      <th>smoker</th>\n",
       "      <th></th>\n",
       "      <th></th>\n",
       "      <th></th>\n",
       "      <th></th>\n",
       "      <th></th>\n",
       "      <th></th>\n",
       "      <th></th>\n",
       "      <th></th>\n",
       "      <th></th>\n",
       "    </tr>\n",
       "  </thead>\n",
       "  <tbody>\n",
       "    <tr>\n",
       "      <th rowspan=\"5\" valign=\"top\">No</th>\n",
       "      <th>88 </th>\n",
       "      <td> 24.71</td>\n",
       "      <td> 5.85</td>\n",
       "      <td>   Male</td>\n",
       "      <td>  No</td>\n",
       "      <td> Thur</td>\n",
       "      <td>  Lunch</td>\n",
       "      <td> 2</td>\n",
       "      <td> 0.236746</td>\n",
       "    </tr>\n",
       "    <tr>\n",
       "      <th>185</th>\n",
       "      <td> 20.69</td>\n",
       "      <td> 5.00</td>\n",
       "      <td>   Male</td>\n",
       "      <td>  No</td>\n",
       "      <td>  Sun</td>\n",
       "      <td> Dinner</td>\n",
       "      <td> 5</td>\n",
       "      <td> 0.241663</td>\n",
       "    </tr>\n",
       "    <tr>\n",
       "      <th>51 </th>\n",
       "      <td> 10.29</td>\n",
       "      <td> 2.60</td>\n",
       "      <td> Female</td>\n",
       "      <td>  No</td>\n",
       "      <td>  Sun</td>\n",
       "      <td> Dinner</td>\n",
       "      <td> 2</td>\n",
       "      <td> 0.252672</td>\n",
       "    </tr>\n",
       "    <tr>\n",
       "      <th>149</th>\n",
       "      <td>  7.51</td>\n",
       "      <td> 2.00</td>\n",
       "      <td>   Male</td>\n",
       "      <td>  No</td>\n",
       "      <td> Thur</td>\n",
       "      <td>  Lunch</td>\n",
       "      <td> 2</td>\n",
       "      <td> 0.266312</td>\n",
       "    </tr>\n",
       "    <tr>\n",
       "      <th>232</th>\n",
       "      <td> 11.61</td>\n",
       "      <td> 3.39</td>\n",
       "      <td>   Male</td>\n",
       "      <td>  No</td>\n",
       "      <td>  Sat</td>\n",
       "      <td> Dinner</td>\n",
       "      <td> 2</td>\n",
       "      <td> 0.291990</td>\n",
       "    </tr>\n",
       "    <tr>\n",
       "      <th rowspan=\"5\" valign=\"top\">Yes</th>\n",
       "      <th>109</th>\n",
       "      <td> 14.31</td>\n",
       "      <td> 4.00</td>\n",
       "      <td> Female</td>\n",
       "      <td> Yes</td>\n",
       "      <td>  Sat</td>\n",
       "      <td> Dinner</td>\n",
       "      <td> 2</td>\n",
       "      <td> 0.279525</td>\n",
       "    </tr>\n",
       "    <tr>\n",
       "      <th>183</th>\n",
       "      <td> 23.17</td>\n",
       "      <td> 6.50</td>\n",
       "      <td>   Male</td>\n",
       "      <td> Yes</td>\n",
       "      <td>  Sun</td>\n",
       "      <td> Dinner</td>\n",
       "      <td> 4</td>\n",
       "      <td> 0.280535</td>\n",
       "    </tr>\n",
       "    <tr>\n",
       "      <th>67 </th>\n",
       "      <td>  3.07</td>\n",
       "      <td> 1.00</td>\n",
       "      <td> Female</td>\n",
       "      <td> Yes</td>\n",
       "      <td>  Sat</td>\n",
       "      <td> Dinner</td>\n",
       "      <td> 1</td>\n",
       "      <td> 0.325733</td>\n",
       "    </tr>\n",
       "    <tr>\n",
       "      <th>178</th>\n",
       "      <td>  9.60</td>\n",
       "      <td> 4.00</td>\n",
       "      <td> Female</td>\n",
       "      <td> Yes</td>\n",
       "      <td>  Sun</td>\n",
       "      <td> Dinner</td>\n",
       "      <td> 2</td>\n",
       "      <td> 0.416667</td>\n",
       "    </tr>\n",
       "    <tr>\n",
       "      <th>172</th>\n",
       "      <td>  7.25</td>\n",
       "      <td> 5.15</td>\n",
       "      <td>   Male</td>\n",
       "      <td> Yes</td>\n",
       "      <td>  Sun</td>\n",
       "      <td> Dinner</td>\n",
       "      <td> 2</td>\n",
       "      <td> 0.710345</td>\n",
       "    </tr>\n",
       "  </tbody>\n",
       "</table>\n",
       "</div>"
      ],
      "text/plain": [
       "            total_bill   tip     sex smoker   day    time  size   tip_pct\n",
       "smoker                                                                   \n",
       "No     88        24.71  5.85    Male     No  Thur   Lunch     2  0.236746\n",
       "       185       20.69  5.00    Male     No   Sun  Dinner     5  0.241663\n",
       "       51        10.29  2.60  Female     No   Sun  Dinner     2  0.252672\n",
       "       149        7.51  2.00    Male     No  Thur   Lunch     2  0.266312\n",
       "       232       11.61  3.39    Male     No   Sat  Dinner     2  0.291990\n",
       "Yes    109       14.31  4.00  Female    Yes   Sat  Dinner     2  0.279525\n",
       "       183       23.17  6.50    Male    Yes   Sun  Dinner     4  0.280535\n",
       "       67         3.07  1.00  Female    Yes   Sat  Dinner     1  0.325733\n",
       "       178        9.60  4.00  Female    Yes   Sun  Dinner     2  0.416667\n",
       "       172        7.25  5.15    Male    Yes   Sun  Dinner     2  0.710345"
      ]
     },
     "execution_count": 157,
     "metadata": {},
     "output_type": "execute_result"
    }
   ],
   "source": [
    "tips.groupby('smoker').apply(top)"
   ]
  },
  {
   "cell_type": "markdown",
   "metadata": {},
   "source": [
    "이 결과를 보면 top함수가 나누어진 DataFrame의 각 부분에 모두 적용이 되었고, pandas, concat을 이용해서 하나로 합쳐진 다음 그룹 이름표가 붙여졌다. 결과는 계층적 색인을 가지게 되고 내부 색인은 원본 DataFrame의 색인 값을 가지게 된다.\n",
    "\n",
    "만일 apply 메서드에 넘길 함수가 추가적인 인자를 받는다면 함수 이름뒤에 붙여서 넘겨주면 된다."
   ]
  },
  {
   "cell_type": "code",
   "execution_count": 158,
   "metadata": {
    "collapsed": false
   },
   "outputs": [
    {
     "data": {
      "text/html": [
       "<div style=\"max-height:1000px;max-width:1500px;overflow:auto;\">\n",
       "<table border=\"1\" class=\"dataframe\">\n",
       "  <thead>\n",
       "    <tr style=\"text-align: right;\">\n",
       "      <th></th>\n",
       "      <th></th>\n",
       "      <th></th>\n",
       "      <th>total_bill</th>\n",
       "      <th>tip</th>\n",
       "      <th>sex</th>\n",
       "      <th>smoker</th>\n",
       "      <th>day</th>\n",
       "      <th>time</th>\n",
       "      <th>size</th>\n",
       "      <th>tip_pct</th>\n",
       "    </tr>\n",
       "    <tr>\n",
       "      <th>smoker</th>\n",
       "      <th>day</th>\n",
       "      <th></th>\n",
       "      <th></th>\n",
       "      <th></th>\n",
       "      <th></th>\n",
       "      <th></th>\n",
       "      <th></th>\n",
       "      <th></th>\n",
       "      <th></th>\n",
       "      <th></th>\n",
       "    </tr>\n",
       "  </thead>\n",
       "  <tbody>\n",
       "    <tr>\n",
       "      <th rowspan=\"4\" valign=\"top\">No</th>\n",
       "      <th>Fri</th>\n",
       "      <th>94 </th>\n",
       "      <td> 22.75</td>\n",
       "      <td>  3.25</td>\n",
       "      <td> Female</td>\n",
       "      <td>  No</td>\n",
       "      <td>  Fri</td>\n",
       "      <td> Dinner</td>\n",
       "      <td> 2</td>\n",
       "      <td> 0.142857</td>\n",
       "    </tr>\n",
       "    <tr>\n",
       "      <th>Sat</th>\n",
       "      <th>212</th>\n",
       "      <td> 48.33</td>\n",
       "      <td>  9.00</td>\n",
       "      <td>   Male</td>\n",
       "      <td>  No</td>\n",
       "      <td>  Sat</td>\n",
       "      <td> Dinner</td>\n",
       "      <td> 4</td>\n",
       "      <td> 0.186220</td>\n",
       "    </tr>\n",
       "    <tr>\n",
       "      <th>Sun</th>\n",
       "      <th>156</th>\n",
       "      <td> 48.17</td>\n",
       "      <td>  5.00</td>\n",
       "      <td>   Male</td>\n",
       "      <td>  No</td>\n",
       "      <td>  Sun</td>\n",
       "      <td> Dinner</td>\n",
       "      <td> 6</td>\n",
       "      <td> 0.103799</td>\n",
       "    </tr>\n",
       "    <tr>\n",
       "      <th>Thur</th>\n",
       "      <th>142</th>\n",
       "      <td> 41.19</td>\n",
       "      <td>  5.00</td>\n",
       "      <td>   Male</td>\n",
       "      <td>  No</td>\n",
       "      <td> Thur</td>\n",
       "      <td>  Lunch</td>\n",
       "      <td> 5</td>\n",
       "      <td> 0.121389</td>\n",
       "    </tr>\n",
       "    <tr>\n",
       "      <th rowspan=\"4\" valign=\"top\">Yes</th>\n",
       "      <th>Fri</th>\n",
       "      <th>95 </th>\n",
       "      <td> 40.17</td>\n",
       "      <td>  4.73</td>\n",
       "      <td>   Male</td>\n",
       "      <td> Yes</td>\n",
       "      <td>  Fri</td>\n",
       "      <td> Dinner</td>\n",
       "      <td> 4</td>\n",
       "      <td> 0.117750</td>\n",
       "    </tr>\n",
       "    <tr>\n",
       "      <th>Sat</th>\n",
       "      <th>170</th>\n",
       "      <td> 50.81</td>\n",
       "      <td> 10.00</td>\n",
       "      <td>   Male</td>\n",
       "      <td> Yes</td>\n",
       "      <td>  Sat</td>\n",
       "      <td> Dinner</td>\n",
       "      <td> 3</td>\n",
       "      <td> 0.196812</td>\n",
       "    </tr>\n",
       "    <tr>\n",
       "      <th>Sun</th>\n",
       "      <th>182</th>\n",
       "      <td> 45.35</td>\n",
       "      <td>  3.50</td>\n",
       "      <td>   Male</td>\n",
       "      <td> Yes</td>\n",
       "      <td>  Sun</td>\n",
       "      <td> Dinner</td>\n",
       "      <td> 3</td>\n",
       "      <td> 0.077178</td>\n",
       "    </tr>\n",
       "    <tr>\n",
       "      <th>Thur</th>\n",
       "      <th>197</th>\n",
       "      <td> 43.11</td>\n",
       "      <td>  5.00</td>\n",
       "      <td> Female</td>\n",
       "      <td> Yes</td>\n",
       "      <td> Thur</td>\n",
       "      <td>  Lunch</td>\n",
       "      <td> 4</td>\n",
       "      <td> 0.115982</td>\n",
       "    </tr>\n",
       "  </tbody>\n",
       "</table>\n",
       "</div>"
      ],
      "text/plain": [
       "                 total_bill    tip     sex smoker   day    time  size  \\\n",
       "smoker day                                                              \n",
       "No     Fri  94        22.75   3.25  Female     No   Fri  Dinner     2   \n",
       "       Sat  212       48.33   9.00    Male     No   Sat  Dinner     4   \n",
       "       Sun  156       48.17   5.00    Male     No   Sun  Dinner     6   \n",
       "       Thur 142       41.19   5.00    Male     No  Thur   Lunch     5   \n",
       "Yes    Fri  95        40.17   4.73    Male    Yes   Fri  Dinner     4   \n",
       "       Sat  170       50.81  10.00    Male    Yes   Sat  Dinner     3   \n",
       "       Sun  182       45.35   3.50    Male    Yes   Sun  Dinner     3   \n",
       "       Thur 197       43.11   5.00  Female    Yes  Thur   Lunch     4   \n",
       "\n",
       "                  tip_pct  \n",
       "smoker day                 \n",
       "No     Fri  94   0.142857  \n",
       "       Sat  212  0.186220  \n",
       "       Sun  156  0.103799  \n",
       "       Thur 142  0.121389  \n",
       "Yes    Fri  95   0.117750  \n",
       "       Sat  170  0.196812  \n",
       "       Sun  182  0.077178  \n",
       "       Thur 197  0.115982  "
      ]
     },
     "execution_count": 158,
     "metadata": {},
     "output_type": "execute_result"
    }
   ],
   "source": [
    "tips.groupby(['smoker', 'day']).apply(top, n=1, column='total_bill')"
   ]
  },
  {
   "cell_type": "code",
   "execution_count": 159,
   "metadata": {
    "collapsed": true
   },
   "outputs": [],
   "source": [
    "result = tips.groupby('smoker')['tip_pct'].describe()"
   ]
  },
  {
   "cell_type": "code",
   "execution_count": 160,
   "metadata": {
    "collapsed": false
   },
   "outputs": [
    {
     "data": {
      "text/plain": [
       "smoker       \n",
       "No      count    151.000000\n",
       "        mean       0.159328\n",
       "        std        0.039910\n",
       "        min        0.056797\n",
       "        25%        0.136906\n",
       "        50%        0.155625\n",
       "        75%        0.185014\n",
       "        max        0.291990\n",
       "Yes     count     93.000000\n",
       "        mean       0.163196\n",
       "        std        0.085119\n",
       "        min        0.035638\n",
       "        25%        0.106771\n",
       "        50%        0.153846\n",
       "        75%        0.195059\n",
       "        max        0.710345\n",
       "dtype: float64"
      ]
     },
     "execution_count": 160,
     "metadata": {},
     "output_type": "execute_result"
    }
   ],
   "source": [
    "result"
   ]
  },
  {
   "cell_type": "code",
   "execution_count": 163,
   "metadata": {
    "collapsed": false
   },
   "outputs": [
    {
     "data": {
      "text/html": [
       "<div style=\"max-height:1000px;max-width:1500px;overflow:auto;\">\n",
       "<table border=\"1\" class=\"dataframe\">\n",
       "  <thead>\n",
       "    <tr style=\"text-align: right;\">\n",
       "      <th>smoker</th>\n",
       "      <th>No</th>\n",
       "      <th>Yes</th>\n",
       "    </tr>\n",
       "  </thead>\n",
       "  <tbody>\n",
       "    <tr>\n",
       "      <th>count</th>\n",
       "      <td> 151.000000</td>\n",
       "      <td> 93.000000</td>\n",
       "    </tr>\n",
       "    <tr>\n",
       "      <th>mean</th>\n",
       "      <td>   0.159328</td>\n",
       "      <td>  0.163196</td>\n",
       "    </tr>\n",
       "    <tr>\n",
       "      <th>std</th>\n",
       "      <td>   0.039910</td>\n",
       "      <td>  0.085119</td>\n",
       "    </tr>\n",
       "    <tr>\n",
       "      <th>min</th>\n",
       "      <td>   0.056797</td>\n",
       "      <td>  0.035638</td>\n",
       "    </tr>\n",
       "    <tr>\n",
       "      <th>25%</th>\n",
       "      <td>   0.136906</td>\n",
       "      <td>  0.106771</td>\n",
       "    </tr>\n",
       "    <tr>\n",
       "      <th>50%</th>\n",
       "      <td>   0.155625</td>\n",
       "      <td>  0.153846</td>\n",
       "    </tr>\n",
       "    <tr>\n",
       "      <th>75%</th>\n",
       "      <td>   0.185014</td>\n",
       "      <td>  0.195059</td>\n",
       "    </tr>\n",
       "    <tr>\n",
       "      <th>max</th>\n",
       "      <td>   0.291990</td>\n",
       "      <td>  0.710345</td>\n",
       "    </tr>\n",
       "  </tbody>\n",
       "</table>\n",
       "</div>"
      ],
      "text/plain": [
       "smoker          No        Yes\n",
       "count   151.000000  93.000000\n",
       "mean      0.159328   0.163196\n",
       "std       0.039910   0.085119\n",
       "min       0.056797   0.035638\n",
       "25%       0.136906   0.106771\n",
       "50%       0.155625   0.153846\n",
       "75%       0.185014   0.195059\n",
       "max       0.291990   0.710345"
      ]
     },
     "execution_count": 163,
     "metadata": {},
     "output_type": "execute_result"
    }
   ],
   "source": [
    "result.unstack('smoker')"
   ]
  },
  {
   "cell_type": "markdown",
   "metadata": {},
   "source": [
    "describe 같은 메서드를 호출하면 GroupBy 내부적으로 다음과 같은 단계를 수행한다.\n",
    "```python\n",
    "f = lambda x: x.describe()\n",
    "grouped.apply(x)\n",
    "```"
   ]
  },
  {
   "cell_type": "markdown",
   "metadata": {},
   "source": [
    "### 그룹 색인 생략하기\n",
    "\n",
    "앞에서 살펴 본 예제에서 반환된 객체들은 원본 객체의 각 조각에 대한 색인과 그룹키가 계층적 색인으로 사용되는 걸 볼 수 있다. 이런 결과는 groupby 메서드에 group_keys=False를 넘겨서 막을수 있다."
   ]
  },
  {
   "cell_type": "code",
   "execution_count": 164,
   "metadata": {
    "collapsed": false
   },
   "outputs": [
    {
     "data": {
      "text/html": [
       "<div style=\"max-height:1000px;max-width:1500px;overflow:auto;\">\n",
       "<table border=\"1\" class=\"dataframe\">\n",
       "  <thead>\n",
       "    <tr style=\"text-align: right;\">\n",
       "      <th></th>\n",
       "      <th></th>\n",
       "      <th>total_bill</th>\n",
       "      <th>tip</th>\n",
       "      <th>sex</th>\n",
       "      <th>smoker</th>\n",
       "      <th>day</th>\n",
       "      <th>time</th>\n",
       "      <th>size</th>\n",
       "      <th>tip_pct</th>\n",
       "    </tr>\n",
       "    <tr>\n",
       "      <th>smoker</th>\n",
       "      <th></th>\n",
       "      <th></th>\n",
       "      <th></th>\n",
       "      <th></th>\n",
       "      <th></th>\n",
       "      <th></th>\n",
       "      <th></th>\n",
       "      <th></th>\n",
       "      <th></th>\n",
       "    </tr>\n",
       "  </thead>\n",
       "  <tbody>\n",
       "    <tr>\n",
       "      <th rowspan=\"5\" valign=\"top\">No</th>\n",
       "      <th>88 </th>\n",
       "      <td> 24.71</td>\n",
       "      <td> 5.85</td>\n",
       "      <td>   Male</td>\n",
       "      <td>  No</td>\n",
       "      <td> Thur</td>\n",
       "      <td>  Lunch</td>\n",
       "      <td> 2</td>\n",
       "      <td> 0.236746</td>\n",
       "    </tr>\n",
       "    <tr>\n",
       "      <th>185</th>\n",
       "      <td> 20.69</td>\n",
       "      <td> 5.00</td>\n",
       "      <td>   Male</td>\n",
       "      <td>  No</td>\n",
       "      <td>  Sun</td>\n",
       "      <td> Dinner</td>\n",
       "      <td> 5</td>\n",
       "      <td> 0.241663</td>\n",
       "    </tr>\n",
       "    <tr>\n",
       "      <th>51 </th>\n",
       "      <td> 10.29</td>\n",
       "      <td> 2.60</td>\n",
       "      <td> Female</td>\n",
       "      <td>  No</td>\n",
       "      <td>  Sun</td>\n",
       "      <td> Dinner</td>\n",
       "      <td> 2</td>\n",
       "      <td> 0.252672</td>\n",
       "    </tr>\n",
       "    <tr>\n",
       "      <th>149</th>\n",
       "      <td>  7.51</td>\n",
       "      <td> 2.00</td>\n",
       "      <td>   Male</td>\n",
       "      <td>  No</td>\n",
       "      <td> Thur</td>\n",
       "      <td>  Lunch</td>\n",
       "      <td> 2</td>\n",
       "      <td> 0.266312</td>\n",
       "    </tr>\n",
       "    <tr>\n",
       "      <th>232</th>\n",
       "      <td> 11.61</td>\n",
       "      <td> 3.39</td>\n",
       "      <td>   Male</td>\n",
       "      <td>  No</td>\n",
       "      <td>  Sat</td>\n",
       "      <td> Dinner</td>\n",
       "      <td> 2</td>\n",
       "      <td> 0.291990</td>\n",
       "    </tr>\n",
       "    <tr>\n",
       "      <th rowspan=\"5\" valign=\"top\">Yes</th>\n",
       "      <th>109</th>\n",
       "      <td> 14.31</td>\n",
       "      <td> 4.00</td>\n",
       "      <td> Female</td>\n",
       "      <td> Yes</td>\n",
       "      <td>  Sat</td>\n",
       "      <td> Dinner</td>\n",
       "      <td> 2</td>\n",
       "      <td> 0.279525</td>\n",
       "    </tr>\n",
       "    <tr>\n",
       "      <th>183</th>\n",
       "      <td> 23.17</td>\n",
       "      <td> 6.50</td>\n",
       "      <td>   Male</td>\n",
       "      <td> Yes</td>\n",
       "      <td>  Sun</td>\n",
       "      <td> Dinner</td>\n",
       "      <td> 4</td>\n",
       "      <td> 0.280535</td>\n",
       "    </tr>\n",
       "    <tr>\n",
       "      <th>67 </th>\n",
       "      <td>  3.07</td>\n",
       "      <td> 1.00</td>\n",
       "      <td> Female</td>\n",
       "      <td> Yes</td>\n",
       "      <td>  Sat</td>\n",
       "      <td> Dinner</td>\n",
       "      <td> 1</td>\n",
       "      <td> 0.325733</td>\n",
       "    </tr>\n",
       "    <tr>\n",
       "      <th>178</th>\n",
       "      <td>  9.60</td>\n",
       "      <td> 4.00</td>\n",
       "      <td> Female</td>\n",
       "      <td> Yes</td>\n",
       "      <td>  Sun</td>\n",
       "      <td> Dinner</td>\n",
       "      <td> 2</td>\n",
       "      <td> 0.416667</td>\n",
       "    </tr>\n",
       "    <tr>\n",
       "      <th>172</th>\n",
       "      <td>  7.25</td>\n",
       "      <td> 5.15</td>\n",
       "      <td>   Male</td>\n",
       "      <td> Yes</td>\n",
       "      <td>  Sun</td>\n",
       "      <td> Dinner</td>\n",
       "      <td> 2</td>\n",
       "      <td> 0.710345</td>\n",
       "    </tr>\n",
       "  </tbody>\n",
       "</table>\n",
       "</div>"
      ],
      "text/plain": [
       "            total_bill   tip     sex smoker   day    time  size   tip_pct\n",
       "smoker                                                                   \n",
       "No     88        24.71  5.85    Male     No  Thur   Lunch     2  0.236746\n",
       "       185       20.69  5.00    Male     No   Sun  Dinner     5  0.241663\n",
       "       51        10.29  2.60  Female     No   Sun  Dinner     2  0.252672\n",
       "       149        7.51  2.00    Male     No  Thur   Lunch     2  0.266312\n",
       "       232       11.61  3.39    Male     No   Sat  Dinner     2  0.291990\n",
       "Yes    109       14.31  4.00  Female    Yes   Sat  Dinner     2  0.279525\n",
       "       183       23.17  6.50    Male    Yes   Sun  Dinner     4  0.280535\n",
       "       67         3.07  1.00  Female    Yes   Sat  Dinner     1  0.325733\n",
       "       178        9.60  4.00  Female    Yes   Sun  Dinner     2  0.416667\n",
       "       172        7.25  5.15    Male    Yes   Sun  Dinner     2  0.710345"
      ]
     },
     "execution_count": 164,
     "metadata": {},
     "output_type": "execute_result"
    }
   ],
   "source": [
    "tips.groupby('smoker').apply(top)"
   ]
  },
  {
   "cell_type": "code",
   "execution_count": 165,
   "metadata": {
    "collapsed": false
   },
   "outputs": [
    {
     "data": {
      "text/html": [
       "<div style=\"max-height:1000px;max-width:1500px;overflow:auto;\">\n",
       "<table border=\"1\" class=\"dataframe\">\n",
       "  <thead>\n",
       "    <tr style=\"text-align: right;\">\n",
       "      <th></th>\n",
       "      <th>total_bill</th>\n",
       "      <th>tip</th>\n",
       "      <th>sex</th>\n",
       "      <th>smoker</th>\n",
       "      <th>day</th>\n",
       "      <th>time</th>\n",
       "      <th>size</th>\n",
       "      <th>tip_pct</th>\n",
       "    </tr>\n",
       "  </thead>\n",
       "  <tbody>\n",
       "    <tr>\n",
       "      <th>88 </th>\n",
       "      <td> 24.71</td>\n",
       "      <td> 5.85</td>\n",
       "      <td>   Male</td>\n",
       "      <td>  No</td>\n",
       "      <td> Thur</td>\n",
       "      <td>  Lunch</td>\n",
       "      <td> 2</td>\n",
       "      <td> 0.236746</td>\n",
       "    </tr>\n",
       "    <tr>\n",
       "      <th>185</th>\n",
       "      <td> 20.69</td>\n",
       "      <td> 5.00</td>\n",
       "      <td>   Male</td>\n",
       "      <td>  No</td>\n",
       "      <td>  Sun</td>\n",
       "      <td> Dinner</td>\n",
       "      <td> 5</td>\n",
       "      <td> 0.241663</td>\n",
       "    </tr>\n",
       "    <tr>\n",
       "      <th>51 </th>\n",
       "      <td> 10.29</td>\n",
       "      <td> 2.60</td>\n",
       "      <td> Female</td>\n",
       "      <td>  No</td>\n",
       "      <td>  Sun</td>\n",
       "      <td> Dinner</td>\n",
       "      <td> 2</td>\n",
       "      <td> 0.252672</td>\n",
       "    </tr>\n",
       "    <tr>\n",
       "      <th>149</th>\n",
       "      <td>  7.51</td>\n",
       "      <td> 2.00</td>\n",
       "      <td>   Male</td>\n",
       "      <td>  No</td>\n",
       "      <td> Thur</td>\n",
       "      <td>  Lunch</td>\n",
       "      <td> 2</td>\n",
       "      <td> 0.266312</td>\n",
       "    </tr>\n",
       "    <tr>\n",
       "      <th>232</th>\n",
       "      <td> 11.61</td>\n",
       "      <td> 3.39</td>\n",
       "      <td>   Male</td>\n",
       "      <td>  No</td>\n",
       "      <td>  Sat</td>\n",
       "      <td> Dinner</td>\n",
       "      <td> 2</td>\n",
       "      <td> 0.291990</td>\n",
       "    </tr>\n",
       "    <tr>\n",
       "      <th>109</th>\n",
       "      <td> 14.31</td>\n",
       "      <td> 4.00</td>\n",
       "      <td> Female</td>\n",
       "      <td> Yes</td>\n",
       "      <td>  Sat</td>\n",
       "      <td> Dinner</td>\n",
       "      <td> 2</td>\n",
       "      <td> 0.279525</td>\n",
       "    </tr>\n",
       "    <tr>\n",
       "      <th>183</th>\n",
       "      <td> 23.17</td>\n",
       "      <td> 6.50</td>\n",
       "      <td>   Male</td>\n",
       "      <td> Yes</td>\n",
       "      <td>  Sun</td>\n",
       "      <td> Dinner</td>\n",
       "      <td> 4</td>\n",
       "      <td> 0.280535</td>\n",
       "    </tr>\n",
       "    <tr>\n",
       "      <th>67 </th>\n",
       "      <td>  3.07</td>\n",
       "      <td> 1.00</td>\n",
       "      <td> Female</td>\n",
       "      <td> Yes</td>\n",
       "      <td>  Sat</td>\n",
       "      <td> Dinner</td>\n",
       "      <td> 1</td>\n",
       "      <td> 0.325733</td>\n",
       "    </tr>\n",
       "    <tr>\n",
       "      <th>178</th>\n",
       "      <td>  9.60</td>\n",
       "      <td> 4.00</td>\n",
       "      <td> Female</td>\n",
       "      <td> Yes</td>\n",
       "      <td>  Sun</td>\n",
       "      <td> Dinner</td>\n",
       "      <td> 2</td>\n",
       "      <td> 0.416667</td>\n",
       "    </tr>\n",
       "    <tr>\n",
       "      <th>172</th>\n",
       "      <td>  7.25</td>\n",
       "      <td> 5.15</td>\n",
       "      <td>   Male</td>\n",
       "      <td> Yes</td>\n",
       "      <td>  Sun</td>\n",
       "      <td> Dinner</td>\n",
       "      <td> 2</td>\n",
       "      <td> 0.710345</td>\n",
       "    </tr>\n",
       "  </tbody>\n",
       "</table>\n",
       "</div>"
      ],
      "text/plain": [
       "     total_bill   tip     sex smoker   day    time  size   tip_pct\n",
       "88        24.71  5.85    Male     No  Thur   Lunch     2  0.236746\n",
       "185       20.69  5.00    Male     No   Sun  Dinner     5  0.241663\n",
       "51        10.29  2.60  Female     No   Sun  Dinner     2  0.252672\n",
       "149        7.51  2.00    Male     No  Thur   Lunch     2  0.266312\n",
       "232       11.61  3.39    Male     No   Sat  Dinner     2  0.291990\n",
       "109       14.31  4.00  Female    Yes   Sat  Dinner     2  0.279525\n",
       "183       23.17  6.50    Male    Yes   Sun  Dinner     4  0.280535\n",
       "67         3.07  1.00  Female    Yes   Sat  Dinner     1  0.325733\n",
       "178        9.60  4.00  Female    Yes   Sun  Dinner     2  0.416667\n",
       "172        7.25  5.15    Male    Yes   Sun  Dinner     2  0.710345"
      ]
     },
     "execution_count": 165,
     "metadata": {},
     "output_type": "execute_result"
    }
   ],
   "source": [
    "tips.groupby('smoker', group_keys=False).apply(top)"
   ]
  },
  {
   "cell_type": "markdown",
   "metadata": {},
   "source": [
    "## 9.3.2 변위치 분석과 버킷 분석\n",
    "7장에서 살펴본 내용을 떠올려보면 pandas의 cut, qcut이라는 메서드를 사용해서 선택한 크기만큼 혹은 표본 변위치에 따라 데이터를 나눌 수 있었다. 이 함수를 groupby와 조합하면 데이터 묶음에 대해 변위치 분석이나 버킷 분석을 아주 쉽게 수행할 수 있다."
   ]
  },
  {
   "cell_type": "code",
   "execution_count": 166,
   "metadata": {
    "collapsed": true
   },
   "outputs": [],
   "source": [
    "frame = DataFrame({'data1':np.random.randn(1000),\n",
    "                  'data2':np.random.randn(1000)})"
   ]
  },
  {
   "cell_type": "code",
   "execution_count": 167,
   "metadata": {
    "collapsed": false
   },
   "outputs": [
    {
     "data": {
      "text/html": [
       "<div style=\"max-height:1000px;max-width:1500px;overflow:auto;\">\n",
       "<table border=\"1\" class=\"dataframe\">\n",
       "  <thead>\n",
       "    <tr style=\"text-align: right;\">\n",
       "      <th></th>\n",
       "      <th>data1</th>\n",
       "      <th>data2</th>\n",
       "    </tr>\n",
       "  </thead>\n",
       "  <tbody>\n",
       "    <tr>\n",
       "      <th>0  </th>\n",
       "      <td> 0.224421</td>\n",
       "      <td> 0.746222</td>\n",
       "    </tr>\n",
       "    <tr>\n",
       "      <th>1  </th>\n",
       "      <td> 0.387424</td>\n",
       "      <td> 0.768549</td>\n",
       "    </tr>\n",
       "    <tr>\n",
       "      <th>2  </th>\n",
       "      <td> 0.753908</td>\n",
       "      <td>-0.608434</td>\n",
       "    </tr>\n",
       "    <tr>\n",
       "      <th>3  </th>\n",
       "      <td>-0.998499</td>\n",
       "      <td>-0.198726</td>\n",
       "    </tr>\n",
       "    <tr>\n",
       "      <th>4  </th>\n",
       "      <td> 0.684612</td>\n",
       "      <td> 0.350964</td>\n",
       "    </tr>\n",
       "    <tr>\n",
       "      <th>5  </th>\n",
       "      <td> 0.705289</td>\n",
       "      <td> 0.122795</td>\n",
       "    </tr>\n",
       "    <tr>\n",
       "      <th>6  </th>\n",
       "      <td> 0.356493</td>\n",
       "      <td> 1.423921</td>\n",
       "    </tr>\n",
       "    <tr>\n",
       "      <th>7  </th>\n",
       "      <td> 1.727190</td>\n",
       "      <td> 0.069649</td>\n",
       "    </tr>\n",
       "    <tr>\n",
       "      <th>8  </th>\n",
       "      <td>-0.475763</td>\n",
       "      <td> 0.624772</td>\n",
       "    </tr>\n",
       "    <tr>\n",
       "      <th>9  </th>\n",
       "      <td>-0.534546</td>\n",
       "      <td>-0.042484</td>\n",
       "    </tr>\n",
       "    <tr>\n",
       "      <th>10 </th>\n",
       "      <td> 0.879612</td>\n",
       "      <td>-0.139853</td>\n",
       "    </tr>\n",
       "    <tr>\n",
       "      <th>11 </th>\n",
       "      <td>-0.583282</td>\n",
       "      <td>-0.571616</td>\n",
       "    </tr>\n",
       "    <tr>\n",
       "      <th>12 </th>\n",
       "      <td>-0.367329</td>\n",
       "      <td> 0.582098</td>\n",
       "    </tr>\n",
       "    <tr>\n",
       "      <th>13 </th>\n",
       "      <td>-4.238450</td>\n",
       "      <td>-0.093821</td>\n",
       "    </tr>\n",
       "    <tr>\n",
       "      <th>14 </th>\n",
       "      <td>-0.918230</td>\n",
       "      <td>-0.855475</td>\n",
       "    </tr>\n",
       "    <tr>\n",
       "      <th>15 </th>\n",
       "      <td> 0.035018</td>\n",
       "      <td> 1.082766</td>\n",
       "    </tr>\n",
       "    <tr>\n",
       "      <th>16 </th>\n",
       "      <td>-0.908705</td>\n",
       "      <td>-1.550388</td>\n",
       "    </tr>\n",
       "    <tr>\n",
       "      <th>17 </th>\n",
       "      <td> 0.074232</td>\n",
       "      <td>-0.848815</td>\n",
       "    </tr>\n",
       "    <tr>\n",
       "      <th>18 </th>\n",
       "      <td>-0.113532</td>\n",
       "      <td>-0.278217</td>\n",
       "    </tr>\n",
       "    <tr>\n",
       "      <th>19 </th>\n",
       "      <td>-0.229688</td>\n",
       "      <td> 1.733751</td>\n",
       "    </tr>\n",
       "    <tr>\n",
       "      <th>20 </th>\n",
       "      <td> 0.893860</td>\n",
       "      <td>-0.345337</td>\n",
       "    </tr>\n",
       "    <tr>\n",
       "      <th>21 </th>\n",
       "      <td> 1.166223</td>\n",
       "      <td> 1.654251</td>\n",
       "    </tr>\n",
       "    <tr>\n",
       "      <th>22 </th>\n",
       "      <td>-1.088541</td>\n",
       "      <td> 0.012192</td>\n",
       "    </tr>\n",
       "    <tr>\n",
       "      <th>23 </th>\n",
       "      <td>-1.014382</td>\n",
       "      <td>-0.599470</td>\n",
       "    </tr>\n",
       "    <tr>\n",
       "      <th>24 </th>\n",
       "      <td> 1.693842</td>\n",
       "      <td>-0.796532</td>\n",
       "    </tr>\n",
       "    <tr>\n",
       "      <th>25 </th>\n",
       "      <td>-0.306541</td>\n",
       "      <td> 1.203856</td>\n",
       "    </tr>\n",
       "    <tr>\n",
       "      <th>26 </th>\n",
       "      <td>-2.358792</td>\n",
       "      <td>-0.216643</td>\n",
       "    </tr>\n",
       "    <tr>\n",
       "      <th>27 </th>\n",
       "      <td> 0.042303</td>\n",
       "      <td> 0.456098</td>\n",
       "    </tr>\n",
       "    <tr>\n",
       "      <th>28 </th>\n",
       "      <td> 0.272973</td>\n",
       "      <td>-1.286274</td>\n",
       "    </tr>\n",
       "    <tr>\n",
       "      <th>29 </th>\n",
       "      <td>-1.694934</td>\n",
       "      <td> 1.832354</td>\n",
       "    </tr>\n",
       "    <tr>\n",
       "      <th>...</th>\n",
       "      <td>...</td>\n",
       "      <td>...</td>\n",
       "    </tr>\n",
       "    <tr>\n",
       "      <th>970</th>\n",
       "      <td>-0.239714</td>\n",
       "      <td>-1.800511</td>\n",
       "    </tr>\n",
       "    <tr>\n",
       "      <th>971</th>\n",
       "      <td> 2.235777</td>\n",
       "      <td>-0.079998</td>\n",
       "    </tr>\n",
       "    <tr>\n",
       "      <th>972</th>\n",
       "      <td> 0.595336</td>\n",
       "      <td>-0.488057</td>\n",
       "    </tr>\n",
       "    <tr>\n",
       "      <th>973</th>\n",
       "      <td> 0.119975</td>\n",
       "      <td> 0.197604</td>\n",
       "    </tr>\n",
       "    <tr>\n",
       "      <th>974</th>\n",
       "      <td>-0.929997</td>\n",
       "      <td> 0.344076</td>\n",
       "    </tr>\n",
       "    <tr>\n",
       "      <th>975</th>\n",
       "      <td> 0.382719</td>\n",
       "      <td>-2.151635</td>\n",
       "    </tr>\n",
       "    <tr>\n",
       "      <th>976</th>\n",
       "      <td> 0.148963</td>\n",
       "      <td> 0.158856</td>\n",
       "    </tr>\n",
       "    <tr>\n",
       "      <th>977</th>\n",
       "      <td>-0.171967</td>\n",
       "      <td>-0.618063</td>\n",
       "    </tr>\n",
       "    <tr>\n",
       "      <th>978</th>\n",
       "      <td>-1.176523</td>\n",
       "      <td>-1.370634</td>\n",
       "    </tr>\n",
       "    <tr>\n",
       "      <th>979</th>\n",
       "      <td> 0.788650</td>\n",
       "      <td> 0.917136</td>\n",
       "    </tr>\n",
       "    <tr>\n",
       "      <th>980</th>\n",
       "      <td>-1.155256</td>\n",
       "      <td> 1.192322</td>\n",
       "    </tr>\n",
       "    <tr>\n",
       "      <th>981</th>\n",
       "      <td> 1.292413</td>\n",
       "      <td> 1.251168</td>\n",
       "    </tr>\n",
       "    <tr>\n",
       "      <th>982</th>\n",
       "      <td>-0.446491</td>\n",
       "      <td> 0.367923</td>\n",
       "    </tr>\n",
       "    <tr>\n",
       "      <th>983</th>\n",
       "      <td>-1.207189</td>\n",
       "      <td>-1.494371</td>\n",
       "    </tr>\n",
       "    <tr>\n",
       "      <th>984</th>\n",
       "      <td>-0.663310</td>\n",
       "      <td>-0.185023</td>\n",
       "    </tr>\n",
       "    <tr>\n",
       "      <th>985</th>\n",
       "      <td>-0.940336</td>\n",
       "      <td> 0.622890</td>\n",
       "    </tr>\n",
       "    <tr>\n",
       "      <th>986</th>\n",
       "      <td> 0.112490</td>\n",
       "      <td>-0.675379</td>\n",
       "    </tr>\n",
       "    <tr>\n",
       "      <th>987</th>\n",
       "      <td>-0.323343</td>\n",
       "      <td> 0.156080</td>\n",
       "    </tr>\n",
       "    <tr>\n",
       "      <th>988</th>\n",
       "      <td> 0.409233</td>\n",
       "      <td> 0.242595</td>\n",
       "    </tr>\n",
       "    <tr>\n",
       "      <th>989</th>\n",
       "      <td> 0.317059</td>\n",
       "      <td> 0.528874</td>\n",
       "    </tr>\n",
       "    <tr>\n",
       "      <th>990</th>\n",
       "      <td> 0.039075</td>\n",
       "      <td>-0.258154</td>\n",
       "    </tr>\n",
       "    <tr>\n",
       "      <th>991</th>\n",
       "      <td>-0.507664</td>\n",
       "      <td> 1.001302</td>\n",
       "    </tr>\n",
       "    <tr>\n",
       "      <th>992</th>\n",
       "      <td> 1.758171</td>\n",
       "      <td>-0.903761</td>\n",
       "    </tr>\n",
       "    <tr>\n",
       "      <th>993</th>\n",
       "      <td> 1.239251</td>\n",
       "      <td> 0.277675</td>\n",
       "    </tr>\n",
       "    <tr>\n",
       "      <th>994</th>\n",
       "      <td> 1.095430</td>\n",
       "      <td>-1.319666</td>\n",
       "    </tr>\n",
       "    <tr>\n",
       "      <th>995</th>\n",
       "      <td> 0.510064</td>\n",
       "      <td> 0.171174</td>\n",
       "    </tr>\n",
       "    <tr>\n",
       "      <th>996</th>\n",
       "      <td> 0.271348</td>\n",
       "      <td> 0.473893</td>\n",
       "    </tr>\n",
       "    <tr>\n",
       "      <th>997</th>\n",
       "      <td> 0.598782</td>\n",
       "      <td>-1.131621</td>\n",
       "    </tr>\n",
       "    <tr>\n",
       "      <th>998</th>\n",
       "      <td>-1.396273</td>\n",
       "      <td> 1.656210</td>\n",
       "    </tr>\n",
       "    <tr>\n",
       "      <th>999</th>\n",
       "      <td>-0.516162</td>\n",
       "      <td>-0.865670</td>\n",
       "    </tr>\n",
       "  </tbody>\n",
       "</table>\n",
       "<p>1000 rows × 2 columns</p>\n",
       "</div>"
      ],
      "text/plain": [
       "        data1     data2\n",
       "0    0.224421  0.746222\n",
       "1    0.387424  0.768549\n",
       "2    0.753908 -0.608434\n",
       "3   -0.998499 -0.198726\n",
       "4    0.684612  0.350964\n",
       "5    0.705289  0.122795\n",
       "6    0.356493  1.423921\n",
       "7    1.727190  0.069649\n",
       "8   -0.475763  0.624772\n",
       "9   -0.534546 -0.042484\n",
       "10   0.879612 -0.139853\n",
       "11  -0.583282 -0.571616\n",
       "12  -0.367329  0.582098\n",
       "13  -4.238450 -0.093821\n",
       "14  -0.918230 -0.855475\n",
       "15   0.035018  1.082766\n",
       "16  -0.908705 -1.550388\n",
       "17   0.074232 -0.848815\n",
       "18  -0.113532 -0.278217\n",
       "19  -0.229688  1.733751\n",
       "20   0.893860 -0.345337\n",
       "21   1.166223  1.654251\n",
       "22  -1.088541  0.012192\n",
       "23  -1.014382 -0.599470\n",
       "24   1.693842 -0.796532\n",
       "25  -0.306541  1.203856\n",
       "26  -2.358792 -0.216643\n",
       "27   0.042303  0.456098\n",
       "28   0.272973 -1.286274\n",
       "29  -1.694934  1.832354\n",
       "..        ...       ...\n",
       "970 -0.239714 -1.800511\n",
       "971  2.235777 -0.079998\n",
       "972  0.595336 -0.488057\n",
       "973  0.119975  0.197604\n",
       "974 -0.929997  0.344076\n",
       "975  0.382719 -2.151635\n",
       "976  0.148963  0.158856\n",
       "977 -0.171967 -0.618063\n",
       "978 -1.176523 -1.370634\n",
       "979  0.788650  0.917136\n",
       "980 -1.155256  1.192322\n",
       "981  1.292413  1.251168\n",
       "982 -0.446491  0.367923\n",
       "983 -1.207189 -1.494371\n",
       "984 -0.663310 -0.185023\n",
       "985 -0.940336  0.622890\n",
       "986  0.112490 -0.675379\n",
       "987 -0.323343  0.156080\n",
       "988  0.409233  0.242595\n",
       "989  0.317059  0.528874\n",
       "990  0.039075 -0.258154\n",
       "991 -0.507664  1.001302\n",
       "992  1.758171 -0.903761\n",
       "993  1.239251  0.277675\n",
       "994  1.095430 -1.319666\n",
       "995  0.510064  0.171174\n",
       "996  0.271348  0.473893\n",
       "997  0.598782 -1.131621\n",
       "998 -1.396273  1.656210\n",
       "999 -0.516162 -0.865670\n",
       "\n",
       "[1000 rows x 2 columns]"
      ]
     },
     "execution_count": 167,
     "metadata": {},
     "output_type": "execute_result"
    }
   ],
   "source": [
    "frame"
   ]
  },
  {
   "cell_type": "code",
   "execution_count": 174,
   "metadata": {
    "collapsed": false
   },
   "outputs": [
    {
     "data": {
      "text/plain": [
       "  (-0.537, 1.313]\n",
       "  (-0.537, 1.313]\n",
       "  (-0.537, 1.313]\n",
       " (-2.388, -0.537]\n",
       "  (-0.537, 1.313]\n",
       "  (-0.537, 1.313]\n",
       "  (-0.537, 1.313]\n",
       "   (1.313, 3.164]\n",
       "  (-0.537, 1.313]\n",
       "  (-0.537, 1.313]\n",
       "Levels (4): Index(['(-4.246, -2.388]', '(-2.388, -0.537]',\n",
       "                   '(-0.537, 1.313]', '(1.313, 3.164]'], dtype=object)"
      ]
     },
     "execution_count": 174,
     "metadata": {},
     "output_type": "execute_result"
    }
   ],
   "source": [
    "factor = pd.cut(frame.data1, 4)\n",
    "factor[:10]"
   ]
  },
  {
   "cell_type": "markdown",
   "metadata": {},
   "source": [
    "cut 메서드는 Factor 객체를 반환하는데, 이 Factor객체는 바로 groupby로 넘길 수 있다."
   ]
  },
  {
   "cell_type": "code",
   "execution_count": 170,
   "metadata": {
    "collapsed": true
   },
   "outputs": [],
   "source": [
    "def get_stats(group):\n",
    "    return {'min':group.min(), 'max':group.max(), 'count':group.count(), 'mean':group.mean()}"
   ]
  },
  {
   "cell_type": "code",
   "execution_count": 171,
   "metadata": {
    "collapsed": true
   },
   "outputs": [],
   "source": [
    "grouped = frame.data2.groupby(factor)"
   ]
  },
  {
   "cell_type": "code",
   "execution_count": 172,
   "metadata": {
    "collapsed": false
   },
   "outputs": [
    {
     "data": {
      "text/html": [
       "<div style=\"max-height:1000px;max-width:1500px;overflow:auto;\">\n",
       "<table border=\"1\" class=\"dataframe\">\n",
       "  <thead>\n",
       "    <tr style=\"text-align: right;\">\n",
       "      <th></th>\n",
       "      <th>count</th>\n",
       "      <th>max</th>\n",
       "      <th>mean</th>\n",
       "      <th>min</th>\n",
       "    </tr>\n",
       "    <tr>\n",
       "      <th>data1</th>\n",
       "      <th></th>\n",
       "      <th></th>\n",
       "      <th></th>\n",
       "      <th></th>\n",
       "    </tr>\n",
       "  </thead>\n",
       "  <tbody>\n",
       "    <tr>\n",
       "      <th>(-4.246, -2.388]</th>\n",
       "      <td>   8</td>\n",
       "      <td> 1.131999</td>\n",
       "      <td>-0.215569</td>\n",
       "      <td>-1.894985</td>\n",
       "    </tr>\n",
       "    <tr>\n",
       "      <th>(-2.388, -0.537]</th>\n",
       "      <td> 299</td>\n",
       "      <td> 2.009005</td>\n",
       "      <td>-0.103146</td>\n",
       "      <td>-2.704931</td>\n",
       "    </tr>\n",
       "    <tr>\n",
       "      <th>(-0.537, 1.313]</th>\n",
       "      <td> 604</td>\n",
       "      <td> 3.115139</td>\n",
       "      <td> 0.005312</td>\n",
       "      <td>-3.269123</td>\n",
       "    </tr>\n",
       "    <tr>\n",
       "      <th>(1.313, 3.164]</th>\n",
       "      <td>  89</td>\n",
       "      <td> 3.810381</td>\n",
       "      <td> 0.112956</td>\n",
       "      <td>-2.197447</td>\n",
       "    </tr>\n",
       "  </tbody>\n",
       "</table>\n",
       "</div>"
      ],
      "text/plain": [
       "                  count       max      mean       min\n",
       "data1                                                \n",
       "(-4.246, -2.388]      8  1.131999 -0.215569 -1.894985\n",
       "(-2.388, -0.537]    299  2.009005 -0.103146 -2.704931\n",
       "(-0.537, 1.313]     604  3.115139  0.005312 -3.269123\n",
       "(1.313, 3.164]       89  3.810381  0.112956 -2.197447"
      ]
     },
     "execution_count": 172,
     "metadata": {},
     "output_type": "execute_result"
    }
   ],
   "source": [
    "grouped.apply(get_stats).unstack()"
   ]
  },
  {
   "cell_type": "markdown",
   "metadata": {},
   "source": [
    "이는 등간격 버킷이고, 표본 변위치에 기반하여 크기가 같은 버킷을 계산하려면 qcut을 사용해야 한다."
   ]
  },
  {
   "cell_type": "code",
   "execution_count": 183,
   "metadata": {
    "collapsed": false
   },
   "outputs": [
    {
     "data": {
      "text/plain": [
       "array([5, 6, 7, 1, 7, 7, 6, 9, 3, 3, 8, 2, 3, 0, 1, 5, 1, 5, 4, 4, 8, 8, 1,\n",
       "       1, 9, 3, 0, 5, 6, 0, 7, 3, 0, 0, 9, 9, 5, 3, 0, 0, 9, 5, 7, 1, 2, 0,\n",
       "       0, 5, 0, 0, 2, 4, 4, 1, 3, 2, 7, 3, 6, 9, 5, 6, 6, 4, 5, 6, 2, 8, 1,\n",
       "       9, 7, 4, 1, 1, 1, 2, 2, 9, 2, 4, 4, 0, 4, 9, 8, 0, 2, 3, 3, 8, 8, 7,\n",
       "       3, 7, 6, 8, 6, 7, 6, 1, 7, 0, 1, 5, 9, 1, 2, 6, 7, 7, 0, 1, 1, 6, 1,\n",
       "       4, 3, 4, 0, 8, 2, 7, 7, 6, 6, 9, 3, 0, 6, 9, 1, 3, 8, 8, 7, 8, 7, 9,\n",
       "       9, 0, 6, 1, 3, 2, 6, 2, 7, 5, 5, 9, 9, 0, 1, 2, 3, 7, 0, 6, 0, 0, 6,\n",
       "       6, 2, 5, 4, 8, 4, 6, 2, 1, 2, 8, 2, 4, 2, 6, 7, 7, 6, 2, 7, 5, 4, 2,\n",
       "       2, 0, 5, 6, 5, 2, 5, 6, 5, 4, 3, 6, 4, 7, 8, 4, 7, 6, 3, 9, 5, 6, 7,\n",
       "       1, 8, 2, 2, 8, 2, 9, 2, 6, 0, 3, 0, 3, 5, 7, 6, 1, 9, 8, 0, 5, 9, 7,\n",
       "       8, 1, 1, 0, 6, 8, 4, 4, 6, 1, 8, 8, 6, 8, 7, 2, 0, 2, 7, 7, 5, 2, 7,\n",
       "       4, 4, 2, 2, 2, 9, 9, 8, 3, 3, 1, 0, 2, 8, 3, 2, 5, 2, 6, 9, 9, 5, 5,\n",
       "       1, 0, 8, 9, 5, 2, 2, 6, 1, 3, 3, 2, 2, 7, 4, 4, 6, 8, 3, 0, 4, 4, 3,\n",
       "       2, 7, 3, 9, 5, 3, 6, 8, 4, 3, 3, 5, 7, 8, 4, 6, 7, 0, 0, 0, 4, 4, 9,\n",
       "       3, 2, 6, 0, 5, 8, 1, 7, 8, 5, 0, 3, 8, 6, 0, 3, 6, 9, 9, 2, 9, 0, 1,\n",
       "       1, 6, 8, 5, 8, 5, 3, 1, 5, 3, 7, 6, 0, 5, 0, 8, 4, 0, 1, 3, 2, 2, 8,\n",
       "       8, 9, 4, 6, 5, 7, 8, 6, 5, 0, 2, 1, 0, 3, 0, 1, 1, 8, 5, 0, 0, 0, 0,\n",
       "       4, 0, 8, 5, 2, 2, 0, 9, 4, 4, 7, 7, 1, 7, 2, 0, 1, 3, 9, 3, 9, 4, 0,\n",
       "       3, 6, 0, 5, 5, 3, 2, 5, 9, 5, 6, 4, 3, 3, 1, 6, 8, 9, 4, 6, 7, 5, 7,\n",
       "       3, 6, 1, 9, 6, 4, 4, 6, 2, 0, 0, 2, 4, 5, 4, 8, 2, 3, 9, 5, 2, 8, 4,\n",
       "       4, 6, 1, 1, 0, 9, 4, 5, 2, 5, 1, 6, 7, 7, 8, 9, 7, 8, 7, 9, 2, 9, 7,\n",
       "       5, 1, 8, 9, 5, 3, 9, 2, 1, 5, 9, 7, 1, 0, 9, 2, 8, 1, 8, 1, 5, 5, 1,\n",
       "       2, 2, 9, 0, 4, 3, 5, 5, 3, 4, 3, 6, 3, 5, 1, 8, 9, 4, 4, 6, 4, 4, 4,\n",
       "       5, 3, 4, 4, 9, 8, 0, 8, 7, 6, 8, 2, 4, 9, 6, 7, 2, 3, 6, 9, 4, 5, 1,\n",
       "       4, 0, 8, 1, 8, 3, 8, 8, 4, 6, 2, 8, 6, 3, 0, 3, 9, 9, 4, 4, 5, 4, 7,\n",
       "       4, 0, 3, 2, 9, 8, 5, 0, 9, 8, 4, 7, 4, 2, 3, 1, 7, 5, 9, 4, 0, 9, 5,\n",
       "       9, 7, 9, 5, 9, 2, 2, 1, 1, 4, 6, 4, 9, 9, 1, 6, 8, 7, 0, 8, 7, 8, 5,\n",
       "       8, 0, 3, 3, 2, 4, 0, 3, 2, 2, 1, 5, 5, 6, 2, 1, 2, 6, 5, 1, 2, 7, 0,\n",
       "       5, 8, 9, 3, 6, 7, 0, 1, 7, 8, 9, 7, 4, 4, 8, 7, 1, 0, 4, 0, 8, 6, 3,\n",
       "       3, 9, 3, 1, 3, 7, 3, 0, 5, 0, 4, 6, 3, 4, 9, 0, 9, 7, 0, 3, 8, 9, 1,\n",
       "       5, 7, 0, 9, 2, 1, 9, 6, 1, 1, 2, 5, 8, 1, 5, 0, 1, 1, 6, 7, 5, 8, 8,\n",
       "       0, 2, 6, 3, 7, 2, 5, 8, 8, 9, 4, 4, 1, 7, 5, 0, 8, 9, 7, 2, 6, 9, 0,\n",
       "       7, 7, 4, 8, 5, 2, 9, 8, 1, 7, 4, 0, 5, 2, 4, 9, 2, 7, 2, 0, 9, 9, 5,\n",
       "       2, 9, 0, 8, 5, 0, 6, 0, 3, 5, 7, 6, 3, 0, 7, 9, 4, 8, 2, 5, 5, 1, 8,\n",
       "       4, 1, 3, 6, 4, 0, 1, 1, 7, 8, 3, 5, 9, 6, 1, 2, 6, 1, 0, 3, 9, 6, 0,\n",
       "       0, 9, 9, 1, 8, 6, 8, 5, 6, 1, 5, 3, 4, 1, 6, 5, 5, 3, 2, 3, 1, 3, 8,\n",
       "       7, 5, 1, 6, 4, 6, 5, 4, 8, 7, 1, 0, 3, 8, 8, 1, 0, 3, 3, 4, 2, 9, 7,\n",
       "       7, 9, 1, 7, 2, 3, 5, 0, 6, 7, 2, 6, 3, 0, 2, 8, 2, 9, 7, 3, 2, 8, 0,\n",
       "       6, 0, 4, 3, 7, 6, 3, 2, 8, 5, 5, 4, 3, 2, 4, 8, 9, 1, 7, 1, 4, 2, 9,\n",
       "       4, 7, 2, 6, 7, 1, 9, 4, 8, 6, 5, 4, 4, 9, 1, 3, 8, 3, 5, 5, 9, 4, 3,\n",
       "       9, 4, 7, 9, 2, 0, 0, 7, 0, 8, 3, 9, 9, 7, 9, 6, 2, 2, 8, 7, 6, 1, 7,\n",
       "       1, 8, 5, 1, 6, 1, 7, 9, 5, 3, 7, 8, 3, 8, 6, 6, 1, 4, 3, 7, 4, 6, 3,\n",
       "       6, 4, 8, 7, 4, 9, 7, 5, 1, 6, 5, 4, 1, 7, 1, 9, 3, 1, 2, 1, 5, 3, 6,\n",
       "       6, 5, 3, 9, 8, 8, 7, 6, 7, 0, 3])"
      ]
     },
     "execution_count": 183,
     "metadata": {},
     "output_type": "execute_result"
    }
   ],
   "source": [
    "#변위치 숫자를 반환한다.\n",
    "grouping = pd.qcut(frame.data1, 10, labels=False)\n",
    "grouping"
   ]
  },
  {
   "cell_type": "code",
   "execution_count": 184,
   "metadata": {
    "collapsed": true
   },
   "outputs": [],
   "source": [
    "grouped = frame.data2.groupby(grouping)"
   ]
  },
  {
   "cell_type": "code",
   "execution_count": 185,
   "metadata": {
    "collapsed": false
   },
   "outputs": [
    {
     "data": {
      "text/html": [
       "<div style=\"max-height:1000px;max-width:1500px;overflow:auto;\">\n",
       "<table border=\"1\" class=\"dataframe\">\n",
       "  <thead>\n",
       "    <tr style=\"text-align: right;\">\n",
       "      <th></th>\n",
       "      <th>count</th>\n",
       "      <th>max</th>\n",
       "      <th>mean</th>\n",
       "      <th>min</th>\n",
       "    </tr>\n",
       "  </thead>\n",
       "  <tbody>\n",
       "    <tr>\n",
       "      <th>0</th>\n",
       "      <td> 100</td>\n",
       "      <td> 1.832354</td>\n",
       "      <td>-0.040376</td>\n",
       "      <td>-2.685284</td>\n",
       "    </tr>\n",
       "    <tr>\n",
       "      <th>1</th>\n",
       "      <td> 100</td>\n",
       "      <td> 1.939753</td>\n",
       "      <td>-0.172506</td>\n",
       "      <td>-2.615642</td>\n",
       "    </tr>\n",
       "    <tr>\n",
       "      <th>2</th>\n",
       "      <td> 100</td>\n",
       "      <td> 2.009005</td>\n",
       "      <td>-0.113665</td>\n",
       "      <td>-2.704931</td>\n",
       "    </tr>\n",
       "    <tr>\n",
       "      <th>3</th>\n",
       "      <td> 100</td>\n",
       "      <td> 2.420816</td>\n",
       "      <td>-0.032912</td>\n",
       "      <td>-3.269123</td>\n",
       "    </tr>\n",
       "    <tr>\n",
       "      <th>4</th>\n",
       "      <td> 100</td>\n",
       "      <td> 1.739162</td>\n",
       "      <td>-0.176065</td>\n",
       "      <td>-2.100690</td>\n",
       "    </tr>\n",
       "    <tr>\n",
       "      <th>5</th>\n",
       "      <td> 100</td>\n",
       "      <td> 2.423690</td>\n",
       "      <td>-0.155260</td>\n",
       "      <td>-3.031191</td>\n",
       "    </tr>\n",
       "    <tr>\n",
       "      <th>6</th>\n",
       "      <td> 100</td>\n",
       "      <td> 2.888340</td>\n",
       "      <td> 0.269432</td>\n",
       "      <td>-2.151635</td>\n",
       "    </tr>\n",
       "    <tr>\n",
       "      <th>7</th>\n",
       "      <td> 100</td>\n",
       "      <td> 3.115139</td>\n",
       "      <td> 0.055077</td>\n",
       "      <td>-2.247539</td>\n",
       "    </tr>\n",
       "    <tr>\n",
       "      <th>8</th>\n",
       "      <td> 100</td>\n",
       "      <td> 2.470646</td>\n",
       "      <td> 0.082852</td>\n",
       "      <td>-2.240582</td>\n",
       "    </tr>\n",
       "    <tr>\n",
       "      <th>9</th>\n",
       "      <td> 100</td>\n",
       "      <td> 3.810381</td>\n",
       "      <td> 0.090387</td>\n",
       "      <td>-2.197447</td>\n",
       "    </tr>\n",
       "  </tbody>\n",
       "</table>\n",
       "</div>"
      ],
      "text/plain": [
       "   count       max      mean       min\n",
       "0    100  1.832354 -0.040376 -2.685284\n",
       "1    100  1.939753 -0.172506 -2.615642\n",
       "2    100  2.009005 -0.113665 -2.704931\n",
       "3    100  2.420816 -0.032912 -3.269123\n",
       "4    100  1.739162 -0.176065 -2.100690\n",
       "5    100  2.423690 -0.155260 -3.031191\n",
       "6    100  2.888340  0.269432 -2.151635\n",
       "7    100  3.115139  0.055077 -2.247539\n",
       "8    100  2.470646  0.082852 -2.240582\n",
       "9    100  3.810381  0.090387 -2.197447"
      ]
     },
     "execution_count": 185,
     "metadata": {},
     "output_type": "execute_result"
    }
   ],
   "source": [
    "grouped.apply(get_stats).unstack()"
   ]
  },
  {
   "cell_type": "markdown",
   "metadata": {},
   "source": [
    "##9.3.3 예제 : 그룹의 국한된 값으로 누락된 값 채우기\n",
    "누락된 데이터를 정리할때면 dropna를 사용해서 데이터를 걸러내는 경우가 있는 반면, 누락된 값을 고정된 값이나 혹은 데이터로부터 도출된 어떤 값으로 채우고 싶을때도 있다. 이런 경우에 fillna메서드를 사용하는데, 다음은 누락된 값을 평균값으로 대체하는 예제다"
   ]
  },
  {
   "cell_type": "code",
   "execution_count": 186,
   "metadata": {
    "collapsed": true
   },
   "outputs": [],
   "source": [
    "s = Series(np.random.randn(6))"
   ]
  },
  {
   "cell_type": "code",
   "execution_count": 187,
   "metadata": {
    "collapsed": true
   },
   "outputs": [],
   "source": [
    "s[::2] = np.nan"
   ]
  },
  {
   "cell_type": "code",
   "execution_count": 188,
   "metadata": {
    "collapsed": false
   },
   "outputs": [
    {
     "data": {
      "text/plain": [
       "0         NaN\n",
       "1   -0.828925\n",
       "2         NaN\n",
       "3   -1.157968\n",
       "4         NaN\n",
       "5   -0.327647\n",
       "dtype: float64"
      ]
     },
     "execution_count": 188,
     "metadata": {},
     "output_type": "execute_result"
    }
   ],
   "source": [
    "s"
   ]
  },
  {
   "cell_type": "code",
   "execution_count": 189,
   "metadata": {
    "collapsed": false
   },
   "outputs": [
    {
     "data": {
      "text/plain": [
       "0   -0.771513\n",
       "1   -0.828925\n",
       "2   -0.771513\n",
       "3   -1.157968\n",
       "4   -0.771513\n",
       "5   -0.327647\n",
       "dtype: float64"
      ]
     },
     "execution_count": 189,
     "metadata": {},
     "output_type": "execute_result"
    }
   ],
   "source": [
    "s.fillna(s.mean())"
   ]
  },
  {
   "cell_type": "markdown",
   "metadata": {},
   "source": [
    "그룹별로 채워넣고 싶은 값이 다르다고 하자. 데이터를 그룹으로 나누고 apply 함수를 사용해서 각 그룹에 대해 fillna를 적용하면 된다."
   ]
  },
  {
   "cell_type": "code",
   "execution_count": 192,
   "metadata": {
    "collapsed": true
   },
   "outputs": [],
   "source": [
    "states = ['Ohio', 'New York', 'Vermont', 'Florida', 'Oregon', 'Nevada', 'Califonia', 'Idaho']"
   ]
  },
  {
   "cell_type": "code",
   "execution_count": 191,
   "metadata": {
    "collapsed": false
   },
   "outputs": [
    {
     "data": {
      "text/plain": [
       "['East', 'East', 'East', 'East', 'West', 'West', 'West', 'West']"
      ]
     },
     "execution_count": 191,
     "metadata": {},
     "output_type": "execute_result"
    }
   ],
   "source": [
    "group_key = ['East'] * 4 + ['West'] * 4\n",
    "group_key"
   ]
  },
  {
   "cell_type": "code",
   "execution_count": 193,
   "metadata": {
    "collapsed": true
   },
   "outputs": [],
   "source": [
    "data = Series(np.random.randn(8), index = states)"
   ]
  },
  {
   "cell_type": "code",
   "execution_count": 194,
   "metadata": {
    "collapsed": true
   },
   "outputs": [],
   "source": [
    "data[['Vermont', 'Nevada', 'Idaho']] = np.nan"
   ]
  },
  {
   "cell_type": "code",
   "execution_count": 195,
   "metadata": {
    "collapsed": false
   },
   "outputs": [
    {
     "data": {
      "text/plain": [
       "Ohio         0.255182\n",
       "New York     0.411025\n",
       "Vermont           NaN\n",
       "Florida      0.310343\n",
       "Oregon       0.828543\n",
       "Nevada            NaN\n",
       "Califonia    0.845606\n",
       "Idaho             NaN\n",
       "dtype: float64"
      ]
     },
     "execution_count": 195,
     "metadata": {},
     "output_type": "execute_result"
    }
   ],
   "source": [
    "data"
   ]
  },
  {
   "cell_type": "code",
   "execution_count": 196,
   "metadata": {
    "collapsed": false
   },
   "outputs": [
    {
     "data": {
      "text/plain": [
       "East    0.325516\n",
       "West    0.837075\n",
       "dtype: float64"
      ]
     },
     "execution_count": 196,
     "metadata": {},
     "output_type": "execute_result"
    }
   ],
   "source": [
    "data.groupby(group_key).mean()"
   ]
  },
  {
   "cell_type": "code",
   "execution_count": 199,
   "metadata": {
    "collapsed": true
   },
   "outputs": [],
   "source": [
    "fill_mean = lambda g: g.fillna(g.mean())"
   ]
  },
  {
   "cell_type": "code",
   "execution_count": 200,
   "metadata": {
    "collapsed": false
   },
   "outputs": [
    {
     "data": {
      "text/plain": [
       "Ohio         0.255182\n",
       "New York     0.411025\n",
       "Vermont      0.325516\n",
       "Florida      0.310343\n",
       "Oregon       0.828543\n",
       "Nevada       0.837075\n",
       "Califonia    0.845606\n",
       "Idaho        0.837075\n",
       "dtype: float64"
      ]
     },
     "execution_count": 200,
     "metadata": {},
     "output_type": "execute_result"
    }
   ],
   "source": [
    "data.groupby(group_key).apply(fill_mean)"
   ]
  },
  {
   "cell_type": "markdown",
   "metadata": {},
   "source": [
    "아니면 그룹에 따라 미리 정의된 다른 값을 채워넣어야 할 경우도 있다. 각 그룹은 내부적으로 name이라는 속성을 가지고 있으므로 이를 이용하자."
   ]
  },
  {
   "cell_type": "code",
   "execution_count": 201,
   "metadata": {
    "collapsed": true
   },
   "outputs": [],
   "source": [
    "fill_values = {'East':0.5, 'West':-1}"
   ]
  },
  {
   "cell_type": "code",
   "execution_count": 204,
   "metadata": {
    "collapsed": true
   },
   "outputs": [],
   "source": [
    "fill_func = lambda g: g.fillna(fill_values[g.name])"
   ]
  },
  {
   "cell_type": "code",
   "execution_count": 205,
   "metadata": {
    "collapsed": false
   },
   "outputs": [
    {
     "data": {
      "text/plain": [
       "Ohio         0.255182\n",
       "New York     0.411025\n",
       "Vermont      0.500000\n",
       "Florida      0.310343\n",
       "Oregon       0.828543\n",
       "Nevada      -1.000000\n",
       "Califonia    0.845606\n",
       "Idaho       -1.000000\n",
       "dtype: float64"
      ]
     },
     "execution_count": 205,
     "metadata": {},
     "output_type": "execute_result"
    }
   ],
   "source": [
    "data.groupby(group_key).apply(fill_func)"
   ]
  },
  {
   "cell_type": "code",
   "execution_count": null,
   "metadata": {
    "collapsed": true
   },
   "outputs": [],
   "source": []
  }
 ],
 "metadata": {
  "kernelspec": {
   "display_name": "Python 2",
   "language": "python",
   "name": "python2"
  },
  "language_info": {
   "codemirror_mode": {
    "name": "ipython",
    "version": 2
   },
   "file_extension": ".py",
   "mimetype": "text/x-python",
   "name": "python",
   "nbconvert_exporter": "python",
   "pygments_lexer": "ipython2",
   "version": "2.7.9"
  }
 },
 "nbformat": 4,
 "nbformat_minor": 0
}
